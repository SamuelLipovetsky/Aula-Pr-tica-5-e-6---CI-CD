{
  "cells": [
    {
      "cell_type": "markdown",
      "metadata": {
        "id": "view-in-github",
        "colab_type": "text"
      },
      "source": [
        "<a href=\"https://colab.research.google.com/github/SamuelLipovetsky/Aula-Pr-tica-5-e-6---CI-CD/blob/main/notebooks/lab07.ipynb\" target=\"_parent\"><img src=\"https://colab.research.google.com/assets/colab-badge.svg\" alt=\"Open In Colab\"/></a>"
      ]
    },
    {
      "cell_type": "code",
      "execution_count": 6,
      "metadata": {
        "colab": {
          "base_uri": "https://localhost:8080/"
        },
        "id": "24Z3lbk00Uwg",
        "outputId": "1e45c4af-7115-4df8-d7f7-114be92a3084"
      },
      "outputs": [
        {
          "output_type": "stream",
          "name": "stdout",
          "text": [
            "Collecting git+https://github.com/flaviovdf/musica.git\n",
            "  Cloning https://github.com/flaviovdf/musica.git to /tmp/pip-req-build-ra9lrp9k\n",
            "  Running command git clone --filter=blob:none --quiet https://github.com/flaviovdf/musica.git /tmp/pip-req-build-ra9lrp9k\n",
            "  Resolved https://github.com/flaviovdf/musica.git to commit 32d10fd5de31f283bf5d9484a43cba67b605b16c\n",
            "  Preparing metadata (setup.py) ... \u001b[?25l\u001b[?25hdone\n",
            "Requirement already satisfied: flax in /usr/local/lib/python3.11/dist-packages (from musica_dcc_ufmg==0.1) (0.10.2)\n",
            "Requirement already satisfied: jax in /usr/local/lib/python3.11/dist-packages (from musica_dcc_ufmg==0.1) (0.4.33)\n",
            "Requirement already satisfied: librosa in /usr/local/lib/python3.11/dist-packages (from musica_dcc_ufmg==0.1) (0.10.2.post1)\n",
            "Requirement already satisfied: matplotlib in /usr/local/lib/python3.11/dist-packages (from musica_dcc_ufmg==0.1) (3.10.0)\n",
            "Requirement already satisfied: music21 in /usr/local/lib/python3.11/dist-packages (from musica_dcc_ufmg==0.1) (9.3.0)\n",
            "Requirement already satisfied: pandas in /usr/local/lib/python3.11/dist-packages (from musica_dcc_ufmg==0.1) (2.2.2)\n",
            "Requirement already satisfied: numpy in /usr/local/lib/python3.11/dist-packages (from musica_dcc_ufmg==0.1) (1.26.4)\n",
            "Requirement already satisfied: scipy in /usr/local/lib/python3.11/dist-packages (from musica_dcc_ufmg==0.1) (1.13.1)\n",
            "Requirement already satisfied: msgpack in /usr/local/lib/python3.11/dist-packages (from flax->musica_dcc_ufmg==0.1) (1.1.0)\n",
            "Requirement already satisfied: optax in /usr/local/lib/python3.11/dist-packages (from flax->musica_dcc_ufmg==0.1) (0.2.4)\n",
            "Requirement already satisfied: orbax-checkpoint in /usr/local/lib/python3.11/dist-packages (from flax->musica_dcc_ufmg==0.1) (0.6.4)\n",
            "Requirement already satisfied: tensorstore in /usr/local/lib/python3.11/dist-packages (from flax->musica_dcc_ufmg==0.1) (0.1.71)\n",
            "Requirement already satisfied: rich>=11.1 in /usr/local/lib/python3.11/dist-packages (from flax->musica_dcc_ufmg==0.1) (13.9.4)\n",
            "Requirement already satisfied: typing-extensions>=4.2 in /usr/local/lib/python3.11/dist-packages (from flax->musica_dcc_ufmg==0.1) (4.12.2)\n",
            "Requirement already satisfied: PyYAML>=5.4.1 in /usr/local/lib/python3.11/dist-packages (from flax->musica_dcc_ufmg==0.1) (6.0.2)\n",
            "Requirement already satisfied: jaxlib<=0.4.33,>=0.4.33 in /usr/local/lib/python3.11/dist-packages (from jax->musica_dcc_ufmg==0.1) (0.4.33)\n",
            "Requirement already satisfied: ml-dtypes>=0.2.0 in /usr/local/lib/python3.11/dist-packages (from jax->musica_dcc_ufmg==0.1) (0.4.1)\n",
            "Requirement already satisfied: opt-einsum in /usr/local/lib/python3.11/dist-packages (from jax->musica_dcc_ufmg==0.1) (3.4.0)\n",
            "Requirement already satisfied: audioread>=2.1.9 in /usr/local/lib/python3.11/dist-packages (from librosa->musica_dcc_ufmg==0.1) (3.0.1)\n",
            "Requirement already satisfied: scikit-learn>=0.20.0 in /usr/local/lib/python3.11/dist-packages (from librosa->musica_dcc_ufmg==0.1) (1.6.1)\n",
            "Requirement already satisfied: joblib>=0.14 in /usr/local/lib/python3.11/dist-packages (from librosa->musica_dcc_ufmg==0.1) (1.4.2)\n",
            "Requirement already satisfied: decorator>=4.3.0 in /usr/local/lib/python3.11/dist-packages (from librosa->musica_dcc_ufmg==0.1) (4.4.2)\n",
            "Requirement already satisfied: numba>=0.51.0 in /usr/local/lib/python3.11/dist-packages (from librosa->musica_dcc_ufmg==0.1) (0.60.0)\n",
            "Requirement already satisfied: soundfile>=0.12.1 in /usr/local/lib/python3.11/dist-packages (from librosa->musica_dcc_ufmg==0.1) (0.13.0)\n",
            "Requirement already satisfied: pooch>=1.1 in /usr/local/lib/python3.11/dist-packages (from librosa->musica_dcc_ufmg==0.1) (1.8.2)\n",
            "Requirement already satisfied: soxr>=0.3.2 in /usr/local/lib/python3.11/dist-packages (from librosa->musica_dcc_ufmg==0.1) (0.5.0.post1)\n",
            "Requirement already satisfied: lazy-loader>=0.1 in /usr/local/lib/python3.11/dist-packages (from librosa->musica_dcc_ufmg==0.1) (0.4)\n",
            "Requirement already satisfied: contourpy>=1.0.1 in /usr/local/lib/python3.11/dist-packages (from matplotlib->musica_dcc_ufmg==0.1) (1.3.1)\n",
            "Requirement already satisfied: cycler>=0.10 in /usr/local/lib/python3.11/dist-packages (from matplotlib->musica_dcc_ufmg==0.1) (0.12.1)\n",
            "Requirement already satisfied: fonttools>=4.22.0 in /usr/local/lib/python3.11/dist-packages (from matplotlib->musica_dcc_ufmg==0.1) (4.55.6)\n",
            "Requirement already satisfied: kiwisolver>=1.3.1 in /usr/local/lib/python3.11/dist-packages (from matplotlib->musica_dcc_ufmg==0.1) (1.4.8)\n",
            "Requirement already satisfied: packaging>=20.0 in /usr/local/lib/python3.11/dist-packages (from matplotlib->musica_dcc_ufmg==0.1) (24.2)\n",
            "Requirement already satisfied: pillow>=8 in /usr/local/lib/python3.11/dist-packages (from matplotlib->musica_dcc_ufmg==0.1) (11.1.0)\n",
            "Requirement already satisfied: pyparsing>=2.3.1 in /usr/local/lib/python3.11/dist-packages (from matplotlib->musica_dcc_ufmg==0.1) (3.2.1)\n",
            "Requirement already satisfied: python-dateutil>=2.7 in /usr/local/lib/python3.11/dist-packages (from matplotlib->musica_dcc_ufmg==0.1) (2.8.2)\n",
            "Requirement already satisfied: chardet in /usr/local/lib/python3.11/dist-packages (from music21->musica_dcc_ufmg==0.1) (5.2.0)\n",
            "Requirement already satisfied: jsonpickle in /usr/local/lib/python3.11/dist-packages (from music21->musica_dcc_ufmg==0.1) (4.0.1)\n",
            "Requirement already satisfied: more-itertools in /usr/local/lib/python3.11/dist-packages (from music21->musica_dcc_ufmg==0.1) (10.5.0)\n",
            "Requirement already satisfied: requests in /usr/local/lib/python3.11/dist-packages (from music21->musica_dcc_ufmg==0.1) (2.32.3)\n",
            "Requirement already satisfied: webcolors>=1.5 in /usr/local/lib/python3.11/dist-packages (from music21->musica_dcc_ufmg==0.1) (24.11.1)\n",
            "Requirement already satisfied: pytz>=2020.1 in /usr/local/lib/python3.11/dist-packages (from pandas->musica_dcc_ufmg==0.1) (2024.2)\n",
            "Requirement already satisfied: tzdata>=2022.7 in /usr/local/lib/python3.11/dist-packages (from pandas->musica_dcc_ufmg==0.1) (2025.1)\n",
            "Requirement already satisfied: llvmlite<0.44,>=0.43.0dev0 in /usr/local/lib/python3.11/dist-packages (from numba>=0.51.0->librosa->musica_dcc_ufmg==0.1) (0.43.0)\n",
            "Requirement already satisfied: platformdirs>=2.5.0 in /usr/local/lib/python3.11/dist-packages (from pooch>=1.1->librosa->musica_dcc_ufmg==0.1) (4.3.6)\n",
            "Requirement already satisfied: six>=1.5 in /usr/local/lib/python3.11/dist-packages (from python-dateutil>=2.7->matplotlib->musica_dcc_ufmg==0.1) (1.17.0)\n",
            "Requirement already satisfied: charset-normalizer<4,>=2 in /usr/local/lib/python3.11/dist-packages (from requests->music21->musica_dcc_ufmg==0.1) (3.4.1)\n",
            "Requirement already satisfied: idna<4,>=2.5 in /usr/local/lib/python3.11/dist-packages (from requests->music21->musica_dcc_ufmg==0.1) (3.10)\n",
            "Requirement already satisfied: urllib3<3,>=1.21.1 in /usr/local/lib/python3.11/dist-packages (from requests->music21->musica_dcc_ufmg==0.1) (2.3.0)\n",
            "Requirement already satisfied: certifi>=2017.4.17 in /usr/local/lib/python3.11/dist-packages (from requests->music21->musica_dcc_ufmg==0.1) (2024.12.14)\n",
            "Requirement already satisfied: markdown-it-py>=2.2.0 in /usr/local/lib/python3.11/dist-packages (from rich>=11.1->flax->musica_dcc_ufmg==0.1) (3.0.0)\n",
            "Requirement already satisfied: pygments<3.0.0,>=2.13.0 in /usr/local/lib/python3.11/dist-packages (from rich>=11.1->flax->musica_dcc_ufmg==0.1) (2.18.0)\n",
            "Requirement already satisfied: threadpoolctl>=3.1.0 in /usr/local/lib/python3.11/dist-packages (from scikit-learn>=0.20.0->librosa->musica_dcc_ufmg==0.1) (3.5.0)\n",
            "Requirement already satisfied: cffi>=1.0 in /usr/local/lib/python3.11/dist-packages (from soundfile>=0.12.1->librosa->musica_dcc_ufmg==0.1) (1.17.1)\n",
            "Requirement already satisfied: absl-py>=0.7.1 in /usr/local/lib/python3.11/dist-packages (from optax->flax->musica_dcc_ufmg==0.1) (1.4.0)\n",
            "Requirement already satisfied: chex>=0.1.87 in /usr/local/lib/python3.11/dist-packages (from optax->flax->musica_dcc_ufmg==0.1) (0.1.88)\n",
            "Requirement already satisfied: etils[epy] in /usr/local/lib/python3.11/dist-packages (from optax->flax->musica_dcc_ufmg==0.1) (1.11.0)\n",
            "Requirement already satisfied: nest_asyncio in /usr/local/lib/python3.11/dist-packages (from orbax-checkpoint->flax->musica_dcc_ufmg==0.1) (1.6.0)\n",
            "Requirement already satisfied: protobuf in /usr/local/lib/python3.11/dist-packages (from orbax-checkpoint->flax->musica_dcc_ufmg==0.1) (4.25.6)\n",
            "Requirement already satisfied: humanize in /usr/local/lib/python3.11/dist-packages (from orbax-checkpoint->flax->musica_dcc_ufmg==0.1) (4.11.0)\n",
            "Requirement already satisfied: pycparser in /usr/local/lib/python3.11/dist-packages (from cffi>=1.0->soundfile>=0.12.1->librosa->musica_dcc_ufmg==0.1) (2.22)\n",
            "Requirement already satisfied: toolz>=0.9.0 in /usr/local/lib/python3.11/dist-packages (from chex>=0.1.87->optax->flax->musica_dcc_ufmg==0.1) (0.12.1)\n",
            "Requirement already satisfied: mdurl~=0.1 in /usr/local/lib/python3.11/dist-packages (from markdown-it-py>=2.2.0->rich>=11.1->flax->musica_dcc_ufmg==0.1) (0.1.2)\n",
            "Requirement already satisfied: fsspec in /usr/local/lib/python3.11/dist-packages (from etils[epath,epy]->orbax-checkpoint->flax->musica_dcc_ufmg==0.1) (2024.10.0)\n",
            "Requirement already satisfied: importlib_resources in /usr/local/lib/python3.11/dist-packages (from etils[epath,epy]->orbax-checkpoint->flax->musica_dcc_ufmg==0.1) (6.5.2)\n",
            "Requirement already satisfied: zipp in /usr/local/lib/python3.11/dist-packages (from etils[epath,epy]->orbax-checkpoint->flax->musica_dcc_ufmg==0.1) (3.21.0)\n"
          ]
        }
      ],
      "source": [
        "# Descomente para executar no colab\n",
        "! pip install git+https://github.com/flaviovdf/musica.git"
      ]
    },
    {
      "cell_type": "markdown",
      "metadata": {
        "id": "C34u1Fk_d855"
      },
      "source": [
        "# Music Auto Tagging (Multi-Label Classification and Metric Learning Approach)\n",
        "\n",
        "\n",
        "Music auto-tagging is an important task that can be used in many musical applications such as music search or recommender systems.\n",
        "\n",
        "Two central methods for representation learning include deep metric learning and classification, both having the same goal of learning a representation that can generalize well across tasks.\n",
        "\n",
        "Your mission is to build your own Neural Network model to represent audio signal. Specifically, the goals of this homework are as follows:\n",
        "\n",
        "* Experiencing the whole pipeline of deep learning based system: data preparation, feature extraction, model training and evaluation\n",
        "* Getting familiar with the Neural Network architectures for music representation\n",
        "* Using Pytorch in practice"
      ]
    },
    {
      "cell_type": "markdown",
      "metadata": {
        "id": "v5i1Y0_-cXv5"
      },
      "source": [
        "# Getting Ready\n",
        "\n",
        "## Preparing The Dataset\n",
        "We use the [magnatagatune](https://mirg.city.ac.uk/codeapps/the-magnatagatune-dataset) dataset which has been the most widely used in the music tagging task.  The MagnaTagATune dataset consists of 25k music\n",
        "clips from 6,622 unique songs.\n",
        "\n",
        "The dataset contains 30-second audio files including 189 different tags\n",
        "For this homework, we are going to use a magnatagatune with 8-second audio and only 50 genres.\n",
        "\n",
        "We use subset of magnatagatune dataset (9074 samples x 8 sec).\n",
        "\n",
        "To make your life easier, place them in a directory as below:\n",
        "\n",
        "```\n",
        "├── annotations_final.csv\n",
        "├── waveform\n",
        "  ├── 1\n",
        "  ├── ...\n",
        "  └── d\n",
        "```"
      ]
    },
    {
      "cell_type": "markdown",
      "metadata": {
        "id": "HMdtGjitcptx"
      },
      "source": [
        "## Importing Packages"
      ]
    },
    {
      "cell_type": "code",
      "execution_count": 7,
      "metadata": {
        "id": "SwAowYXSQSky"
      },
      "outputs": [],
      "source": [
        "from musica import mu_files\n",
        "from musica import mu_plots\n",
        "\n",
        "from glob import glob\n",
        "\n",
        "import flax.linen as nn\n",
        "import jax.numpy as jnp\n",
        "import jax\n",
        "\n",
        "import librosa\n",
        "import matplotlib.pyplot as plt\n",
        "import numpy as np\n",
        "import optax\n",
        "import os\n",
        "import pandas as pd"
      ]
    },
    {
      "cell_type": "code",
      "execution_count": 11,
      "metadata": {
        "colab": {
          "base_uri": "https://localhost:8080/"
        },
        "id": "RSuBYJwKuJiz",
        "outputId": "c347954c-2a8c-445f-9891-fe9b815eaa61"
      },
      "outputs": [
        {
          "output_type": "stream",
          "name": "stdout",
          "text": [
            "files.zip: 300MB [00:18, 16.8MB/s]\n"
          ]
        }
      ],
      "source": [
        "mu_files.download('https://dcc.ufmg.br/~flaviovdf/mir/lab07/files.zip', 'files.zip',\n",
        "             False)\n",
        "mu_files.extract('files.zip', '.')"
      ]
    },
    {
      "cell_type": "code",
      "execution_count": 9,
      "metadata": {
        "colab": {
          "base_uri": "https://localhost:8080/"
        },
        "id": "8hjl2sAfkMhf",
        "outputId": "77b7eb01-f773-4ecf-f5c3-342e3ccb8049"
      },
      "outputs": [
        {
          "output_type": "execute_result",
          "data": {
            "text/plain": [
              "<contextlib.ExitStack at 0x7cef91068dd0>"
            ]
          },
          "metadata": {},
          "execution_count": 9
        }
      ],
      "source": [
        "mu_plots.init_matplotlib()\n",
        "plt.ion()"
      ]
    },
    {
      "cell_type": "markdown",
      "metadata": {
        "id": "NyC0UrXH-Uh6"
      },
      "source": [
        "## Enabling and testing the GPU\n",
        "\n",
        "First, you'll need to enable GPUs for the Colab notebook:\n",
        "\n",
        "- Navigate to Edit (수정) → Notebook Settings (노트 설정)\n",
        "- select GPU from the Hardware Accelerator (하드웨어 가속기) drop-down\n",
        "\n",
        "Next, we'll confirm that we can connect to the GPU with PyTorch and check versions of packages:"
      ]
    },
    {
      "cell_type": "markdown",
      "metadata": {
        "id": "1IrP3qHvQuYi"
      },
      "source": [
        "If the cell above throws an error, then you should enable the GPU following the instruction above!"
      ]
    },
    {
      "cell_type": "markdown",
      "metadata": {
        "id": "yKtCz_FikqbW"
      },
      "source": [
        "# Data Checking\n"
      ]
    },
    {
      "cell_type": "code",
      "execution_count": 12,
      "metadata": {
        "colab": {
          "base_uri": "https://localhost:8080/"
        },
        "id": "eiEOlneUk13L",
        "outputId": "02e5820a-e943-4c73-b062-070d871aae50"
      },
      "outputs": [
        {
          "output_type": "execute_result",
          "data": {
            "text/plain": [
              "(1048, 189)"
            ]
          },
          "metadata": {},
          "execution_count": 12
        }
      ],
      "source": [
        "df = pd.read_csv('subset_magnatune.csv', index_col=0)\n",
        "df.shape"
      ]
    },
    {
      "cell_type": "code",
      "execution_count": 13,
      "metadata": {
        "colab": {
          "base_uri": "https://localhost:8080/",
          "height": 371
        },
        "id": "tACYcVVNmY8R",
        "outputId": "769842bd-6610-4214-c384-9226fbba512f"
      },
      "outputs": [
        {
          "output_type": "execute_result",
          "data": {
            "text/plain": [
              "         no voice  singer  duet  plucking  hard rock  world  bongos  \\\n",
              "clip_id                                                               \n",
              "29              0       0     0         0          0      0       0   \n",
              "105             0       0     0         0          0      0       0   \n",
              "293             0       0     0         0          0      0       0   \n",
              "294             1       0     0         0          0      0       0   \n",
              "303             0       0     0         0          0      0       0   \n",
              "\n",
              "         harpsichord  female singing  clasical  ...  rap  metal  hip hop  \\\n",
              "clip_id                                         ...                        \n",
              "29                 0               0         0  ...    0      0        0   \n",
              "105                0               0         0  ...    0      0        0   \n",
              "293                0               0         0  ...    0      0        0   \n",
              "294                0               0         0  ...    0      0        0   \n",
              "303                0               0         0  ...    0      0        0   \n",
              "\n",
              "         quick  water  baroque  women  fiddle  english  \\\n",
              "clip_id                                                  \n",
              "29           0      0        0      0       0        0   \n",
              "105          0      0        0      0       0        0   \n",
              "293          0      0        0      0       0        0   \n",
              "294          0      0        0      0       0        0   \n",
              "303          0      0        0      0       0        0   \n",
              "\n",
              "                                                  mp3_path  \n",
              "clip_id                                                     \n",
              "29       0/american_bach_soloists-j_s__bach__cantatas_v...  \n",
              "105      0/rocket_city_riot-last_of_the_pleasure_seeker...  \n",
              "293        c/strojovna_07-number_1-01-ambi_crack-59-88.npy  \n",
              "294       c/strojovna_07-number_1-01-ambi_crack-88-117.npy  \n",
              "303      1/ambient_teknology-phoenix-01-ambient_teknolo...  \n",
              "\n",
              "[5 rows x 189 columns]"
            ],
            "text/html": [
              "\n",
              "  <div id=\"df-51b29baa-6c9d-4131-bf1b-c361cabe1dee\" class=\"colab-df-container\">\n",
              "    <div>\n",
              "<style scoped>\n",
              "    .dataframe tbody tr th:only-of-type {\n",
              "        vertical-align: middle;\n",
              "    }\n",
              "\n",
              "    .dataframe tbody tr th {\n",
              "        vertical-align: top;\n",
              "    }\n",
              "\n",
              "    .dataframe thead th {\n",
              "        text-align: right;\n",
              "    }\n",
              "</style>\n",
              "<table border=\"1\" class=\"dataframe\">\n",
              "  <thead>\n",
              "    <tr style=\"text-align: right;\">\n",
              "      <th></th>\n",
              "      <th>no voice</th>\n",
              "      <th>singer</th>\n",
              "      <th>duet</th>\n",
              "      <th>plucking</th>\n",
              "      <th>hard rock</th>\n",
              "      <th>world</th>\n",
              "      <th>bongos</th>\n",
              "      <th>harpsichord</th>\n",
              "      <th>female singing</th>\n",
              "      <th>clasical</th>\n",
              "      <th>...</th>\n",
              "      <th>rap</th>\n",
              "      <th>metal</th>\n",
              "      <th>hip hop</th>\n",
              "      <th>quick</th>\n",
              "      <th>water</th>\n",
              "      <th>baroque</th>\n",
              "      <th>women</th>\n",
              "      <th>fiddle</th>\n",
              "      <th>english</th>\n",
              "      <th>mp3_path</th>\n",
              "    </tr>\n",
              "    <tr>\n",
              "      <th>clip_id</th>\n",
              "      <th></th>\n",
              "      <th></th>\n",
              "      <th></th>\n",
              "      <th></th>\n",
              "      <th></th>\n",
              "      <th></th>\n",
              "      <th></th>\n",
              "      <th></th>\n",
              "      <th></th>\n",
              "      <th></th>\n",
              "      <th></th>\n",
              "      <th></th>\n",
              "      <th></th>\n",
              "      <th></th>\n",
              "      <th></th>\n",
              "      <th></th>\n",
              "      <th></th>\n",
              "      <th></th>\n",
              "      <th></th>\n",
              "      <th></th>\n",
              "      <th></th>\n",
              "    </tr>\n",
              "  </thead>\n",
              "  <tbody>\n",
              "    <tr>\n",
              "      <th>29</th>\n",
              "      <td>0</td>\n",
              "      <td>0</td>\n",
              "      <td>0</td>\n",
              "      <td>0</td>\n",
              "      <td>0</td>\n",
              "      <td>0</td>\n",
              "      <td>0</td>\n",
              "      <td>0</td>\n",
              "      <td>0</td>\n",
              "      <td>0</td>\n",
              "      <td>...</td>\n",
              "      <td>0</td>\n",
              "      <td>0</td>\n",
              "      <td>0</td>\n",
              "      <td>0</td>\n",
              "      <td>0</td>\n",
              "      <td>0</td>\n",
              "      <td>0</td>\n",
              "      <td>0</td>\n",
              "      <td>0</td>\n",
              "      <td>0/american_bach_soloists-j_s__bach__cantatas_v...</td>\n",
              "    </tr>\n",
              "    <tr>\n",
              "      <th>105</th>\n",
              "      <td>0</td>\n",
              "      <td>0</td>\n",
              "      <td>0</td>\n",
              "      <td>0</td>\n",
              "      <td>0</td>\n",
              "      <td>0</td>\n",
              "      <td>0</td>\n",
              "      <td>0</td>\n",
              "      <td>0</td>\n",
              "      <td>0</td>\n",
              "      <td>...</td>\n",
              "      <td>0</td>\n",
              "      <td>0</td>\n",
              "      <td>0</td>\n",
              "      <td>0</td>\n",
              "      <td>0</td>\n",
              "      <td>0</td>\n",
              "      <td>0</td>\n",
              "      <td>0</td>\n",
              "      <td>0</td>\n",
              "      <td>0/rocket_city_riot-last_of_the_pleasure_seeker...</td>\n",
              "    </tr>\n",
              "    <tr>\n",
              "      <th>293</th>\n",
              "      <td>0</td>\n",
              "      <td>0</td>\n",
              "      <td>0</td>\n",
              "      <td>0</td>\n",
              "      <td>0</td>\n",
              "      <td>0</td>\n",
              "      <td>0</td>\n",
              "      <td>0</td>\n",
              "      <td>0</td>\n",
              "      <td>0</td>\n",
              "      <td>...</td>\n",
              "      <td>0</td>\n",
              "      <td>0</td>\n",
              "      <td>0</td>\n",
              "      <td>0</td>\n",
              "      <td>0</td>\n",
              "      <td>0</td>\n",
              "      <td>0</td>\n",
              "      <td>0</td>\n",
              "      <td>0</td>\n",
              "      <td>c/strojovna_07-number_1-01-ambi_crack-59-88.npy</td>\n",
              "    </tr>\n",
              "    <tr>\n",
              "      <th>294</th>\n",
              "      <td>1</td>\n",
              "      <td>0</td>\n",
              "      <td>0</td>\n",
              "      <td>0</td>\n",
              "      <td>0</td>\n",
              "      <td>0</td>\n",
              "      <td>0</td>\n",
              "      <td>0</td>\n",
              "      <td>0</td>\n",
              "      <td>0</td>\n",
              "      <td>...</td>\n",
              "      <td>0</td>\n",
              "      <td>0</td>\n",
              "      <td>0</td>\n",
              "      <td>0</td>\n",
              "      <td>0</td>\n",
              "      <td>0</td>\n",
              "      <td>0</td>\n",
              "      <td>0</td>\n",
              "      <td>0</td>\n",
              "      <td>c/strojovna_07-number_1-01-ambi_crack-88-117.npy</td>\n",
              "    </tr>\n",
              "    <tr>\n",
              "      <th>303</th>\n",
              "      <td>0</td>\n",
              "      <td>0</td>\n",
              "      <td>0</td>\n",
              "      <td>0</td>\n",
              "      <td>0</td>\n",
              "      <td>0</td>\n",
              "      <td>0</td>\n",
              "      <td>0</td>\n",
              "      <td>0</td>\n",
              "      <td>0</td>\n",
              "      <td>...</td>\n",
              "      <td>0</td>\n",
              "      <td>0</td>\n",
              "      <td>0</td>\n",
              "      <td>0</td>\n",
              "      <td>0</td>\n",
              "      <td>0</td>\n",
              "      <td>0</td>\n",
              "      <td>0</td>\n",
              "      <td>0</td>\n",
              "      <td>1/ambient_teknology-phoenix-01-ambient_teknolo...</td>\n",
              "    </tr>\n",
              "  </tbody>\n",
              "</table>\n",
              "<p>5 rows × 189 columns</p>\n",
              "</div>\n",
              "    <div class=\"colab-df-buttons\">\n",
              "\n",
              "  <div class=\"colab-df-container\">\n",
              "    <button class=\"colab-df-convert\" onclick=\"convertToInteractive('df-51b29baa-6c9d-4131-bf1b-c361cabe1dee')\"\n",
              "            title=\"Convert this dataframe to an interactive table.\"\n",
              "            style=\"display:none;\">\n",
              "\n",
              "  <svg xmlns=\"http://www.w3.org/2000/svg\" height=\"24px\" viewBox=\"0 -960 960 960\">\n",
              "    <path d=\"M120-120v-720h720v720H120Zm60-500h600v-160H180v160Zm220 220h160v-160H400v160Zm0 220h160v-160H400v160ZM180-400h160v-160H180v160Zm440 0h160v-160H620v160ZM180-180h160v-160H180v160Zm440 0h160v-160H620v160Z\"/>\n",
              "  </svg>\n",
              "    </button>\n",
              "\n",
              "  <style>\n",
              "    .colab-df-container {\n",
              "      display:flex;\n",
              "      gap: 12px;\n",
              "    }\n",
              "\n",
              "    .colab-df-convert {\n",
              "      background-color: #E8F0FE;\n",
              "      border: none;\n",
              "      border-radius: 50%;\n",
              "      cursor: pointer;\n",
              "      display: none;\n",
              "      fill: #1967D2;\n",
              "      height: 32px;\n",
              "      padding: 0 0 0 0;\n",
              "      width: 32px;\n",
              "    }\n",
              "\n",
              "    .colab-df-convert:hover {\n",
              "      background-color: #E2EBFA;\n",
              "      box-shadow: 0px 1px 2px rgba(60, 64, 67, 0.3), 0px 1px 3px 1px rgba(60, 64, 67, 0.15);\n",
              "      fill: #174EA6;\n",
              "    }\n",
              "\n",
              "    .colab-df-buttons div {\n",
              "      margin-bottom: 4px;\n",
              "    }\n",
              "\n",
              "    [theme=dark] .colab-df-convert {\n",
              "      background-color: #3B4455;\n",
              "      fill: #D2E3FC;\n",
              "    }\n",
              "\n",
              "    [theme=dark] .colab-df-convert:hover {\n",
              "      background-color: #434B5C;\n",
              "      box-shadow: 0px 1px 3px 1px rgba(0, 0, 0, 0.15);\n",
              "      filter: drop-shadow(0px 1px 2px rgba(0, 0, 0, 0.3));\n",
              "      fill: #FFFFFF;\n",
              "    }\n",
              "  </style>\n",
              "\n",
              "    <script>\n",
              "      const buttonEl =\n",
              "        document.querySelector('#df-51b29baa-6c9d-4131-bf1b-c361cabe1dee button.colab-df-convert');\n",
              "      buttonEl.style.display =\n",
              "        google.colab.kernel.accessAllowed ? 'block' : 'none';\n",
              "\n",
              "      async function convertToInteractive(key) {\n",
              "        const element = document.querySelector('#df-51b29baa-6c9d-4131-bf1b-c361cabe1dee');\n",
              "        const dataTable =\n",
              "          await google.colab.kernel.invokeFunction('convertToInteractive',\n",
              "                                                    [key], {});\n",
              "        if (!dataTable) return;\n",
              "\n",
              "        const docLinkHtml = 'Like what you see? Visit the ' +\n",
              "          '<a target=\"_blank\" href=https://colab.research.google.com/notebooks/data_table.ipynb>data table notebook</a>'\n",
              "          + ' to learn more about interactive tables.';\n",
              "        element.innerHTML = '';\n",
              "        dataTable['output_type'] = 'display_data';\n",
              "        await google.colab.output.renderOutput(dataTable, element);\n",
              "        const docLink = document.createElement('div');\n",
              "        docLink.innerHTML = docLinkHtml;\n",
              "        element.appendChild(docLink);\n",
              "      }\n",
              "    </script>\n",
              "  </div>\n",
              "\n",
              "\n",
              "<div id=\"df-99455e21-6530-48b8-89da-e504d4b6d965\">\n",
              "  <button class=\"colab-df-quickchart\" onclick=\"quickchart('df-99455e21-6530-48b8-89da-e504d4b6d965')\"\n",
              "            title=\"Suggest charts\"\n",
              "            style=\"display:none;\">\n",
              "\n",
              "<svg xmlns=\"http://www.w3.org/2000/svg\" height=\"24px\"viewBox=\"0 0 24 24\"\n",
              "     width=\"24px\">\n",
              "    <g>\n",
              "        <path d=\"M19 3H5c-1.1 0-2 .9-2 2v14c0 1.1.9 2 2 2h14c1.1 0 2-.9 2-2V5c0-1.1-.9-2-2-2zM9 17H7v-7h2v7zm4 0h-2V7h2v10zm4 0h-2v-4h2v4z\"/>\n",
              "    </g>\n",
              "</svg>\n",
              "  </button>\n",
              "\n",
              "<style>\n",
              "  .colab-df-quickchart {\n",
              "      --bg-color: #E8F0FE;\n",
              "      --fill-color: #1967D2;\n",
              "      --hover-bg-color: #E2EBFA;\n",
              "      --hover-fill-color: #174EA6;\n",
              "      --disabled-fill-color: #AAA;\n",
              "      --disabled-bg-color: #DDD;\n",
              "  }\n",
              "\n",
              "  [theme=dark] .colab-df-quickchart {\n",
              "      --bg-color: #3B4455;\n",
              "      --fill-color: #D2E3FC;\n",
              "      --hover-bg-color: #434B5C;\n",
              "      --hover-fill-color: #FFFFFF;\n",
              "      --disabled-bg-color: #3B4455;\n",
              "      --disabled-fill-color: #666;\n",
              "  }\n",
              "\n",
              "  .colab-df-quickchart {\n",
              "    background-color: var(--bg-color);\n",
              "    border: none;\n",
              "    border-radius: 50%;\n",
              "    cursor: pointer;\n",
              "    display: none;\n",
              "    fill: var(--fill-color);\n",
              "    height: 32px;\n",
              "    padding: 0;\n",
              "    width: 32px;\n",
              "  }\n",
              "\n",
              "  .colab-df-quickchart:hover {\n",
              "    background-color: var(--hover-bg-color);\n",
              "    box-shadow: 0 1px 2px rgba(60, 64, 67, 0.3), 0 1px 3px 1px rgba(60, 64, 67, 0.15);\n",
              "    fill: var(--button-hover-fill-color);\n",
              "  }\n",
              "\n",
              "  .colab-df-quickchart-complete:disabled,\n",
              "  .colab-df-quickchart-complete:disabled:hover {\n",
              "    background-color: var(--disabled-bg-color);\n",
              "    fill: var(--disabled-fill-color);\n",
              "    box-shadow: none;\n",
              "  }\n",
              "\n",
              "  .colab-df-spinner {\n",
              "    border: 2px solid var(--fill-color);\n",
              "    border-color: transparent;\n",
              "    border-bottom-color: var(--fill-color);\n",
              "    animation:\n",
              "      spin 1s steps(1) infinite;\n",
              "  }\n",
              "\n",
              "  @keyframes spin {\n",
              "    0% {\n",
              "      border-color: transparent;\n",
              "      border-bottom-color: var(--fill-color);\n",
              "      border-left-color: var(--fill-color);\n",
              "    }\n",
              "    20% {\n",
              "      border-color: transparent;\n",
              "      border-left-color: var(--fill-color);\n",
              "      border-top-color: var(--fill-color);\n",
              "    }\n",
              "    30% {\n",
              "      border-color: transparent;\n",
              "      border-left-color: var(--fill-color);\n",
              "      border-top-color: var(--fill-color);\n",
              "      border-right-color: var(--fill-color);\n",
              "    }\n",
              "    40% {\n",
              "      border-color: transparent;\n",
              "      border-right-color: var(--fill-color);\n",
              "      border-top-color: var(--fill-color);\n",
              "    }\n",
              "    60% {\n",
              "      border-color: transparent;\n",
              "      border-right-color: var(--fill-color);\n",
              "    }\n",
              "    80% {\n",
              "      border-color: transparent;\n",
              "      border-right-color: var(--fill-color);\n",
              "      border-bottom-color: var(--fill-color);\n",
              "    }\n",
              "    90% {\n",
              "      border-color: transparent;\n",
              "      border-bottom-color: var(--fill-color);\n",
              "    }\n",
              "  }\n",
              "</style>\n",
              "\n",
              "  <script>\n",
              "    async function quickchart(key) {\n",
              "      const quickchartButtonEl =\n",
              "        document.querySelector('#' + key + ' button');\n",
              "      quickchartButtonEl.disabled = true;  // To prevent multiple clicks.\n",
              "      quickchartButtonEl.classList.add('colab-df-spinner');\n",
              "      try {\n",
              "        const charts = await google.colab.kernel.invokeFunction(\n",
              "            'suggestCharts', [key], {});\n",
              "      } catch (error) {\n",
              "        console.error('Error during call to suggestCharts:', error);\n",
              "      }\n",
              "      quickchartButtonEl.classList.remove('colab-df-spinner');\n",
              "      quickchartButtonEl.classList.add('colab-df-quickchart-complete');\n",
              "    }\n",
              "    (() => {\n",
              "      let quickchartButtonEl =\n",
              "        document.querySelector('#df-99455e21-6530-48b8-89da-e504d4b6d965 button');\n",
              "      quickchartButtonEl.style.display =\n",
              "        google.colab.kernel.accessAllowed ? 'block' : 'none';\n",
              "    })();\n",
              "  </script>\n",
              "</div>\n",
              "\n",
              "    </div>\n",
              "  </div>\n"
            ],
            "application/vnd.google.colaboratory.intrinsic+json": {
              "type": "dataframe",
              "variable_name": "df"
            }
          },
          "metadata": {},
          "execution_count": 13
        }
      ],
      "source": [
        "df.head()"
      ]
    },
    {
      "cell_type": "code",
      "execution_count": 14,
      "metadata": {
        "colab": {
          "base_uri": "https://localhost:8080/",
          "height": 1000
        },
        "id": "mLEyujG_k_pm",
        "outputId": "7e4d92c8-fcee-4618-eb3c-f94e3a8351bc"
      },
      "outputs": [
        {
          "output_type": "execute_result",
          "data": {
            "text/plain": [
              "[Text(0, 0.5, 'Frequência')]"
            ]
          },
          "metadata": {},
          "execution_count": 14
        },
        {
          "output_type": "display_data",
          "data": {
            "text/plain": [
              "<Figure size 1600x1000 with 1 Axes>"
            ],
            "image/png": "[encoded data removed]"
          },
          "metadata": {}
        }
      ],
      "source": [
        "_, ax = plt.subplots(1, 1)\n",
        "(df.iloc[:, :-1].sum().\n",
        " sort_values(ascending=False)[:50].\n",
        " plot.bar(ax=ax, rot=90, edgecolor='k')\n",
        ")\n",
        "ax.set(ylabel='Frequência')"
      ]
    },
    {
      "cell_type": "code",
      "execution_count": 15,
      "metadata": {
        "colab": {
          "base_uri": "https://localhost:8080/"
        },
        "id": "qZWblXe6eLf8",
        "outputId": "7636bc02-065f-4c35-c456-fb2497c76048"
      },
      "outputs": [
        {
          "output_type": "execute_result",
          "data": {
            "text/plain": [
              "Index(['guitar', 'classical', 'slow', 'techno', 'drums', 'fast', 'electronic',\n",
              "       'piano', 'strings', 'rock', 'beat', 'ambient', 'violin', 'vocal',\n",
              "       'harpsichord', 'synth', 'no vocals', 'indian', 'female', 'flute',\n",
              "       'loud', 'quiet', 'opera', 'sitar', 'male', 'no vocal', 'solo', 'vocals',\n",
              "       'singing', 'male vocal', 'soft', 'no voice', 'woman', 'choir', 'pop',\n",
              "       'beats', 'classic', 'harp', 'dance', 'electro', 'man', 'harpsicord',\n",
              "       'country', 'male voice', 'choral', 'metal', 'drum', 'cello', 'voice',\n",
              "       'female vocal'],\n",
              "      dtype='object')"
            ]
          },
          "metadata": {},
          "execution_count": 15
        }
      ],
      "source": [
        "top = (df.iloc[:, :-1].sum().\n",
        "       sort_values(ascending=False)[:50]).index\n",
        "top"
      ]
    },
    {
      "cell_type": "code",
      "execution_count": 16,
      "metadata": {
        "colab": {
          "base_uri": "https://localhost:8080/"
        },
        "id": "FcWppilceXD9",
        "outputId": "4d5e432c-cef6-4e62-be4a-b04e81251685"
      },
      "outputs": [
        {
          "output_type": "execute_result",
          "data": {
            "text/plain": [
              "(1048, 51)"
            ]
          },
          "metadata": {},
          "execution_count": 16
        }
      ],
      "source": [
        "df = df[[c for c in top] + ['mp3_path']]\n",
        "df.shape"
      ]
    },
    {
      "cell_type": "code",
      "execution_count": 17,
      "metadata": {
        "colab": {
          "base_uri": "https://localhost:8080/",
          "height": 371
        },
        "id": "fCMf0Tu2egDs",
        "outputId": "f707ce6d-ebd4-4bfb-a36d-e8f52d79614d"
      },
      "outputs": [
        {
          "output_type": "execute_result",
          "data": {
            "text/plain": [
              "         guitar  classical  slow  techno  drums  fast  electronic  piano  \\\n",
              "clip_id                                                                    \n",
              "29            0          1     0       0      0     0           0      0   \n",
              "105           1          0     0       0      0     1           0      0   \n",
              "293           0          0     0       1      1     0           0      0   \n",
              "294           0          0     0       1      0     0           0      0   \n",
              "303           0          0     0       1      0     1           1      0   \n",
              "\n",
              "         strings  rock  ...  harpsicord  country  male voice  choral  metal  \\\n",
              "clip_id                 ...                                                   \n",
              "29             0     0  ...           0        0           0       0      0   \n",
              "105            0     1  ...           0        0           0       0      0   \n",
              "293            0     0  ...           0        0           0       0      0   \n",
              "294            0     0  ...           0        0           0       0      0   \n",
              "303            0     0  ...           0        0           0       0      0   \n",
              "\n",
              "         drum  cello  voice  female vocal  \\\n",
              "clip_id                                     \n",
              "29          0      0      0             0   \n",
              "105         0      0      0             0   \n",
              "293         0      0      0             0   \n",
              "294         0      0      0             0   \n",
              "303         0      0      0             0   \n",
              "\n",
              "                                                  mp3_path  \n",
              "clip_id                                                     \n",
              "29       0/american_bach_soloists-j_s__bach__cantatas_v...  \n",
              "105      0/rocket_city_riot-last_of_the_pleasure_seeker...  \n",
              "293        c/strojovna_07-number_1-01-ambi_crack-59-88.npy  \n",
              "294       c/strojovna_07-number_1-01-ambi_crack-88-117.npy  \n",
              "303      1/ambient_teknology-phoenix-01-ambient_teknolo...  \n",
              "\n",
              "[5 rows x 51 columns]"
            ],
            "text/html": [
              "\n",
              "  <div id=\"df-2ba8052d-a3dd-4063-93e1-8630d5ed7eaa\" class=\"colab-df-container\">\n",
              "    <div>\n",
              "<style scoped>\n",
              "    .dataframe tbody tr th:only-of-type {\n",
              "        vertical-align: middle;\n",
              "    }\n",
              "\n",
              "    .dataframe tbody tr th {\n",
              "        vertical-align: top;\n",
              "    }\n",
              "\n",
              "    .dataframe thead th {\n",
              "        text-align: right;\n",
              "    }\n",
              "</style>\n",
              "<table border=\"1\" class=\"dataframe\">\n",
              "  <thead>\n",
              "    <tr style=\"text-align: right;\">\n",
              "      <th></th>\n",
              "      <th>guitar</th>\n",
              "      <th>classical</th>\n",
              "      <th>slow</th>\n",
              "      <th>techno</th>\n",
              "      <th>drums</th>\n",
              "      <th>fast</th>\n",
              "      <th>electronic</th>\n",
              "      <th>piano</th>\n",
              "      <th>strings</th>\n",
              "      <th>rock</th>\n",
              "      <th>...</th>\n",
              "      <th>harpsicord</th>\n",
              "      <th>country</th>\n",
              "      <th>male voice</th>\n",
              "      <th>choral</th>\n",
              "      <th>metal</th>\n",
              "      <th>drum</th>\n",
              "      <th>cello</th>\n",
              "      <th>voice</th>\n",
              "      <th>female vocal</th>\n",
              "      <th>mp3_path</th>\n",
              "    </tr>\n",
              "    <tr>\n",
              "      <th>clip_id</th>\n",
              "      <th></th>\n",
              "      <th></th>\n",
              "      <th></th>\n",
              "      <th></th>\n",
              "      <th></th>\n",
              "      <th></th>\n",
              "      <th></th>\n",
              "      <th></th>\n",
              "      <th></th>\n",
              "      <th></th>\n",
              "      <th></th>\n",
              "      <th></th>\n",
              "      <th></th>\n",
              "      <th></th>\n",
              "      <th></th>\n",
              "      <th></th>\n",
              "      <th></th>\n",
              "      <th></th>\n",
              "      <th></th>\n",
              "      <th></th>\n",
              "      <th></th>\n",
              "    </tr>\n",
              "  </thead>\n",
              "  <tbody>\n",
              "    <tr>\n",
              "      <th>29</th>\n",
              "      <td>0</td>\n",
              "      <td>1</td>\n",
              "      <td>0</td>\n",
              "      <td>0</td>\n",
              "      <td>0</td>\n",
              "      <td>0</td>\n",
              "      <td>0</td>\n",
              "      <td>0</td>\n",
              "      <td>0</td>\n",
              "      <td>0</td>\n",
              "      <td>...</td>\n",
              "      <td>0</td>\n",
              "      <td>0</td>\n",
              "      <td>0</td>\n",
              "      <td>0</td>\n",
              "      <td>0</td>\n",
              "      <td>0</td>\n",
              "      <td>0</td>\n",
              "      <td>0</td>\n",
              "      <td>0</td>\n",
              "      <td>0/american_bach_soloists-j_s__bach__cantatas_v...</td>\n",
              "    </tr>\n",
              "    <tr>\n",
              "      <th>105</th>\n",
              "      <td>1</td>\n",
              "      <td>0</td>\n",
              "      <td>0</td>\n",
              "      <td>0</td>\n",
              "      <td>0</td>\n",
              "      <td>1</td>\n",
              "      <td>0</td>\n",
              "      <td>0</td>\n",
              "      <td>0</td>\n",
              "      <td>1</td>\n",
              "      <td>...</td>\n",
              "      <td>0</td>\n",
              "      <td>0</td>\n",
              "      <td>0</td>\n",
              "      <td>0</td>\n",
              "      <td>0</td>\n",
              "      <td>0</td>\n",
              "      <td>0</td>\n",
              "      <td>0</td>\n",
              "      <td>0</td>\n",
              "      <td>0/rocket_city_riot-last_of_the_pleasure_seeker...</td>\n",
              "    </tr>\n",
              "    <tr>\n",
              "      <th>293</th>\n",
              "      <td>0</td>\n",
              "      <td>0</td>\n",
              "      <td>0</td>\n",
              "      <td>1</td>\n",
              "      <td>1</td>\n",
              "      <td>0</td>\n",
              "      <td>0</td>\n",
              "      <td>0</td>\n",
              "      <td>0</td>\n",
              "      <td>0</td>\n",
              "      <td>...</td>\n",
              "      <td>0</td>\n",
              "      <td>0</td>\n",
              "      <td>0</td>\n",
              "      <td>0</td>\n",
              "      <td>0</td>\n",
              "      <td>0</td>\n",
              "      <td>0</td>\n",
              "      <td>0</td>\n",
              "      <td>0</td>\n",
              "      <td>c/strojovna_07-number_1-01-ambi_crack-59-88.npy</td>\n",
              "    </tr>\n",
              "    <tr>\n",
              "      <th>294</th>\n",
              "      <td>0</td>\n",
              "      <td>0</td>\n",
              "      <td>0</td>\n",
              "      <td>1</td>\n",
              "      <td>0</td>\n",
              "      <td>0</td>\n",
              "      <td>0</td>\n",
              "      <td>0</td>\n",
              "      <td>0</td>\n",
              "      <td>0</td>\n",
              "      <td>...</td>\n",
              "      <td>0</td>\n",
              "      <td>0</td>\n",
              "      <td>0</td>\n",
              "      <td>0</td>\n",
              "      <td>0</td>\n",
              "      <td>0</td>\n",
              "      <td>0</td>\n",
              "      <td>0</td>\n",
              "      <td>0</td>\n",
              "      <td>c/strojovna_07-number_1-01-ambi_crack-88-117.npy</td>\n",
              "    </tr>\n",
              "    <tr>\n",
              "      <th>303</th>\n",
              "      <td>0</td>\n",
              "      <td>0</td>\n",
              "      <td>0</td>\n",
              "      <td>1</td>\n",
              "      <td>0</td>\n",
              "      <td>1</td>\n",
              "      <td>1</td>\n",
              "      <td>0</td>\n",
              "      <td>0</td>\n",
              "      <td>0</td>\n",
              "      <td>...</td>\n",
              "      <td>0</td>\n",
              "      <td>0</td>\n",
              "      <td>0</td>\n",
              "      <td>0</td>\n",
              "      <td>0</td>\n",
              "      <td>0</td>\n",
              "      <td>0</td>\n",
              "      <td>0</td>\n",
              "      <td>0</td>\n",
              "      <td>1/ambient_teknology-phoenix-01-ambient_teknolo...</td>\n",
              "    </tr>\n",
              "  </tbody>\n",
              "</table>\n",
              "<p>5 rows × 51 columns</p>\n",
              "</div>\n",
              "    <div class=\"colab-df-buttons\">\n",
              "\n",
              "  <div class=\"colab-df-container\">\n",
              "    <button class=\"colab-df-convert\" onclick=\"convertToInteractive('df-2ba8052d-a3dd-4063-93e1-8630d5ed7eaa')\"\n",
              "            title=\"Convert this dataframe to an interactive table.\"\n",
              "            style=\"display:none;\">\n",
              "\n",
              "  <svg xmlns=\"http://www.w3.org/2000/svg\" height=\"24px\" viewBox=\"0 -960 960 960\">\n",
              "    <path d=\"M120-120v-720h720v720H120Zm60-500h600v-160H180v160Zm220 220h160v-160H400v160Zm0 220h160v-160H400v160ZM180-400h160v-160H180v160Zm440 0h160v-160H620v160ZM180-180h160v-160H180v160Zm440 0h160v-160H620v160Z\"/>\n",
              "  </svg>\n",
              "    </button>\n",
              "\n",
              "  <style>\n",
              "    .colab-df-container {\n",
              "      display:flex;\n",
              "      gap: 12px;\n",
              "    }\n",
              "\n",
              "    .colab-df-convert {\n",
              "      background-color: #E8F0FE;\n",
              "      border: none;\n",
              "      border-radius: 50%;\n",
              "      cursor: pointer;\n",
              "      display: none;\n",
              "      fill: #1967D2;\n",
              "      height: 32px;\n",
              "      padding: 0 0 0 0;\n",
              "      width: 32px;\n",
              "    }\n",
              "\n",
              "    .colab-df-convert:hover {\n",
              "      background-color: #E2EBFA;\n",
              "      box-shadow: 0px 1px 2px rgba(60, 64, 67, 0.3), 0px 1px 3px 1px rgba(60, 64, 67, 0.15);\n",
              "      fill: #174EA6;\n",
              "    }\n",
              "\n",
              "    .colab-df-buttons div {\n",
              "      margin-bottom: 4px;\n",
              "    }\n",
              "\n",
              "    [theme=dark] .colab-df-convert {\n",
              "      background-color: #3B4455;\n",
              "      fill: #D2E3FC;\n",
              "    }\n",
              "\n",
              "    [theme=dark] .colab-df-convert:hover {\n",
              "      background-color: #434B5C;\n",
              "      box-shadow: 0px 1px 3px 1px rgba(0, 0, 0, 0.15);\n",
              "      filter: drop-shadow(0px 1px 2px rgba(0, 0, 0, 0.3));\n",
              "      fill: #FFFFFF;\n",
              "    }\n",
              "  </style>\n",
              "\n",
              "    <script>\n",
              "      const buttonEl =\n",
              "        document.querySelector('#df-2ba8052d-a3dd-4063-93e1-8630d5ed7eaa button.colab-df-convert');\n",
              "      buttonEl.style.display =\n",
              "        google.colab.kernel.accessAllowed ? 'block' : 'none';\n",
              "\n",
              "      async function convertToInteractive(key) {\n",
              "        const element = document.querySelector('#df-2ba8052d-a3dd-4063-93e1-8630d5ed7eaa');\n",
              "        const dataTable =\n",
              "          await google.colab.kernel.invokeFunction('convertToInteractive',\n",
              "                                                    [key], {});\n",
              "        if (!dataTable) return;\n",
              "\n",
              "        const docLinkHtml = 'Like what you see? Visit the ' +\n",
              "          '<a target=\"_blank\" href=https://colab.research.google.com/notebooks/data_table.ipynb>data table notebook</a>'\n",
              "          + ' to learn more about interactive tables.';\n",
              "        element.innerHTML = '';\n",
              "        dataTable['output_type'] = 'display_data';\n",
              "        await google.colab.output.renderOutput(dataTable, element);\n",
              "        const docLink = document.createElement('div');\n",
              "        docLink.innerHTML = docLinkHtml;\n",
              "        element.appendChild(docLink);\n",
              "      }\n",
              "    </script>\n",
              "  </div>\n",
              "\n",
              "\n",
              "<div id=\"df-b953f7b1-230c-437f-a6d3-e4b67142de0f\">\n",
              "  <button class=\"colab-df-quickchart\" onclick=\"quickchart('df-b953f7b1-230c-437f-a6d3-e4b67142de0f')\"\n",
              "            title=\"Suggest charts\"\n",
              "            style=\"display:none;\">\n",
              "\n",
              "<svg xmlns=\"http://www.w3.org/2000/svg\" height=\"24px\"viewBox=\"0 0 24 24\"\n",
              "     width=\"24px\">\n",
              "    <g>\n",
              "        <path d=\"M19 3H5c-1.1 0-2 .9-2 2v14c0 1.1.9 2 2 2h14c1.1 0 2-.9 2-2V5c0-1.1-.9-2-2-2zM9 17H7v-7h2v7zm4 0h-2V7h2v10zm4 0h-2v-4h2v4z\"/>\n",
              "    </g>\n",
              "</svg>\n",
              "  </button>\n",
              "\n",
              "<style>\n",
              "  .colab-df-quickchart {\n",
              "      --bg-color: #E8F0FE;\n",
              "      --fill-color: #1967D2;\n",
              "      --hover-bg-color: #E2EBFA;\n",
              "      --hover-fill-color: #174EA6;\n",
              "      --disabled-fill-color: #AAA;\n",
              "      --disabled-bg-color: #DDD;\n",
              "  }\n",
              "\n",
              "  [theme=dark] .colab-df-quickchart {\n",
              "      --bg-color: #3B4455;\n",
              "      --fill-color: #D2E3FC;\n",
              "      --hover-bg-color: #434B5C;\n",
              "      --hover-fill-color: #FFFFFF;\n",
              "      --disabled-bg-color: #3B4455;\n",
              "      --disabled-fill-color: #666;\n",
              "  }\n",
              "\n",
              "  .colab-df-quickchart {\n",
              "    background-color: var(--bg-color);\n",
              "    border: none;\n",
              "    border-radius: 50%;\n",
              "    cursor: pointer;\n",
              "    display: none;\n",
              "    fill: var(--fill-color);\n",
              "    height: 32px;\n",
              "    padding: 0;\n",
              "    width: 32px;\n",
              "  }\n",
              "\n",
              "  .colab-df-quickchart:hover {\n",
              "    background-color: var(--hover-bg-color);\n",
              "    box-shadow: 0 1px 2px rgba(60, 64, 67, 0.3), 0 1px 3px 1px rgba(60, 64, 67, 0.15);\n",
              "    fill: var(--button-hover-fill-color);\n",
              "  }\n",
              "\n",
              "  .colab-df-quickchart-complete:disabled,\n",
              "  .colab-df-quickchart-complete:disabled:hover {\n",
              "    background-color: var(--disabled-bg-color);\n",
              "    fill: var(--disabled-fill-color);\n",
              "    box-shadow: none;\n",
              "  }\n",
              "\n",
              "  .colab-df-spinner {\n",
              "    border: 2px solid var(--fill-color);\n",
              "    border-color: transparent;\n",
              "    border-bottom-color: var(--fill-color);\n",
              "    animation:\n",
              "      spin 1s steps(1) infinite;\n",
              "  }\n",
              "\n",
              "  @keyframes spin {\n",
              "    0% {\n",
              "      border-color: transparent;\n",
              "      border-bottom-color: var(--fill-color);\n",
              "      border-left-color: var(--fill-color);\n",
              "    }\n",
              "    20% {\n",
              "      border-color: transparent;\n",
              "      border-left-color: var(--fill-color);\n",
              "      border-top-color: var(--fill-color);\n",
              "    }\n",
              "    30% {\n",
              "      border-color: transparent;\n",
              "      border-left-color: var(--fill-color);\n",
              "      border-top-color: var(--fill-color);\n",
              "      border-right-color: var(--fill-color);\n",
              "    }\n",
              "    40% {\n",
              "      border-color: transparent;\n",
              "      border-right-color: var(--fill-color);\n",
              "      border-top-color: var(--fill-color);\n",
              "    }\n",
              "    60% {\n",
              "      border-color: transparent;\n",
              "      border-right-color: var(--fill-color);\n",
              "    }\n",
              "    80% {\n",
              "      border-color: transparent;\n",
              "      border-right-color: var(--fill-color);\n",
              "      border-bottom-color: var(--fill-color);\n",
              "    }\n",
              "    90% {\n",
              "      border-color: transparent;\n",
              "      border-bottom-color: var(--fill-color);\n",
              "    }\n",
              "  }\n",
              "</style>\n",
              "\n",
              "  <script>\n",
              "    async function quickchart(key) {\n",
              "      const quickchartButtonEl =\n",
              "        document.querySelector('#' + key + ' button');\n",
              "      quickchartButtonEl.disabled = true;  // To prevent multiple clicks.\n",
              "      quickchartButtonEl.classList.add('colab-df-spinner');\n",
              "      try {\n",
              "        const charts = await google.colab.kernel.invokeFunction(\n",
              "            'suggestCharts', [key], {});\n",
              "      } catch (error) {\n",
              "        console.error('Error during call to suggestCharts:', error);\n",
              "      }\n",
              "      quickchartButtonEl.classList.remove('colab-df-spinner');\n",
              "      quickchartButtonEl.classList.add('colab-df-quickchart-complete');\n",
              "    }\n",
              "    (() => {\n",
              "      let quickchartButtonEl =\n",
              "        document.querySelector('#df-b953f7b1-230c-437f-a6d3-e4b67142de0f button');\n",
              "      quickchartButtonEl.style.display =\n",
              "        google.colab.kernel.accessAllowed ? 'block' : 'none';\n",
              "    })();\n",
              "  </script>\n",
              "</div>\n",
              "\n",
              "    </div>\n",
              "  </div>\n"
            ],
            "application/vnd.google.colaboratory.intrinsic+json": {
              "type": "dataframe",
              "variable_name": "df"
            }
          },
          "metadata": {},
          "execution_count": 17
        }
      ],
      "source": [
        "# (df.sum(axis=1) == 0).any()\n",
        "df.head()"
      ]
    },
    {
      "cell_type": "code",
      "execution_count": 18,
      "metadata": {
        "colab": {
          "base_uri": "https://localhost:8080/",
          "height": 371
        },
        "id": "SA2KEMj5ek8h",
        "outputId": "10186b2e-d2b8-4baf-fd0a-a228fa1e96a2"
      },
      "outputs": [
        {
          "output_type": "execute_result",
          "data": {
            "text/plain": [
              "         guitar  classical  slow  techno  drums  fast  electronic  piano  \\\n",
              "clip_id                                                                    \n",
              "47744         0          0     0       1      0     0           0      0   \n",
              "7391          1          0     0       0      0     0           0      0   \n",
              "3168          0          0     0       0      0     0           0      1   \n",
              "30000         0          0     0       1      0     0           1      0   \n",
              "5170          0          0     0       1      0     0           0      0   \n",
              "\n",
              "         strings  rock  ...  harpsicord  country  male voice  choral  metal  \\\n",
              "clip_id                 ...                                                   \n",
              "47744          0     0  ...           0        0           0       0      0   \n",
              "7391           0     1  ...           0        0           0       0      1   \n",
              "3168           0     0  ...           0        0           0       0      0   \n",
              "30000          0     1  ...           0        0           0       0      0   \n",
              "5170           0     0  ...           0        0           0       0      0   \n",
              "\n",
              "         drum  cello  voice  female vocal  \\\n",
              "clip_id                                     \n",
              "47744       0      0      0             0   \n",
              "7391        0      0      0             0   \n",
              "3168        0      0      0             0   \n",
              "30000       0      0      0             0   \n",
              "5170        0      0      0             0   \n",
              "\n",
              "                                                  mp3_path  \n",
              "clip_id                                                     \n",
              "47744    b/magnatune_compilation-rock-12-cargo_cult_our...  \n",
              "7391     c/atomic_opera-alpha_and_oranges-02-for_madmen...  \n",
              "3168     b/la_primavera-english_renaissance_music-01-ox...  \n",
              "30000          d/processor-insomnia-06-wont_sleep-0-29.npy  \n",
              "5170     2/aba_structure-tektonik_illusion-01-terra-59-...  \n",
              "\n",
              "[5 rows x 51 columns]"
            ],
            "text/html": [
              "\n",
              "  <div id=\"df-bad4a7db-32f4-4eae-87c4-1e8d5b6c2b19\" class=\"colab-df-container\">\n",
              "    <div>\n",
              "<style scoped>\n",
              "    .dataframe tbody tr th:only-of-type {\n",
              "        vertical-align: middle;\n",
              "    }\n",
              "\n",
              "    .dataframe tbody tr th {\n",
              "        vertical-align: top;\n",
              "    }\n",
              "\n",
              "    .dataframe thead th {\n",
              "        text-align: right;\n",
              "    }\n",
              "</style>\n",
              "<table border=\"1\" class=\"dataframe\">\n",
              "  <thead>\n",
              "    <tr style=\"text-align: right;\">\n",
              "      <th></th>\n",
              "      <th>guitar</th>\n",
              "      <th>classical</th>\n",
              "      <th>slow</th>\n",
              "      <th>techno</th>\n",
              "      <th>drums</th>\n",
              "      <th>fast</th>\n",
              "      <th>electronic</th>\n",
              "      <th>piano</th>\n",
              "      <th>strings</th>\n",
              "      <th>rock</th>\n",
              "      <th>...</th>\n",
              "      <th>harpsicord</th>\n",
              "      <th>country</th>\n",
              "      <th>male voice</th>\n",
              "      <th>choral</th>\n",
              "      <th>metal</th>\n",
              "      <th>drum</th>\n",
              "      <th>cello</th>\n",
              "      <th>voice</th>\n",
              "      <th>female vocal</th>\n",
              "      <th>mp3_path</th>\n",
              "    </tr>\n",
              "    <tr>\n",
              "      <th>clip_id</th>\n",
              "      <th></th>\n",
              "      <th></th>\n",
              "      <th></th>\n",
              "      <th></th>\n",
              "      <th></th>\n",
              "      <th></th>\n",
              "      <th></th>\n",
              "      <th></th>\n",
              "      <th></th>\n",
              "      <th></th>\n",
              "      <th></th>\n",
              "      <th></th>\n",
              "      <th></th>\n",
              "      <th></th>\n",
              "      <th></th>\n",
              "      <th></th>\n",
              "      <th></th>\n",
              "      <th></th>\n",
              "      <th></th>\n",
              "      <th></th>\n",
              "      <th></th>\n",
              "    </tr>\n",
              "  </thead>\n",
              "  <tbody>\n",
              "    <tr>\n",
              "      <th>47744</th>\n",
              "      <td>0</td>\n",
              "      <td>0</td>\n",
              "      <td>0</td>\n",
              "      <td>1</td>\n",
              "      <td>0</td>\n",
              "      <td>0</td>\n",
              "      <td>0</td>\n",
              "      <td>0</td>\n",
              "      <td>0</td>\n",
              "      <td>0</td>\n",
              "      <td>...</td>\n",
              "      <td>0</td>\n",
              "      <td>0</td>\n",
              "      <td>0</td>\n",
              "      <td>0</td>\n",
              "      <td>0</td>\n",
              "      <td>0</td>\n",
              "      <td>0</td>\n",
              "      <td>0</td>\n",
              "      <td>0</td>\n",
              "      <td>b/magnatune_compilation-rock-12-cargo_cult_our...</td>\n",
              "    </tr>\n",
              "    <tr>\n",
              "      <th>7391</th>\n",
              "      <td>1</td>\n",
              "      <td>0</td>\n",
              "      <td>0</td>\n",
              "      <td>0</td>\n",
              "      <td>0</td>\n",
              "      <td>0</td>\n",
              "      <td>0</td>\n",
              "      <td>0</td>\n",
              "      <td>0</td>\n",
              "      <td>1</td>\n",
              "      <td>...</td>\n",
              "      <td>0</td>\n",
              "      <td>0</td>\n",
              "      <td>0</td>\n",
              "      <td>0</td>\n",
              "      <td>1</td>\n",
              "      <td>0</td>\n",
              "      <td>0</td>\n",
              "      <td>0</td>\n",
              "      <td>0</td>\n",
              "      <td>c/atomic_opera-alpha_and_oranges-02-for_madmen...</td>\n",
              "    </tr>\n",
              "    <tr>\n",
              "      <th>3168</th>\n",
              "      <td>0</td>\n",
              "      <td>0</td>\n",
              "      <td>0</td>\n",
              "      <td>0</td>\n",
              "      <td>0</td>\n",
              "      <td>0</td>\n",
              "      <td>0</td>\n",
              "      <td>1</td>\n",
              "      <td>0</td>\n",
              "      <td>0</td>\n",
              "      <td>...</td>\n",
              "      <td>0</td>\n",
              "      <td>0</td>\n",
              "      <td>0</td>\n",
              "      <td>0</td>\n",
              "      <td>0</td>\n",
              "      <td>0</td>\n",
              "      <td>0</td>\n",
              "      <td>0</td>\n",
              "      <td>0</td>\n",
              "      <td>b/la_primavera-english_renaissance_music-01-ox...</td>\n",
              "    </tr>\n",
              "    <tr>\n",
              "      <th>30000</th>\n",
              "      <td>0</td>\n",
              "      <td>0</td>\n",
              "      <td>0</td>\n",
              "      <td>1</td>\n",
              "      <td>0</td>\n",
              "      <td>0</td>\n",
              "      <td>1</td>\n",
              "      <td>0</td>\n",
              "      <td>0</td>\n",
              "      <td>1</td>\n",
              "      <td>...</td>\n",
              "      <td>0</td>\n",
              "      <td>0</td>\n",
              "      <td>0</td>\n",
              "      <td>0</td>\n",
              "      <td>0</td>\n",
              "      <td>0</td>\n",
              "      <td>0</td>\n",
              "      <td>0</td>\n",
              "      <td>0</td>\n",
              "      <td>d/processor-insomnia-06-wont_sleep-0-29.npy</td>\n",
              "    </tr>\n",
              "    <tr>\n",
              "      <th>5170</th>\n",
              "      <td>0</td>\n",
              "      <td>0</td>\n",
              "      <td>0</td>\n",
              "      <td>1</td>\n",
              "      <td>0</td>\n",
              "      <td>0</td>\n",
              "      <td>0</td>\n",
              "      <td>0</td>\n",
              "      <td>0</td>\n",
              "      <td>0</td>\n",
              "      <td>...</td>\n",
              "      <td>0</td>\n",
              "      <td>0</td>\n",
              "      <td>0</td>\n",
              "      <td>0</td>\n",
              "      <td>0</td>\n",
              "      <td>0</td>\n",
              "      <td>0</td>\n",
              "      <td>0</td>\n",
              "      <td>0</td>\n",
              "      <td>2/aba_structure-tektonik_illusion-01-terra-59-...</td>\n",
              "    </tr>\n",
              "  </tbody>\n",
              "</table>\n",
              "<p>5 rows × 51 columns</p>\n",
              "</div>\n",
              "    <div class=\"colab-df-buttons\">\n",
              "\n",
              "  <div class=\"colab-df-container\">\n",
              "    <button class=\"colab-df-convert\" onclick=\"convertToInteractive('df-bad4a7db-32f4-4eae-87c4-1e8d5b6c2b19')\"\n",
              "            title=\"Convert this dataframe to an interactive table.\"\n",
              "            style=\"display:none;\">\n",
              "\n",
              "  <svg xmlns=\"http://www.w3.org/2000/svg\" height=\"24px\" viewBox=\"0 -960 960 960\">\n",
              "    <path d=\"M120-120v-720h720v720H120Zm60-500h600v-160H180v160Zm220 220h160v-160H400v160Zm0 220h160v-160H400v160ZM180-400h160v-160H180v160Zm440 0h160v-160H620v160ZM180-180h160v-160H180v160Zm440 0h160v-160H620v160Z\"/>\n",
              "  </svg>\n",
              "    </button>\n",
              "\n",
              "  <style>\n",
              "    .colab-df-container {\n",
              "      display:flex;\n",
              "      gap: 12px;\n",
              "    }\n",
              "\n",
              "    .colab-df-convert {\n",
              "      background-color: #E8F0FE;\n",
              "      border: none;\n",
              "      border-radius: 50%;\n",
              "      cursor: pointer;\n",
              "      display: none;\n",
              "      fill: #1967D2;\n",
              "      height: 32px;\n",
              "      padding: 0 0 0 0;\n",
              "      width: 32px;\n",
              "    }\n",
              "\n",
              "    .colab-df-convert:hover {\n",
              "      background-color: #E2EBFA;\n",
              "      box-shadow: 0px 1px 2px rgba(60, 64, 67, 0.3), 0px 1px 3px 1px rgba(60, 64, 67, 0.15);\n",
              "      fill: #174EA6;\n",
              "    }\n",
              "\n",
              "    .colab-df-buttons div {\n",
              "      margin-bottom: 4px;\n",
              "    }\n",
              "\n",
              "    [theme=dark] .colab-df-convert {\n",
              "      background-color: #3B4455;\n",
              "      fill: #D2E3FC;\n",
              "    }\n",
              "\n",
              "    [theme=dark] .colab-df-convert:hover {\n",
              "      background-color: #434B5C;\n",
              "      box-shadow: 0px 1px 3px 1px rgba(0, 0, 0, 0.15);\n",
              "      filter: drop-shadow(0px 1px 2px rgba(0, 0, 0, 0.3));\n",
              "      fill: #FFFFFF;\n",
              "    }\n",
              "  </style>\n",
              "\n",
              "    <script>\n",
              "      const buttonEl =\n",
              "        document.querySelector('#df-bad4a7db-32f4-4eae-87c4-1e8d5b6c2b19 button.colab-df-convert');\n",
              "      buttonEl.style.display =\n",
              "        google.colab.kernel.accessAllowed ? 'block' : 'none';\n",
              "\n",
              "      async function convertToInteractive(key) {\n",
              "        const element = document.querySelector('#df-bad4a7db-32f4-4eae-87c4-1e8d5b6c2b19');\n",
              "        const dataTable =\n",
              "          await google.colab.kernel.invokeFunction('convertToInteractive',\n",
              "                                                    [key], {});\n",
              "        if (!dataTable) return;\n",
              "\n",
              "        const docLinkHtml = 'Like what you see? Visit the ' +\n",
              "          '<a target=\"_blank\" href=https://colab.research.google.com/notebooks/data_table.ipynb>data table notebook</a>'\n",
              "          + ' to learn more about interactive tables.';\n",
              "        element.innerHTML = '';\n",
              "        dataTable['output_type'] = 'display_data';\n",
              "        await google.colab.output.renderOutput(dataTable, element);\n",
              "        const docLink = document.createElement('div');\n",
              "        docLink.innerHTML = docLinkHtml;\n",
              "        element.appendChild(docLink);\n",
              "      }\n",
              "    </script>\n",
              "  </div>\n",
              "\n",
              "\n",
              "<div id=\"df-65ea7b63-0e81-4824-ab3a-4c921ca3cf6b\">\n",
              "  <button class=\"colab-df-quickchart\" onclick=\"quickchart('df-65ea7b63-0e81-4824-ab3a-4c921ca3cf6b')\"\n",
              "            title=\"Suggest charts\"\n",
              "            style=\"display:none;\">\n",
              "\n",
              "<svg xmlns=\"http://www.w3.org/2000/svg\" height=\"24px\"viewBox=\"0 0 24 24\"\n",
              "     width=\"24px\">\n",
              "    <g>\n",
              "        <path d=\"M19 3H5c-1.1 0-2 .9-2 2v14c0 1.1.9 2 2 2h14c1.1 0 2-.9 2-2V5c0-1.1-.9-2-2-2zM9 17H7v-7h2v7zm4 0h-2V7h2v10zm4 0h-2v-4h2v4z\"/>\n",
              "    </g>\n",
              "</svg>\n",
              "  </button>\n",
              "\n",
              "<style>\n",
              "  .colab-df-quickchart {\n",
              "      --bg-color: #E8F0FE;\n",
              "      --fill-color: #1967D2;\n",
              "      --hover-bg-color: #E2EBFA;\n",
              "      --hover-fill-color: #174EA6;\n",
              "      --disabled-fill-color: #AAA;\n",
              "      --disabled-bg-color: #DDD;\n",
              "  }\n",
              "\n",
              "  [theme=dark] .colab-df-quickchart {\n",
              "      --bg-color: #3B4455;\n",
              "      --fill-color: #D2E3FC;\n",
              "      --hover-bg-color: #434B5C;\n",
              "      --hover-fill-color: #FFFFFF;\n",
              "      --disabled-bg-color: #3B4455;\n",
              "      --disabled-fill-color: #666;\n",
              "  }\n",
              "\n",
              "  .colab-df-quickchart {\n",
              "    background-color: var(--bg-color);\n",
              "    border: none;\n",
              "    border-radius: 50%;\n",
              "    cursor: pointer;\n",
              "    display: none;\n",
              "    fill: var(--fill-color);\n",
              "    height: 32px;\n",
              "    padding: 0;\n",
              "    width: 32px;\n",
              "  }\n",
              "\n",
              "  .colab-df-quickchart:hover {\n",
              "    background-color: var(--hover-bg-color);\n",
              "    box-shadow: 0 1px 2px rgba(60, 64, 67, 0.3), 0 1px 3px 1px rgba(60, 64, 67, 0.15);\n",
              "    fill: var(--button-hover-fill-color);\n",
              "  }\n",
              "\n",
              "  .colab-df-quickchart-complete:disabled,\n",
              "  .colab-df-quickchart-complete:disabled:hover {\n",
              "    background-color: var(--disabled-bg-color);\n",
              "    fill: var(--disabled-fill-color);\n",
              "    box-shadow: none;\n",
              "  }\n",
              "\n",
              "  .colab-df-spinner {\n",
              "    border: 2px solid var(--fill-color);\n",
              "    border-color: transparent;\n",
              "    border-bottom-color: var(--fill-color);\n",
              "    animation:\n",
              "      spin 1s steps(1) infinite;\n",
              "  }\n",
              "\n",
              "  @keyframes spin {\n",
              "    0% {\n",
              "      border-color: transparent;\n",
              "      border-bottom-color: var(--fill-color);\n",
              "      border-left-color: var(--fill-color);\n",
              "    }\n",
              "    20% {\n",
              "      border-color: transparent;\n",
              "      border-left-color: var(--fill-color);\n",
              "      border-top-color: var(--fill-color);\n",
              "    }\n",
              "    30% {\n",
              "      border-color: transparent;\n",
              "      border-left-color: var(--fill-color);\n",
              "      border-top-color: var(--fill-color);\n",
              "      border-right-color: var(--fill-color);\n",
              "    }\n",
              "    40% {\n",
              "      border-color: transparent;\n",
              "      border-right-color: var(--fill-color);\n",
              "      border-top-color: var(--fill-color);\n",
              "    }\n",
              "    60% {\n",
              "      border-color: transparent;\n",
              "      border-right-color: var(--fill-color);\n",
              "    }\n",
              "    80% {\n",
              "      border-color: transparent;\n",
              "      border-right-color: var(--fill-color);\n",
              "      border-bottom-color: var(--fill-color);\n",
              "    }\n",
              "    90% {\n",
              "      border-color: transparent;\n",
              "      border-bottom-color: var(--fill-color);\n",
              "    }\n",
              "  }\n",
              "</style>\n",
              "\n",
              "  <script>\n",
              "    async function quickchart(key) {\n",
              "      const quickchartButtonEl =\n",
              "        document.querySelector('#' + key + ' button');\n",
              "      quickchartButtonEl.disabled = true;  // To prevent multiple clicks.\n",
              "      quickchartButtonEl.classList.add('colab-df-spinner');\n",
              "      try {\n",
              "        const charts = await google.colab.kernel.invokeFunction(\n",
              "            'suggestCharts', [key], {});\n",
              "      } catch (error) {\n",
              "        console.error('Error during call to suggestCharts:', error);\n",
              "      }\n",
              "      quickchartButtonEl.classList.remove('colab-df-spinner');\n",
              "      quickchartButtonEl.classList.add('colab-df-quickchart-complete');\n",
              "    }\n",
              "    (() => {\n",
              "      let quickchartButtonEl =\n",
              "        document.querySelector('#df-65ea7b63-0e81-4824-ab3a-4c921ca3cf6b button');\n",
              "      quickchartButtonEl.style.display =\n",
              "        google.colab.kernel.accessAllowed ? 'block' : 'none';\n",
              "    })();\n",
              "  </script>\n",
              "</div>\n",
              "\n",
              "    </div>\n",
              "  </div>\n"
            ],
            "application/vnd.google.colaboratory.intrinsic+json": {
              "type": "dataframe",
              "variable_name": "df"
            }
          },
          "metadata": {},
          "execution_count": 18
        }
      ],
      "source": [
        "# df = df[df.sum(axis=1) != 0]\n",
        "df = df[df.drop(columns=['mp3_path']).sum(axis=1) != 0]\n",
        "df = df.sample(frac=1)\n",
        "df.head()"
      ]
    },
    {
      "cell_type": "code",
      "execution_count": 19,
      "metadata": {
        "colab": {
          "base_uri": "https://localhost:8080/"
        },
        "id": "1NyGYytovt3y",
        "outputId": "f9f8281c-15f6-465d-d468-e91b2d4bdf1c"
      },
      "outputs": [
        {
          "output_type": "stream",
          "name": "stdout",
          "text": [
            "(768, 51) (128, 51) (128, 51)\n"
          ]
        }
      ],
      "source": [
        "train_df = df[:768]\n",
        "val_df = df[768:896]\n",
        "test_df = df[896:896+128]\n",
        "\n",
        "print(train_df.shape, val_df.shape, test_df.shape)"
      ]
    },
    {
      "cell_type": "markdown",
      "metadata": {
        "id": "UEyf5th3zodi"
      },
      "source": [
        "# Training CNNs from Scratch\n",
        "\n",
        "The baseline code is provided so that you can easily start the homework and also compare with your own algorithm.\n",
        "The baseline model extracts mel-spectrogram and has a simple set of CNN model that includes convolutional layer, batch normalization, maxpooling and fully-connected layer."
      ]
    },
    {
      "cell_type": "markdown",
      "metadata": {
        "id": "jLEXvCXUK6GR"
      },
      "source": [
        "## Data Preprocessing"
      ]
    },
    {
      "cell_type": "code",
      "execution_count": 20,
      "metadata": {
        "id": "f5aAoaSPycsj"
      },
      "outputs": [],
      "source": [
        "def to_mel_spectrum(wave, sr=16000, n_fft=516, n_mels=96, secs=6):\n",
        "    S = librosa.feature.melspectrogram(y=wave[:secs * sr],\n",
        "                                       sr=sr,\n",
        "                                       n_fft=n_fft,\n",
        "                                       n_mels=n_mels)\n",
        "    S_dB = librosa.power_to_db(S)\n",
        "    return S_dB"
      ]
    },
    {
      "cell_type": "code",
      "execution_count": 21,
      "metadata": {
        "id": "HfeuWIyfiSsD"
      },
      "outputs": [],
      "source": [
        "def load_data(file_paths):\n",
        "    for fpath in file_paths:\n",
        "        fpath = os.path.join('waveform', fpath)\n",
        "        yield np.load(fpath)"
      ]
    },
    {
      "cell_type": "code",
      "execution_count": 22,
      "metadata": {
        "id": "nzxmppujwhlS"
      },
      "outputs": [],
      "source": [
        "data_train = list(map(to_mel_spectrum, load_data(train_df['mp3_path'])))\n",
        "X_train = jnp.array(data_train)\n",
        "Y_train = jnp.array(train_df.drop('mp3_path', axis=1).values)\n",
        "\n",
        "data_val = list(map(to_mel_spectrum, load_data(val_df['mp3_path'])))\n",
        "X_val = jnp.array(data_val)\n",
        "Y_val = jnp.array(val_df.drop('mp3_path', axis=1).values)\n",
        "\n",
        "data_test = list(map(to_mel_spectrum, load_data(test_df['mp3_path'])))\n",
        "X_test = jnp.array(data_test)\n",
        "Y_test = jnp.array(test_df.drop('mp3_path', axis=1).values)"
      ]
    },
    {
      "cell_type": "markdown",
      "metadata": {
        "id": "STBkkl-ZyqWy"
      },
      "source": [
        "## Iterating in Batches"
      ]
    },
    {
      "cell_type": "code",
      "execution_count": 23,
      "metadata": {
        "id": "FcK8UJ2yIId5"
      },
      "outputs": [],
      "source": [
        "batch_size = 16\n",
        "X_batches = X_train.reshape((X_train.shape[0] // batch_size,\n",
        "                             batch_size,\n",
        "                             X_train.shape[1],\n",
        "                             X_train.shape[2]))\n",
        "Y_batches = Y_train.reshape((Y_train.shape[0] // batch_size,\n",
        "                             batch_size,\n",
        "                             Y_train.shape[1]))"
      ]
    },
    {
      "cell_type": "code",
      "execution_count": 24,
      "metadata": {
        "colab": {
          "base_uri": "https://localhost:8080/"
        },
        "id": "E_hWakjmzt0z",
        "outputId": "223e914e-5fa5-4ad7-a5f5-f13ea65d08c4"
      },
      "outputs": [
        {
          "output_type": "execute_result",
          "data": {
            "text/plain": [
              "(16, 50)"
            ]
          },
          "metadata": {},
          "execution_count": 24
        }
      ],
      "source": [
        "Xb, Yb = X_batches[0], Y_batches[0]\n",
        "Xb.shape\n",
        "Yb.shape"
      ]
    },
    {
      "cell_type": "code",
      "execution_count": 25,
      "metadata": {
        "colab": {
          "base_uri": "https://localhost:8080/"
        },
        "id": "YO94a2Dzf12o",
        "outputId": "8587e75f-2b54-4a1d-e61f-48297fbfb2e4"
      },
      "outputs": [
        {
          "output_type": "execute_result",
          "data": {
            "text/plain": [
              "(16, 50)"
            ]
          },
          "metadata": {},
          "execution_count": 25
        }
      ],
      "source": [
        "Yb.shape"
      ]
    },
    {
      "cell_type": "markdown",
      "metadata": {
        "id": "DbODI4qpWYeo"
      },
      "source": [
        "## Training a baseline\n",
        "The table below shows the architecture of the baseline.\n",
        "\n",
        "| Layer          | Output Size | Details                 |\n",
        "|----------------|-------------|-------------------------|\n",
        "| input          | B x 1 x 16000 * sec,    | batch x channel x samples |\n",
        "| mel_spec       | B x 96 x 188    | batch x freq x time|\n",
        "| conv + maxpool | B x 32 x 64    | kernel_size=3, stride=1 |\n",
        "| conv + maxpool | B x 32 x 22    | kernel_size=3, stride=1 |\n",
        "| conv + maxpool | B x 32 x 8     | kernel_size=3 stride=1 |\n",
        "| global_avgpool | B x 32 x 1     | -                       |\n",
        "| classifier     | B x 50         | -                       |\n",
        "\n",
        "The class below is an implementation of it:"
      ]
    },
    {
      "cell_type": "code",
      "execution_count": 26,
      "metadata": {
        "id": "VVW5nkSI2ZgS"
      },
      "outputs": [],
      "source": [
        "class Baseline(nn.Module):\n",
        "    @nn.compact\n",
        "    def __call__(self, x):\n",
        "\n",
        "        for _ in range(3):\n",
        "            x = nn.Conv(96, kernel_size=(3, ), strides=(1, ))(x)\n",
        "\n",
        "            x = nn.relu(x)\n",
        "            x = nn.max_pool(x, window_shape=(3, ), strides=(1, ))\n",
        "\n",
        "        x = nn.avg_pool(x, window_shape=(1, ))\n",
        "        x = x.reshape((x.shape[0], -1))  # flatten\n",
        "        x = nn.Dense(50)(x)\n",
        "        x = nn.log_softmax(x)\n",
        "        return x"
      ]
    },
    {
      "cell_type": "code",
      "execution_count": 27,
      "metadata": {
        "colab": {
          "base_uri": "https://localhost:8080/"
        },
        "id": "kFqIMZ7y175Y",
        "outputId": "3c9b85c3-ebb2-40e8-c305-8ed02061ba3f"
      },
      "outputs": [
        {
          "output_type": "stream",
          "name": "stdout",
          "text": [
            "(16, 96, 188)\n"
          ]
        }
      ],
      "source": [
        "model = Baseline()\n",
        "variables = model.init(jax.random.PRNGKey(0), jnp.ones(Xb.shape))"
      ]
    },
    {
      "cell_type": "code",
      "execution_count": 28,
      "metadata": {
        "colab": {
          "base_uri": "https://localhost:8080/"
        },
        "id": "2I79T8Ze1JIC",
        "outputId": "b0d4abae-19dd-4654-b0ad-4f9744e4f4f8"
      },
      "outputs": [
        {
          "output_type": "stream",
          "name": "stdout",
          "text": [
            "(16, 96, 188)\n"
          ]
        },
        {
          "output_type": "execute_result",
          "data": {
            "text/plain": [
              "(16, 50)"
            ]
          },
          "metadata": {},
          "execution_count": 28
        }
      ],
      "source": [
        "logits = Baseline().apply(variables, Xb)\n",
        "logits.shape"
      ]
    },
    {
      "cell_type": "code",
      "execution_count": 29,
      "metadata": {
        "id": "lwCTLKLUJUdf"
      },
      "outputs": [],
      "source": [
        "@jax.jit\n",
        "def cross_entropy_loss(logits, Yb):\n",
        "    return -jnp.mean(jnp.sum(Yb * logits, axis=-1))"
      ]
    },
    {
      "cell_type": "code",
      "execution_count": 30,
      "metadata": {
        "colab": {
          "base_uri": "https://localhost:8080/"
        },
        "id": "yuZSlBKJwwOt",
        "outputId": "661b382b-1855-4fb5-e6eb-8ceca1994984"
      },
      "outputs": [
        {
          "output_type": "stream",
          "name": "stdout",
          "text": [
            "(16, 96, 188)\n"
          ]
        },
        {
          "output_type": "execute_result",
          "data": {
            "text/plain": [
              "Array(72.85585, dtype=float32)"
            ]
          },
          "metadata": {},
          "execution_count": 30
        }
      ],
      "source": [
        "logits = Baseline().apply(variables, Xb)\n",
        "cross_entropy_loss(logits, Yb)"
      ]
    },
    {
      "cell_type": "code",
      "execution_count": 31,
      "metadata": {
        "colab": {
          "base_uri": "https://localhost:8080/"
        },
        "id": "38_H4nvygBJ8",
        "outputId": "7363b2b4-79fb-4cb4-a01b-6a8e7a9375dc"
      },
      "outputs": [
        {
          "output_type": "stream",
          "name": "stdout",
          "text": [
            "(768, 96, 188)\n"
          ]
        },
        {
          "output_type": "execute_result",
          "data": {
            "text/plain": [
              "Array(62.853527, dtype=float32)"
            ]
          },
          "metadata": {},
          "execution_count": 31
        }
      ],
      "source": [
        "logits = Baseline().apply(variables, X_train)\n",
        "cross_entropy_loss(logits, Y_train)"
      ]
    },
    {
      "cell_type": "code",
      "execution_count": 32,
      "metadata": {
        "colab": {
          "base_uri": "https://localhost:8080/"
        },
        "id": "vE1oAHV8wk3M",
        "outputId": "15ef4cad-3c7a-4c15-d135-b5e5e1ae5da7"
      },
      "outputs": [
        {
          "output_type": "stream",
          "name": "stdout",
          "text": [
            "(128, 96, 188)\n"
          ]
        },
        {
          "output_type": "execute_result",
          "data": {
            "text/plain": [
              "Array(67.13292, dtype=float32)"
            ]
          },
          "metadata": {},
          "execution_count": 32
        }
      ],
      "source": [
        "logits = Baseline().apply(variables, X_val)\n",
        "cross_entropy_loss(logits, Y_val)"
      ]
    },
    {
      "cell_type": "code",
      "execution_count": 33,
      "metadata": {
        "colab": {
          "base_uri": "https://localhost:8080/"
        },
        "id": "ORIwwzgHwlBf",
        "outputId": "7b07e59e-519e-4577-8a86-4c92a80d0540"
      },
      "outputs": [
        {
          "output_type": "stream",
          "name": "stdout",
          "text": [
            "(128, 96, 188)\n"
          ]
        },
        {
          "output_type": "execute_result",
          "data": {
            "text/plain": [
              "Array(67.73994, dtype=float32)"
            ]
          },
          "metadata": {},
          "execution_count": 33
        }
      ],
      "source": [
        "logits = Baseline().apply(variables, X_test)\n",
        "cross_entropy_loss(logits, Y_test)"
      ]
    },
    {
      "cell_type": "code",
      "execution_count": 34,
      "metadata": {
        "id": "yLn7VMrL0yz6"
      },
      "outputs": [],
      "source": [
        "@jax.jit\n",
        "def train_step(Xb, Yb, state):\n",
        "    def loss_fn(params):\n",
        "        logits = Baseline().apply({'params': params}, Xb)\n",
        "        loss = cross_entropy_loss(logits, Yb)\n",
        "        return loss\n",
        "    grad_fn = jax.grad(loss_fn)\n",
        "    grads = grad_fn(state.params)\n",
        "    state = state.apply_gradients(grads=grads)\n",
        "    return state"
      ]
    },
    {
      "cell_type": "code",
      "execution_count": 35,
      "metadata": {
        "colab": {
          "base_uri": "https://localhost:8080/"
        },
        "id": "tiq2WE5g3Vik",
        "outputId": "290531de-930e-47db-a9a2-c418b01d23c8"
      },
      "outputs": [
        {
          "output_type": "stream",
          "name": "stdout",
          "text": [
            "(16, 96, 188)\n",
            "(16, 96, 188)\n",
            "(768, 96, 188)\n",
            "(128, 96, 188)\n",
            "Iter: 0; Train Loss 11.851961135864258; Val Loss = 12.936667442321777\n",
            "(768, 96, 188)\n",
            "(128, 96, 188)\n",
            "(768, 96, 188)\n",
            "(128, 96, 188)\n",
            "(768, 96, 188)\n",
            "(128, 96, 188)\n",
            "(768, 96, 188)\n",
            "(128, 96, 188)\n",
            "(768, 96, 188)\n",
            "(128, 96, 188)\n",
            "(768, 96, 188)\n",
            "(128, 96, 188)\n",
            "(768, 96, 188)\n",
            "(128, 96, 188)\n",
            "(768, 96, 188)\n",
            "(128, 96, 188)\n",
            "(768, 96, 188)\n",
            "(128, 96, 188)\n",
            "(768, 96, 188)\n",
            "(128, 96, 188)\n",
            "Iter: 10; Train Loss 9.535683631896973; Val Loss = 12.435365676879883\n",
            "(768, 96, 188)\n",
            "(128, 96, 188)\n",
            "(768, 96, 188)\n",
            "(128, 96, 188)\n",
            "(768, 96, 188)\n",
            "(128, 96, 188)\n",
            "(768, 96, 188)\n",
            "(128, 96, 188)\n",
            "(768, 96, 188)\n",
            "(128, 96, 188)\n",
            "(768, 96, 188)\n",
            "(128, 96, 188)\n",
            "(768, 96, 188)\n",
            "(128, 96, 188)\n",
            "(768, 96, 188)\n",
            "(128, 96, 188)\n",
            "(768, 96, 188)\n",
            "(128, 96, 188)\n",
            "(768, 96, 188)\n",
            "(128, 96, 188)\n",
            "Iter: 20; Train Loss 7.9377360343933105; Val Loss = 12.917430877685547\n",
            "(768, 96, 188)\n",
            "(128, 96, 188)\n",
            "(768, 96, 188)\n",
            "(128, 96, 188)\n",
            "(768, 96, 188)\n",
            "(128, 96, 188)\n",
            "(768, 96, 188)\n",
            "(128, 96, 188)\n",
            "(768, 96, 188)\n",
            "(128, 96, 188)\n",
            "(768, 96, 188)\n",
            "(128, 96, 188)\n",
            "(768, 96, 188)\n",
            "(128, 96, 188)\n",
            "(768, 96, 188)\n",
            "(128, 96, 188)\n",
            "(768, 96, 188)\n",
            "(128, 96, 188)\n",
            "(768, 96, 188)\n",
            "(128, 96, 188)\n",
            "Iter: 30; Train Loss 6.800773620605469; Val Loss = 13.931634902954102\n",
            "(768, 96, 188)\n",
            "(128, 96, 188)\n",
            "(768, 96, 188)\n",
            "(128, 96, 188)\n",
            "(768, 96, 188)\n",
            "(128, 96, 188)\n",
            "(768, 96, 188)\n",
            "(128, 96, 188)\n",
            "(768, 96, 188)\n",
            "(128, 96, 188)\n",
            "(768, 96, 188)\n",
            "(128, 96, 188)\n",
            "(768, 96, 188)\n",
            "(128, 96, 188)\n",
            "(768, 96, 188)\n",
            "(128, 96, 188)\n",
            "(768, 96, 188)\n",
            "(128, 96, 188)\n",
            "(768, 96, 188)\n",
            "(128, 96, 188)\n",
            "Iter: 40; Train Loss 5.929450511932373; Val Loss = 15.153054237365723\n",
            "(768, 96, 188)\n",
            "(128, 96, 188)\n",
            "(768, 96, 188)\n",
            "(128, 96, 188)\n",
            "(768, 96, 188)\n",
            "(128, 96, 188)\n",
            "(768, 96, 188)\n",
            "(128, 96, 188)\n",
            "(768, 96, 188)\n",
            "(128, 96, 188)\n",
            "(768, 96, 188)\n",
            "(128, 96, 188)\n",
            "(768, 96, 188)\n",
            "(128, 96, 188)\n",
            "(768, 96, 188)\n",
            "(128, 96, 188)\n",
            "(768, 96, 188)\n",
            "(128, 96, 188)\n"
          ]
        }
      ],
      "source": [
        "from flax.training import train_state\n",
        "\n",
        "model = Baseline()\n",
        "variables = model.init(jax.random.PRNGKey(0), jnp.ones(Xb.shape))\n",
        "\n",
        "lr = 0.0005\n",
        "iter = 50\n",
        "\n",
        "params = variables['params']\n",
        "tx = optax.sgd(learning_rate=lr)\n",
        "state = train_state.TrainState.create(apply_fn=model.apply,\n",
        "                                      params=params,\n",
        "                                      tx=tx)\n",
        "for i in range(iter):\n",
        "    for Xb, Yb in zip(X_batches, Y_batches):\n",
        "        state = train_step(Xb, Yb, state)\n",
        "    train_loss = cross_entropy_loss(Baseline().apply({'params': state.params},\n",
        "                                                     X_train),\n",
        "                                    Y_train)\n",
        "    val_loss = cross_entropy_loss(Baseline().apply({'params': state.params},\n",
        "                                                   X_val),\n",
        "                                  Y_val)\n",
        "    if i % 10 == 0:\n",
        "        print('Iter: {}; Train Loss {}; Val Loss = {}'.format(i, train_loss,\n",
        "                                                              val_loss))"
      ]
    },
    {
      "cell_type": "code",
      "execution_count": 36,
      "metadata": {
        "id": "Qk8C4x4zAFRl"
      },
      "outputs": [],
      "source": [
        "\n",
        "def auto_tagging(id, df, X, model, params, topk):\n",
        "    row = df.iloc[id].copy()\n",
        "    audio_sample = [row['mp3_path']]\n",
        "    row = row.drop('mp3_path')\n",
        "    wave = next(load_data(audio_sample))\n",
        "    X = jnp.array([X[id]])\n",
        "    logit = model().apply({'params': params}, X)[0]\n",
        "    idx = logit.argsort()[-topk:][::-1]\n",
        "    column_names = row.index[idx]\n",
        "    topk_tags = row[column_names]\n",
        "\n",
        "\n",
        "\n",
        "    return wave, topk_tags"
      ]
    },
    {
      "cell_type": "code",
      "execution_count": 37,
      "metadata": {
        "colab": {
          "base_uri": "https://localhost:8080/",
          "height": 185
        },
        "id": "u3bxgERQ9Ucu",
        "outputId": "504777ed-08bc-4f30-818a-6e02833e2843"
      },
      "outputs": [
        {
          "output_type": "stream",
          "name": "stdout",
          "text": [
            "(1, 96, 188)\n",
            "flute          0\n",
            "classical      0\n",
            "woman          0\n",
            "harpsichord    0\n",
            "female         0\n",
            "Name: 8193, dtype: object\n"
          ]
        },
        {
          "output_type": "execute_result",
          "data": {
            "text/plain": [
              "<IPython.lib.display.Audio object>"
            ],
            "text/html": [
              "\n",
              "                <audio  controls=\"controls\" >\n",
              "                    <source src=\"data:audio/wav;base64,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\" type=\"audio/wav\" />\n",
              "                    Your browser does not support the audio element.\n",
              "                </audio>\n",
              "              "
            ]
          },
          "metadata": {},
          "execution_count": 37
        }
      ],
      "source": [
        "import IPython.display as ipd\n",
        "\n",
        "id = 46\n",
        "wave, tags = auto_tagging(id, test_df, X_test, Baseline, state.params, 5)\n",
        "print(tags)\n",
        "ipd.Audio(wave, rate=16000)"
      ]
    },
    {
      "cell_type": "markdown",
      "metadata": {
        "id": "-kCF13NKY3M7"
      },
      "source": [
        "### [Question 1] Implement the given architecture.\n",
        "Implement a 2D CNN with the architecture below, train, and report a test accuracy of the 2D CNN.\n",
        "\n",
        "| Layer          | Output Size | Details                 |\n",
        "|----------------|-------------|-------------------------|\n",
        "| input          | B x 1 x sample_rate * duration,    | batch x channel (mono) x samples |\n",
        "| mel_spec       | B x 1 x 96 x 188    | batch x channel (mono) x freq x time|\n",
        "| conv + maxpool | B x 64 x 24 x 47    | output_channels=64, kernel_size=3, pooling=(4,4) |\n",
        "| conv + maxpool | B x 128 x 8 x 15    | output_channels=128, kernel_size=3, pooling=(3,3) |\n",
        "| conv + maxpool | B x 128 x  2 x 5     | output_channels=128, kernel_size=3 pooling=(3,3) |\n",
        "| conv + maxpool | B x 64 x 1 x 1      | output_channels=64, kernel_size=3 pooling=(2,5)                    |\n",
        "| classifier     | B x 50         | -                       |\n",
        "\n",
        "\n",
        "Note: you should give appropriate paddings!"
      ]
    },
    {
      "cell_type": "code",
      "source": [
        "import torch\n",
        "import torchaudio\n",
        "import torchaudio.transforms as transforms\n",
        "import pandas as pd\n",
        "import numpy as np\n",
        "from torch.utils.data import Dataset\n",
        "\n",
        "class MusicGenreDataset(Dataset):\n",
        "    def __init__(self, df, sample_rate=16000, n_mels=96):\n",
        "        self.data = df\n",
        "        self.labels = self.data.columns[1:-1]\n",
        "        self.sample_rate = sample_rate\n",
        "        self.mel_transform = transforms.MelSpectrogram(\n",
        "            sample_rate=sample_rate,\n",
        "            n_fft=2048,\n",
        "            hop_length=512,\n",
        "            n_mels=n_mels\n",
        "        )\n",
        "\n",
        "    def __len__(self):\n",
        "        return len(self.data)\n",
        "\n",
        "    def __getitem__(self, idx):\n",
        "        row = self.data.iloc[idx]\n",
        "        npy_path = \"/content/waveform/\"+row[\"mp3_path\"]\n",
        "        waveform = np.load(npy_path)\n",
        "        waveform = torch.tensor(waveform, dtype=torch.float32)\n",
        "\n",
        "        if len(waveform.shape) == 1:\n",
        "            waveform = waveform.unsqueeze(0)\n",
        "        mel_spec = self.mel_transform(waveform)\n",
        "        mel_spec = (mel_spec - mel_spec.mean()) / mel_spec.std()\n",
        "        labels = torch.tensor(row[self.labels].values.astype(float), dtype=torch.float32)\n",
        "\n",
        "        return mel_spec, labels\n"
      ],
      "metadata": {
        "id": "RLvIAOFqLJYH"
      },
      "execution_count": 44,
      "outputs": []
    },
    {
      "cell_type": "code",
      "source": [
        "import torch.nn as nn\n",
        "import torch.nn.functional as F\n",
        "\n",
        "class AudioCNN(nn.Module):\n",
        "    def __init__(self, num_classes=50):\n",
        "        super(AudioCNN, self).__init__()\n",
        "\n",
        "        self.conv1 = nn.Conv2d(1, 64, kernel_size=3, padding=1)\n",
        "        self.pool1 = nn.MaxPool2d(kernel_size=(4, 4))\n",
        "\n",
        "        self.conv2 = nn.Conv2d(64, 128, kernel_size=3, padding=1)\n",
        "        self.pool2 = nn.MaxPool2d(kernel_size=(3, 3))\n",
        "\n",
        "        self.conv3 = nn.Conv2d(128, 128, kernel_size=3, padding=1)\n",
        "        self.pool3 = nn.MaxPool2d(kernel_size=(3, 3))\n",
        "\n",
        "        self.conv4 = nn.Conv2d(128, 64, kernel_size=3, padding=1)\n",
        "        self.pool4 = nn.MaxPool2d(kernel_size=(2, 5))\n",
        "\n",
        "        self.fc = nn.Linear(64, num_classes)\n",
        "\n",
        "    def forward(self, x):\n",
        "        x = self.pool1(F.relu(self.conv1(x)))\n",
        "        x = self.pool2(F.relu(self.conv2(x)))\n",
        "        x = self.pool3(F.relu(self.conv3(x)))\n",
        "        x = self.pool4(F.relu(self.conv4(x)))\n",
        "\n",
        "        x = torch.flatten(x, start_dim=1)\n",
        "        x = self.fc(x)\n",
        "        return x\n"
      ],
      "metadata": {
        "id": "zhb45dD_LM0R"
      },
      "execution_count": 45,
      "outputs": []
    },
    {
      "cell_type": "code",
      "source": [
        "import torch.optim as optim\n",
        "\n",
        "def train(model, train_loader, criterion, optimizer, device, num_epochs=10):\n",
        "    model.to(device)\n",
        "    model.train()\n",
        "\n",
        "    for epoch in range(num_epochs):\n",
        "        running_loss = 0.0\n",
        "\n",
        "        for mel_spec, labels in train_loader:\n",
        "\n",
        "            if   torch.isnan(mel_spec).any():\n",
        "               pass\n",
        "            else:\n",
        "              mel_spec, labels = mel_spec.to(device), labels.to(device)\n",
        "\n",
        "\n",
        "              outputs = model(mel_spec)\n",
        "              loss = criterion(outputs, labels)\n",
        "\n",
        "\n",
        "              optimizer.zero_grad()\n",
        "              loss.backward()\n",
        "              optimizer.step()\n",
        "\n",
        "              running_loss += loss.item()\n",
        "\n",
        "        print(f\"Epoch [{epoch+1}/{num_epochs}], Loss: {running_loss / len(train_loader):.4f}\")\n"
      ],
      "metadata": {
        "id": "iUBgquTxLQRQ"
      },
      "execution_count": 46,
      "outputs": []
    },
    {
      "cell_type": "code",
      "source": [
        "train_df = df[:768]\n",
        "val_df = df[768:896]\n",
        "test_df = df[896:896+128]\n"
      ],
      "metadata": {
        "id": "5SANhSlQGNzE"
      },
      "execution_count": 41,
      "outputs": []
    },
    {
      "cell_type": "code",
      "source": [
        "from torch.utils.data import DataLoader\n",
        "\n",
        "csv_path = \"/content/subset_magnatune.csv\"\n",
        "\n",
        "\n",
        "train_dataset = MusicGenreDataset(train_df)\n",
        "val_dataset = MusicGenreDataset(val_df)\n",
        "test_dataset = MusicGenreDataset(test_df)\n",
        "train_loader = DataLoader(train_dataset, batch_size=32, shuffle=True)\n",
        "\n",
        "\n",
        "num_classes = len(train_dataset.labels)\n",
        "\n",
        "model = AudioCNN(num_classes=num_classes)\n",
        "\n",
        "criterion = nn.BCEWithLogitsLoss()\n",
        "optimizer = optim.Adam(model.parameters(), lr=0.001)\n",
        "\n",
        "\n",
        "device = torch.device(\"cuda\" if torch.cuda.is_available() else \"cpu\")\n",
        "\n",
        "train(model, train_loader, criterion, optimizer, device, num_epochs=10)\n"
      ],
      "metadata": {
        "id": "kDWNCY0pLR0X",
        "outputId": "15dad751-dcdd-424a-a959-e446b53b491d",
        "colab": {
          "base_uri": "https://localhost:8080/"
        }
      },
      "execution_count": 67,
      "outputs": [
        {
          "output_type": "stream",
          "name": "stdout",
          "text": [
            "Epoch [1/10], Loss: 0.3088\n",
            "Epoch [2/10], Loss: 0.2088\n",
            "Epoch [3/10], Loss: 0.2009\n",
            "Epoch [4/10], Loss: 0.1952\n",
            "Epoch [5/10], Loss: 0.1878\n",
            "Epoch [6/10], Loss: 0.1841\n",
            "Epoch [7/10], Loss: 0.1807\n",
            "Epoch [8/10], Loss: 0.1780\n",
            "Epoch [9/10], Loss: 0.1755\n",
            "Epoch [10/10], Loss: 0.1708\n"
          ]
        }
      ]
    },
    {
      "cell_type": "code",
      "source": [
        "\n",
        "import torch\n",
        "import torch.nn as nn\n",
        "\n",
        "model.eval()\n"
      ],
      "metadata": {
        "id": "kfTXWyauUeH2",
        "outputId": "21c5e086-67fa-4cbc-cc16-14dede1b26f9",
        "colab": {
          "base_uri": "https://localhost:8080/"
        }
      },
      "execution_count": 53,
      "outputs": [
        {
          "output_type": "execute_result",
          "data": {
            "text/plain": [
              "AudioCNN(\n",
              "  (conv1): Conv2d(1, 64, kernel_size=(3, 3), stride=(1, 1), padding=(1, 1))\n",
              "  (pool1): MaxPool2d(kernel_size=(4, 4), stride=(4, 4), padding=0, dilation=1, ceil_mode=False)\n",
              "  (conv2): Conv2d(64, 128, kernel_size=(3, 3), stride=(1, 1), padding=(1, 1))\n",
              "  (pool2): MaxPool2d(kernel_size=(3, 3), stride=(3, 3), padding=0, dilation=1, ceil_mode=False)\n",
              "  (conv3): Conv2d(128, 128, kernel_size=(3, 3), stride=(1, 1), padding=(1, 1))\n",
              "  (pool3): MaxPool2d(kernel_size=(3, 3), stride=(3, 3), padding=0, dilation=1, ceil_mode=False)\n",
              "  (conv4): Conv2d(128, 64, kernel_size=(3, 3), stride=(1, 1), padding=(1, 1))\n",
              "  (pool4): MaxPool2d(kernel_size=(2, 5), stride=(2, 5), padding=0, dilation=1, ceil_mode=False)\n",
              "  (fc): Linear(in_features=64, out_features=49, bias=True)\n",
              ")"
            ]
          },
          "metadata": {},
          "execution_count": 53
        }
      ]
    },
    {
      "cell_type": "code",
      "source": [
        "import torch\n",
        "import pandas as pd\n",
        "import numpy as np\n",
        "\n",
        "def predict_from_clip_id(clip_id, csv_path, model, top_k=50):\n",
        "\n",
        "    df = pd.read_csv(csv_path)\n",
        "\n",
        "\n",
        "    row = df.iloc[clip_id].copy()\n",
        "\n",
        "\n",
        "\n",
        "    npy_path = \"/content/waveform/\"+row[\"mp3_path\"]\n",
        "\n",
        "    waveform = np.load(npy_path)\n",
        "    waveform = torch.tensor(waveform, dtype=torch.float32).unsqueeze(0)\n",
        "\n",
        "\n",
        "    mel_transform = transforms.MelSpectrogram(sample_rate=16000, n_fft=2048, hop_length=512, n_mels=96)\n",
        "\n",
        "    mel_spec = mel_transform(waveform)\n",
        "    mel_spec = (mel_spec - mel_spec.mean()) / mel_spec.std()\n",
        "    mel_spec = mel_spec.unsqueeze(0)\n",
        "\n",
        "\n",
        "    device = torch.device(\"cuda\" if torch.cuda.is_available() else \"cpu\")\n",
        "    model.to(device)\n",
        "    mel_spec = mel_spec.to(device)\n",
        "\n",
        "\n",
        "\n",
        "    with torch.no_grad():\n",
        "        logits = model(mel_spec)\n",
        "\n",
        "        probabilities = torch.sigmoid(logits)\n",
        "\n",
        "\n",
        "    top_probs, top_indices = torch.topk(probabilities, 5)\n",
        "    top_classes = [df.columns[1:-1][i] for i in top_indices[0].tolist()]\n",
        "    labs =[df.loc[clip_id,i] for i in top_classes]\n",
        "\n",
        "    return waveform, list(zip(top_classes,labs, top_probs[0].tolist()))\n",
        "\n",
        "def mean_average_precision(relevance_list):\n",
        "\n",
        "    relevant_count = 0\n",
        "    precision_sum = 0.0\n",
        "\n",
        "    for i, rel in enumerate(relevance_list, start=1):\n",
        "        if rel == 1:\n",
        "            relevant_count += 1\n",
        "            precision_sum += relevant_count / i  #\n",
        "    return precision_sum / len(relevance_list) if relevant_count > 0 else 0.0\n",
        "\n",
        "\n",
        "maps=[]\n",
        "accs=[]\n",
        "for j in range(896,896+128):\n",
        "  wv, lizt = predict_from_clip_id(j,\"/content/subset_magnatune.csv\",model)\n",
        "  for i in lizt:\n",
        "    maps.append(mean_average_precision([k[1] for k in lizt]))\n",
        "    accs.append(len([k[1] for k in lizt if k[1]==1 ])/5)\n",
        "\n",
        "# ipd.Audio(wv, rate=16000)\n",
        "print(\"average of Mean Average Precsision in test set \" + str(np.average(maps)))\n",
        "print(\"average of Precsision in test set \" + str(np.average(accs)))\n",
        "\n",
        "\n"
      ],
      "metadata": {
        "id": "6OMdgN-DNc8q",
        "outputId": "6985cded-032b-4230-9e55-6802826c33d3",
        "colab": {
          "base_uri": "https://localhost:8080/"
        }
      },
      "execution_count": 61,
      "outputs": [
        {
          "output_type": "stream",
          "name": "stdout",
          "text": [
            "average of Mean Average Precsision in test set 0.06966145833333333\n",
            "average of Precsision in test set 0.0375\n"
          ]
        }
      ]
    },
    {
      "cell_type": "code",
      "source": [
        "maps=[]\n",
        "accs=[]\n",
        "for j in range(768,896):\n",
        "  wv, lizt = predict_from_clip_id(j,\"/content/subset_magnatune.csv\",model)\n",
        "  for i in lizt:\n",
        "    maps.append(mean_average_precision([k[1] for k in lizt]))\n",
        "    accs.append(len([k[1] for k in lizt if k[1]==1 ])/5)\n",
        "# ipd.Audio(wv, rate=16000)\n",
        "print(\"average of Mean Average Precsision in val set \" + str(np.average(maps)))\n",
        "print(\"average of Precsision in val set \" + str(np.average(accs)))"
      ],
      "metadata": {
        "id": "oxRc75NewVMo",
        "outputId": "f65e0732-a9ce-4660-f020-54fce0102771",
        "colab": {
          "base_uri": "https://localhost:8080/"
        }
      },
      "execution_count": 73,
      "outputs": [
        {
          "output_type": "stream",
          "name": "stdout",
          "text": [
            "average of Mean Average Precsision in val set 0.025520833333333336\n",
            "average of Precsision in val set 0.0140625\n"
          ]
        }
      ]
    },
    {
      "cell_type": "code",
      "source": [
        "\n",
        "\n",
        "maps=[]\n",
        "accs=[]\n",
        "for j in range(0,768):\n",
        "  wv, lizt = predict_from_clip_id(j,\"/content/subset_magnatune.csv\",model)\n",
        "  for i in lizt:\n",
        "    maps.append(mean_average_precision([k[1] for k in lizt]))\n",
        "    accs.append(len([k[1] for k in lizt if k[1]==1 ])/5)\n",
        "# ipd.Audio(wv, rate=16000)\n",
        "print(\"average of Mean Average Precsision in train set \" + str(np.average(maps)))\n",
        "print(\"average of Precsision in train set \" + str(np.average(accs)))"
      ],
      "metadata": {
        "id": "k8G4sM1AwZZY",
        "outputId": "00041e57-570c-4384-b078-f3abcfe1c9aa",
        "colab": {
          "base_uri": "https://localhost:8080/"
        }
      },
      "execution_count": 66,
      "outputs": [
        {
          "output_type": "stream",
          "name": "stdout",
          "text": [
            "average of Mean Average Precsision in train set 0.03802083333333333\n",
            "average of Precsision in train set 0.020052083333333335\n"
          ]
        }
      ]
    },
    {
      "cell_type": "markdown",
      "metadata": {
        "id": "8D0uZmjaGSnC"
      },
      "source": [
        "### [Question 2] Improve the performenace.\n",
        "Now it is your turn. You should improve the baseline code with your own algorithm. There are many ways to improve it. The followings are possible ideas:\n",
        "\n",
        "* You can try 1D CNN or 2D CNN models and choose different model parameters:\n",
        "    * Filter size\n",
        "    * Pooling size\n",
        "    * Stride size\n",
        "    * Number of filters\n",
        "    * Model depth\n",
        "    * Regularization: L2/L1 and Dropout\n",
        "\n",
        "* You should try different hyperparameters to train the model and optimizers:\n",
        "    * Learning rate\n",
        "    * Model depth\n",
        "    * Optimizers: SGD (with Nesterov momentum), Adam, RMSProp, ...\n",
        "\n",
        "* You can try training a model using both mel-spectrograms and features extracted using the pre-trained models. However, end-to-end training using additional external data is prohibited. (Performance doesn't have a huge impact on grading. don't waste time)\n",
        "\n",
        "\n",
        "* You can try different parameters (e.g. hop and window size) to extract mel-spectrogram or different features as input to the network (e.g. MFCC, chroma features ...).\n",
        "\n",
        "* You can also use ResNet or other CNNs with skip connections.\n",
        "\n",
        "* Furthermore, you can augment data using digital audio effects."
      ]
    },
    {
      "cell_type": "code",
      "source": [
        "import torch\n",
        "import torch.nn as nn\n",
        "import torch.nn.functional as F\n",
        "\n",
        "class AudioCNN_v2(nn.Module):\n",
        "    def __init__(self, num_classes=50):\n",
        "        super(AudioCNN_v2, self).__init__()\n",
        "\n",
        "        self.conv1 = nn.Conv2d(1, 64, kernel_size=3, padding=1)\n",
        "        self.bn1 = nn.BatchNorm2d(64)\n",
        "        self.pool1 = nn.MaxPool2d(kernel_size=(4, 4))\n",
        "\n",
        "        self.conv2 = nn.Conv2d(64, 128, kernel_size=3, padding=1)\n",
        "        self.bn2 = nn.BatchNorm2d(128)\n",
        "        self.pool2 = nn.MaxPool2d(kernel_size=(3, 3))\n",
        "\n",
        "        self.conv3 = nn.Conv2d(128, 128, kernel_size=3, padding=1)\n",
        "        self.bn3 = nn.BatchNorm2d(128)\n",
        "        self.pool3 = nn.MaxPool2d(kernel_size=(3, 3))\n",
        "\n",
        "        self.conv4 = nn.Conv2d(128, 64, kernel_size=3, padding=1)\n",
        "        self.bn4 = nn.BatchNorm2d(64)\n",
        "        self.pool4 = nn.MaxPool2d(kernel_size=(2, 5))\n",
        "\n",
        "        self.global_avg_pool = nn.AdaptiveAvgPool2d(1)  # Global Average Pooling\n",
        "        self.fc = nn.Linear(64, num_classes)\n",
        "\n",
        "    def forward(self, x):\n",
        "        x = self.pool1(F.relu(self.bn1(self.conv1(x))))\n",
        "        x = self.pool2(F.relu(self.bn2(self.conv2(x))))\n",
        "        x = self.pool3(F.relu(self.bn3(self.conv3(x))))\n",
        "        x = self.pool4(F.relu(self.bn4(self.conv4(x))))\n",
        "\n",
        "        x = self.global_avg_pool(x)\n",
        "        x = torch.flatten(x, start_dim=1)\n",
        "        x = self.fc(x)\n",
        "        return x\n"
      ],
      "metadata": {
        "id": "UHyONVnlyg64"
      },
      "execution_count": 71,
      "outputs": []
    },
    {
      "cell_type": "code",
      "source": [
        "def train_v2(model, train_loader, criterion, optimizer, device, num_epochs=10):\n",
        "    model.to(device)\n",
        "    model.train()\n",
        "\n",
        "    for epoch in range(num_epochs):\n",
        "        running_loss = 0.0\n",
        "\n",
        "        for mel_spec, labels in train_loader:\n",
        "            # Handle NaN values\n",
        "            mel_spec[torch.isnan(mel_spec)] = 0\n",
        "\n",
        "            mel_spec, labels = mel_spec.to(device), labels.to(device)\n",
        "\n",
        "            optimizer.zero_grad()  # Moved zero_grad to before forward pass\n",
        "            outputs = model(mel_spec)\n",
        "            loss = criterion(outputs, labels)\n",
        "\n",
        "            loss.backward()\n",
        "            optimizer.step()\n",
        "\n",
        "            running_loss += loss.item()\n",
        "\n",
        "        print(f\"Epoch [{epoch+1}/{num_epochs}], Loss: {running_loss / len(train_loader):.4f}\")\n"
      ],
      "metadata": {
        "id": "BkqWYY-LzApw"
      },
      "execution_count": 69,
      "outputs": []
    },
    {
      "cell_type": "code",
      "source": [
        "from torch.utils.data import DataLoader\n",
        "\n",
        "csv_path = \"/content/subset_magnatune.csv\"\n",
        "\n",
        "\n",
        "train_dataset = MusicGenreDataset(train_df)\n",
        "val_dataset = MusicGenreDataset(val_df)\n",
        "test_dataset = MusicGenreDataset(test_df)\n",
        "train_loader = DataLoader(train_dataset, batch_size=32, shuffle=True)\n",
        "\n",
        "\n",
        "num_classes = len(train_dataset.labels)\n",
        "\n",
        "model = AudioCNN_v2(num_classes=num_classes)\n",
        "\n",
        "criterion = nn.BCEWithLogitsLoss()\n",
        "optimizer = optim.Adam(model.parameters(), lr=0.001)\n",
        "\n",
        "\n",
        "device = torch.device(\"cuda\" if torch.cuda.is_available() else \"cpu\")\n",
        "\n",
        "train_v2(model, train_loader, criterion, optimizer, device, num_epochs=10)\n"
      ],
      "metadata": {
        "id": "c1g9nn-3zH0Z",
        "outputId": "1d96ce75-5ec2-488a-f82b-a88fd25d2b0b",
        "colab": {
          "base_uri": "https://localhost:8080/"
        }
      },
      "execution_count": 72,
      "outputs": [
        {
          "output_type": "stream",
          "name": "stdout",
          "text": [
            "Epoch [1/10], Loss: 0.4198\n",
            "Epoch [2/10], Loss: 0.2205\n",
            "Epoch [3/10], Loss: 0.2002\n",
            "Epoch [4/10], Loss: 0.1931\n",
            "Epoch [5/10], Loss: 0.1885\n",
            "Epoch [6/10], Loss: 0.1841\n",
            "Epoch [7/10], Loss: 0.1802\n",
            "Epoch [8/10], Loss: 0.1766\n",
            "Epoch [9/10], Loss: 0.1721\n",
            "Epoch [10/10], Loss: 0.1678\n"
          ]
        }
      ]
    },
    {
      "cell_type": "code",
      "source": [
        "model.eval()\n",
        "maps=[]\n",
        "accs=[]\n",
        "for j in range(896,896+128):\n",
        "  wv, lizt = predict_from_clip_id(j,\"/content/subset_magnatune.csv\",model)\n",
        "  for i in lizt:\n",
        "    maps.append(mean_average_precision([k[1] for k in lizt]))\n",
        "    accs.append(len([k[1] for k in lizt if k[1]==1 ])/5)\n",
        "\n",
        "# ipd.Audio(wv, rate=16000)\n",
        "print(\"average of Mean Average Precsision in test set \" + str(np.average(maps)))\n",
        "print(\"average of Precsision in test set \" + str(np.average(accs)))\n",
        "\n",
        "maps=[]\n",
        "accs=[]\n",
        "for j in range(768,896):\n",
        "  wv, lizt = predict_from_clip_id(j,\"/content/subset_magnatune.csv\",model)\n",
        "  for i in lizt:\n",
        "    maps.append(mean_average_precision([k[1] for k in lizt]))\n",
        "    accs.append(len([k[1] for k in lizt if k[1]==1 ])/5)\n",
        "# ipd.Audio(wv, rate=16000)\n",
        "print(\"average of Mean Average Precsision in val set \" + str(np.average(maps)))\n",
        "print(\"average of Precsision in val set \" + str(np.average(accs)))\n",
        "\n",
        "maps=[]\n",
        "accs=[]\n",
        "for j in range(0,768):\n",
        "  wv, lizt = predict_from_clip_id(j,\"/content/subset_magnatune.csv\",model)\n",
        "  for i in lizt:\n",
        "    maps.append(mean_average_precision([k[1] for k in lizt]))\n",
        "    accs.append(len([k[1] for k in lizt if k[1]==1 ])/5)\n",
        "# ipd.Audio(wv, rate=16000)\n",
        "print(\"average of Mean Average Precsision in train set \" + str(np.average(maps)))\n",
        "print(\"average of Precsision in train set \" + str(np.average(accs)))"
      ],
      "metadata": {
        "id": "hzOvwGUD-YQ3",
        "outputId": "934c1751-ee31-49d9-b5e4-a2517c4e65b4",
        "colab": {
          "base_uri": "https://localhost:8080/"
        }
      },
      "execution_count": 75,
      "outputs": [
        {
          "output_type": "stream",
          "name": "stdout",
          "text": [
            "average of Mean Average Precsision in test set 0.2421875\n",
            "average of Precsision in test set 0.0484375\n",
            "average of Mean Average Precsision in val set 0.21080729166666665\n",
            "average of Precsision in val set 0.0484375\n",
            "average of Mean Average Precsision in train set 0.2166015625\n",
            "average of Precsision in train set 0.0484375\n"
          ]
        }
      ]
    },
    {
      "cell_type": "markdown",
      "metadata": {
        "id": "ef-Qjx1rdYEY"
      },
      "source": [
        "### [Question 3] Improve the performance.\n",
        "Now it is your turn. You should improve the baseline code with your own algorithm. There are many ways to improve it. The followings are possible ideas:\n",
        "\n",
        "* Change backbone model\n",
        "  - https://arxiv.org/abs/1711.02520\n",
        "  - https://arxiv.org/abs/2006.00751"
      ]
    },
    {
      "cell_type": "code",
      "source": [
        "import torch\n",
        "import torch.nn as nn\n",
        "import torch.nn.functional as F\n",
        "import torch.optim as optim\n",
        "\n",
        "class AudioCNN_Pro(nn.Module):\n",
        "    def __init__(self, num_classes=50):\n",
        "        super(AudioCNN_Pro, self).__init__()\n",
        "\n",
        "        self.conv1 = nn.Conv2d(1, 64, kernel_size=3, padding=1)\n",
        "        self.bn1 = nn.BatchNorm2d(64)\n",
        "        self.pool1 = nn.MaxPool2d(kernel_size=(4, 4))\n",
        "\n",
        "        self.conv2 = nn.Conv2d(64, 128, kernel_size=3, padding=1)\n",
        "        self.bn2 = nn.BatchNorm2d(128)\n",
        "        self.pool2 = nn.MaxPool2d(kernel_size=(3, 3))\n",
        "\n",
        "        self.conv3 = nn.Conv2d(128, 256, kernel_size=3, padding=1)\n",
        "        self.bn3 = nn.BatchNorm2d(256)\n",
        "        self.pool3 = nn.MaxPool2d(kernel_size=(3, 3))\n",
        "\n",
        "        self.conv4 = nn.Conv2d(256, 256, kernel_size=3, padding=1)\n",
        "        self.bn4 = nn.BatchNorm2d(256)\n",
        "        self.pool4 = nn.MaxPool2d(kernel_size=(2, 2))\n",
        "\n",
        "        self.conv5 = nn.Conv2d(256, 512, kernel_size=3, padding=1)\n",
        "        self.bn5 = nn.BatchNorm2d(512)\n",
        "\n",
        "        self.adaptive_pool = nn.AdaptiveAvgPool2d((1, 1))\n",
        "\n",
        "        self.fc1 = nn.Linear(512, 256)\n",
        "        self.dropout = nn.Dropout(0.3)\n",
        "        self.fc2 = nn.Linear(256, num_classes)\n",
        "\n",
        "    def forward(self, x):\n",
        "        x = self.pool1(F.relu(self.bn1(self.conv1(x))))\n",
        "        x = self.pool2(F.relu(self.bn2(self.conv2(x))))\n",
        "        x = self.pool3(F.relu(self.bn3(self.conv3(x))))\n",
        "        x = self.pool4(F.relu(self.bn4(self.conv4(x))))\n",
        "        x = F.relu(self.bn5(self.conv5(x)))\n",
        "\n",
        "        x = self.adaptive_pool(x)\n",
        "        x = torch.flatten(x, start_dim=1)\n",
        "\n",
        "        x = F.relu(self.fc1(x))\n",
        "        x = self.dropout(x)\n",
        "        x = self.fc2(x)\n",
        "\n",
        "        return x\n",
        "\n",
        "def train_v3(model, train_loader, criterion, optimizer, device, num_epochs=10, accumulation_steps=4):\n",
        "    model.to(device)\n",
        "    model.train()\n",
        "\n",
        "    scheduler = optim.lr_scheduler.CosineAnnealingLR(optimizer, T_max=num_epochs)\n",
        "\n",
        "    for epoch in range(num_epochs):\n",
        "        running_loss = 0.0\n",
        "        optimizer.zero_grad()\n",
        "\n",
        "        for i, (mel_spec, labels) in enumerate(train_loader):\n",
        "            if torch.isnan(mel_spec).any():\n",
        "                continue\n",
        "\n",
        "            mel_spec, labels = mel_spec.to(device), labels.to(device)\n",
        "\n",
        "            outputs = model(mel_spec)\n",
        "            loss = criterion(outputs, labels) / accumulation_steps\n",
        "\n",
        "            loss.backward()\n",
        "\n",
        "            if (i + 1) % accumulation_steps == 0:\n",
        "                optimizer.step()\n",
        "                optimizer.zero_grad()\n",
        "\n",
        "            running_loss += loss.item() * accumulation_steps\n",
        "\n",
        "        scheduler.step()\n",
        "        print(f\"Epoch [{epoch+1}/{num_epochs}], Loss: {running_loss / len(train_loader):.4f}\")\n"
      ],
      "metadata": {
        "id": "LfV-azYv-_UH"
      },
      "execution_count": 79,
      "outputs": []
    },
    {
      "cell_type": "code",
      "source": [
        "\n",
        "from torch.utils.data import DataLoader\n",
        "\n",
        "csv_path = \"/content/subset_magnatune.csv\"\n",
        "\n",
        "\n",
        "train_dataset = MusicGenreDataset(train_df)\n",
        "val_dataset = MusicGenreDataset(val_df)\n",
        "test_dataset = MusicGenreDataset(test_df)\n",
        "train_loader = DataLoader(train_dataset, batch_size=32, shuffle=True)\n",
        "\n",
        "\n",
        "num_classes = len(train_dataset.labels)\n",
        "\n",
        "model = AudioCNN_Pro(num_classes=num_classes)\n",
        "\n",
        "criterion = nn.BCEWithLogitsLoss()\n",
        "optimizer = optim.AdamW(model.parameters(), lr=0.0005, weight_decay=1e-4)\n",
        "\n",
        "device = torch.device(\"cuda\" if torch.cuda.is_available() else \"cpu\")\n",
        "\n",
        "train_v3(model, train_loader, criterion, optimizer, device, num_epochs=10)\n"
      ],
      "metadata": {
        "id": "m4HOWr7o_soj",
        "outputId": "7f631818-5f3b-4fdb-a69d-d1b86fb938a9",
        "colab": {
          "base_uri": "https://localhost:8080/"
        }
      },
      "execution_count": 80,
      "outputs": [
        {
          "output_type": "stream",
          "name": "stdout",
          "text": [
            "Epoch [1/10], Loss: 0.5891\n",
            "Epoch [2/10], Loss: 0.3996\n",
            "Epoch [3/10], Loss: 0.2580\n",
            "Epoch [4/10], Loss: 0.2178\n",
            "Epoch [5/10], Loss: 0.2117\n",
            "Epoch [6/10], Loss: 0.2045\n",
            "Epoch [7/10], Loss: 0.2000\n",
            "Epoch [8/10], Loss: 0.1975\n",
            "Epoch [9/10], Loss: 0.1957\n",
            "Epoch [10/10], Loss: 0.1949\n"
          ]
        }
      ]
    },
    {
      "cell_type": "code",
      "source": [
        "model.eval()\n",
        "maps=[]\n",
        "accs=[]\n",
        "for j in range(896,896+128):\n",
        "  wv, lizt = predict_from_clip_id(j,\"/content/subset_magnatune.csv\",model)\n",
        "  for i in lizt:\n",
        "    maps.append(mean_average_precision([k[1] for k in lizt]))\n",
        "    accs.append(len([k[1] for k in lizt if k[1]==1 ])/5)\n",
        "\n",
        "# ipd.Audio(wv, rate=16000)\n",
        "print(\"average of Mean Average Precsision in test set \" + str(np.average(maps)))\n",
        "print(\"average of Precsision in test set \" + str(np.average(accs)))\n",
        "\n",
        "maps=[]\n",
        "accs=[]\n",
        "for j in range(768,896):\n",
        "  wv, lizt = predict_from_clip_id(j,\"/content/subset_magnatune.csv\",model)\n",
        "  for i in lizt:\n",
        "    maps.append(mean_average_precision([k[1] for k in lizt]))\n",
        "    accs.append(len([k[1] for k in lizt if k[1]==1 ])/5)\n",
        "# ipd.Audio(wv, rate=16000)\n",
        "print(\"average of Mean Average Precsision in val set \" + str(np.average(maps)))\n",
        "print(\"average of Precsision in val set \" + str(np.average(accs)))\n",
        "\n",
        "maps=[]\n",
        "accs=[]\n",
        "for j in range(0,768):\n",
        "  wv, lizt = predict_from_clip_id(j,\"/content/subset_magnatune.csv\",model)\n",
        "  for i in lizt:\n",
        "    maps.append(mean_average_precision([k[1] for k in lizt]))\n",
        "    accs.append(len([k[1] for k in lizt if k[1]==1 ])/5)\n",
        "# ipd.Audio(wv, rate=16000)\n",
        "print(\"average of Mean Average Precsision in train set \" + str(np.average(maps)))\n",
        "print(\"average of Precsision in train set \" + str(np.average(accs)))"
      ],
      "metadata": {
        "id": "84gG0vVd_9Pb",
        "outputId": "3d593dbc-03d7-499f-9629-b95550e5adc9",
        "colab": {
          "base_uri": "https://localhost:8080/"
        }
      },
      "execution_count": 81,
      "outputs": [
        {
          "output_type": "stream",
          "name": "stdout",
          "text": [
            "average of Mean Average Precsision in test set 0.09296875\n",
            "average of Precsision in test set 0.04375\n",
            "average of Mean Average Precsision in val set 0.05234375\n",
            "average of Precsision in val set 0.0203125\n",
            "average of Mean Average Precsision in train set 0.04147135416666666\n",
            "average of Precsision in train set 0.017447916666666667\n"
          ]
        }
      ]
    },
    {
      "cell_type": "code",
      "execution_count": null,
      "metadata": {
        "id": "3GtNCNZV5Ddj"
      },
      "outputs": [],
      "source": []
    }
  ],
  "metadata": {
    "colab": {
      "name": "Aula 12 - CNNs - JAX.ipynb",
      "provenance": [],
      "gpuType": "T4",
      "include_colab_link": true
    },
    "kernelspec": {
      "display_name": "Python 3",
      "name": "python3"
    },
    "language_info": {
      "codemirror_mode": {
        "name": "ipython",
        "version": 3
      },
      "file_extension": ".py",
      "mimetype": "text/x-python",
      "name": "python",
      "nbconvert_exporter": "python",
      "pygments_lexer": "ipython3",
      "version": "3.11.3"
    },
    "accelerator": "GPU"
  },
  "nbformat": 4,
  "nbformat_minor": 0
}