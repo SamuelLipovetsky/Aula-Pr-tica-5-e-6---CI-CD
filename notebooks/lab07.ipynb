{
  "cells": [
    {
      "cell_type": "markdown",
      "metadata": {
        "id": "view-in-github",
        "colab_type": "text"
      },
      "source": [
        "<a href=\"https://colab.research.google.com/github/SamuelLipovetsky/Aula-Pr-tica-5-e-6---CI-CD/blob/main/notebooks/lab07.ipynb\" target=\"_parent\"><img src=\"https://colab.research.google.com/assets/colab-badge.svg\" alt=\"Open In Colab\"/></a>"
      ]
    },
    {
      "cell_type": "code",
      "execution_count": 101,
      "metadata": {
        "colab": {
          "base_uri": "https://localhost:8080/"
        },
        "id": "24Z3lbk00Uwg",
        "outputId": "6cc29241-943c-4bdf-d6fc-ae52ab1fbb8f"
      },
      "outputs": [
        {
          "output_type": "stream",
          "name": "stdout",
          "text": [
            "Collecting git+https://github.com/flaviovdf/musica.git\n",
            "  Cloning https://github.com/flaviovdf/musica.git to /tmp/pip-req-build-npx7j9ik\n",
            "  Running command git clone --filter=blob:none --quiet https://github.com/flaviovdf/musica.git /tmp/pip-req-build-npx7j9ik\n",
            "  Resolved https://github.com/flaviovdf/musica.git to commit 32d10fd5de31f283bf5d9484a43cba67b605b16c\n",
            "  Preparing metadata (setup.py) ... \u001b[?25l\u001b[?25hdone\n",
            "Requirement already satisfied: flax in /usr/local/lib/python3.11/dist-packages (from musica_dcc_ufmg==0.1) (0.10.2)\n",
            "Requirement already satisfied: jax in /usr/local/lib/python3.11/dist-packages (from musica_dcc_ufmg==0.1) (0.4.33)\n",
            "Requirement already satisfied: librosa in /usr/local/lib/python3.11/dist-packages (from musica_dcc_ufmg==0.1) (0.10.2.post1)\n",
            "Requirement already satisfied: matplotlib in /usr/local/lib/python3.11/dist-packages (from musica_dcc_ufmg==0.1) (3.10.0)\n",
            "Requirement already satisfied: music21 in /usr/local/lib/python3.11/dist-packages (from musica_dcc_ufmg==0.1) (9.3.0)\n",
            "Requirement already satisfied: pandas in /usr/local/lib/python3.11/dist-packages (from musica_dcc_ufmg==0.1) (2.2.2)\n",
            "Requirement already satisfied: numpy in /usr/local/lib/python3.11/dist-packages (from musica_dcc_ufmg==0.1) (1.26.4)\n",
            "Requirement already satisfied: scipy in /usr/local/lib/python3.11/dist-packages (from musica_dcc_ufmg==0.1) (1.13.1)\n",
            "Requirement already satisfied: msgpack in /usr/local/lib/python3.11/dist-packages (from flax->musica_dcc_ufmg==0.1) (1.1.0)\n",
            "Requirement already satisfied: optax in /usr/local/lib/python3.11/dist-packages (from flax->musica_dcc_ufmg==0.1) (0.2.4)\n",
            "Requirement already satisfied: orbax-checkpoint in /usr/local/lib/python3.11/dist-packages (from flax->musica_dcc_ufmg==0.1) (0.6.4)\n",
            "Requirement already satisfied: tensorstore in /usr/local/lib/python3.11/dist-packages (from flax->musica_dcc_ufmg==0.1) (0.1.71)\n",
            "Requirement already satisfied: rich>=11.1 in /usr/local/lib/python3.11/dist-packages (from flax->musica_dcc_ufmg==0.1) (13.9.4)\n",
            "Requirement already satisfied: typing-extensions>=4.2 in /usr/local/lib/python3.11/dist-packages (from flax->musica_dcc_ufmg==0.1) (4.12.2)\n",
            "Requirement already satisfied: PyYAML>=5.4.1 in /usr/local/lib/python3.11/dist-packages (from flax->musica_dcc_ufmg==0.1) (6.0.2)\n",
            "Requirement already satisfied: jaxlib<=0.4.33,>=0.4.33 in /usr/local/lib/python3.11/dist-packages (from jax->musica_dcc_ufmg==0.1) (0.4.33)\n",
            "Requirement already satisfied: ml-dtypes>=0.2.0 in /usr/local/lib/python3.11/dist-packages (from jax->musica_dcc_ufmg==0.1) (0.4.1)\n",
            "Requirement already satisfied: opt-einsum in /usr/local/lib/python3.11/dist-packages (from jax->musica_dcc_ufmg==0.1) (3.4.0)\n",
            "Requirement already satisfied: audioread>=2.1.9 in /usr/local/lib/python3.11/dist-packages (from librosa->musica_dcc_ufmg==0.1) (3.0.1)\n",
            "Requirement already satisfied: scikit-learn>=0.20.0 in /usr/local/lib/python3.11/dist-packages (from librosa->musica_dcc_ufmg==0.1) (1.6.1)\n",
            "Requirement already satisfied: joblib>=0.14 in /usr/local/lib/python3.11/dist-packages (from librosa->musica_dcc_ufmg==0.1) (1.4.2)\n",
            "Requirement already satisfied: decorator>=4.3.0 in /usr/local/lib/python3.11/dist-packages (from librosa->musica_dcc_ufmg==0.1) (4.4.2)\n",
            "Requirement already satisfied: numba>=0.51.0 in /usr/local/lib/python3.11/dist-packages (from librosa->musica_dcc_ufmg==0.1) (0.60.0)\n",
            "Requirement already satisfied: soundfile>=0.12.1 in /usr/local/lib/python3.11/dist-packages (from librosa->musica_dcc_ufmg==0.1) (0.13.0)\n",
            "Requirement already satisfied: pooch>=1.1 in /usr/local/lib/python3.11/dist-packages (from librosa->musica_dcc_ufmg==0.1) (1.8.2)\n",
            "Requirement already satisfied: soxr>=0.3.2 in /usr/local/lib/python3.11/dist-packages (from librosa->musica_dcc_ufmg==0.1) (0.5.0.post1)\n",
            "Requirement already satisfied: lazy-loader>=0.1 in /usr/local/lib/python3.11/dist-packages (from librosa->musica_dcc_ufmg==0.1) (0.4)\n",
            "Requirement already satisfied: contourpy>=1.0.1 in /usr/local/lib/python3.11/dist-packages (from matplotlib->musica_dcc_ufmg==0.1) (1.3.1)\n",
            "Requirement already satisfied: cycler>=0.10 in /usr/local/lib/python3.11/dist-packages (from matplotlib->musica_dcc_ufmg==0.1) (0.12.1)\n",
            "Requirement already satisfied: fonttools>=4.22.0 in /usr/local/lib/python3.11/dist-packages (from matplotlib->musica_dcc_ufmg==0.1) (4.55.6)\n",
            "Requirement already satisfied: kiwisolver>=1.3.1 in /usr/local/lib/python3.11/dist-packages (from matplotlib->musica_dcc_ufmg==0.1) (1.4.8)\n",
            "Requirement already satisfied: packaging>=20.0 in /usr/local/lib/python3.11/dist-packages (from matplotlib->musica_dcc_ufmg==0.1) (24.2)\n",
            "Requirement already satisfied: pillow>=8 in /usr/local/lib/python3.11/dist-packages (from matplotlib->musica_dcc_ufmg==0.1) (11.1.0)\n",
            "Requirement already satisfied: pyparsing>=2.3.1 in /usr/local/lib/python3.11/dist-packages (from matplotlib->musica_dcc_ufmg==0.1) (3.2.1)\n",
            "Requirement already satisfied: python-dateutil>=2.7 in /usr/local/lib/python3.11/dist-packages (from matplotlib->musica_dcc_ufmg==0.1) (2.8.2)\n",
            "Requirement already satisfied: chardet in /usr/local/lib/python3.11/dist-packages (from music21->musica_dcc_ufmg==0.1) (5.2.0)\n",
            "Requirement already satisfied: jsonpickle in /usr/local/lib/python3.11/dist-packages (from music21->musica_dcc_ufmg==0.1) (4.0.1)\n",
            "Requirement already satisfied: more-itertools in /usr/local/lib/python3.11/dist-packages (from music21->musica_dcc_ufmg==0.1) (10.5.0)\n",
            "Requirement already satisfied: requests in /usr/local/lib/python3.11/dist-packages (from music21->musica_dcc_ufmg==0.1) (2.32.3)\n",
            "Requirement already satisfied: webcolors>=1.5 in /usr/local/lib/python3.11/dist-packages (from music21->musica_dcc_ufmg==0.1) (24.11.1)\n",
            "Requirement already satisfied: pytz>=2020.1 in /usr/local/lib/python3.11/dist-packages (from pandas->musica_dcc_ufmg==0.1) (2024.2)\n",
            "Requirement already satisfied: tzdata>=2022.7 in /usr/local/lib/python3.11/dist-packages (from pandas->musica_dcc_ufmg==0.1) (2025.1)\n",
            "Requirement already satisfied: llvmlite<0.44,>=0.43.0dev0 in /usr/local/lib/python3.11/dist-packages (from numba>=0.51.0->librosa->musica_dcc_ufmg==0.1) (0.43.0)\n",
            "Requirement already satisfied: platformdirs>=2.5.0 in /usr/local/lib/python3.11/dist-packages (from pooch>=1.1->librosa->musica_dcc_ufmg==0.1) (4.3.6)\n",
            "Requirement already satisfied: six>=1.5 in /usr/local/lib/python3.11/dist-packages (from python-dateutil>=2.7->matplotlib->musica_dcc_ufmg==0.1) (1.17.0)\n",
            "Requirement already satisfied: charset-normalizer<4,>=2 in /usr/local/lib/python3.11/dist-packages (from requests->music21->musica_dcc_ufmg==0.1) (3.4.1)\n",
            "Requirement already satisfied: idna<4,>=2.5 in /usr/local/lib/python3.11/dist-packages (from requests->music21->musica_dcc_ufmg==0.1) (3.10)\n",
            "Requirement already satisfied: urllib3<3,>=1.21.1 in /usr/local/lib/python3.11/dist-packages (from requests->music21->musica_dcc_ufmg==0.1) (2.3.0)\n",
            "Requirement already satisfied: certifi>=2017.4.17 in /usr/local/lib/python3.11/dist-packages (from requests->music21->musica_dcc_ufmg==0.1) (2024.12.14)\n",
            "Requirement already satisfied: markdown-it-py>=2.2.0 in /usr/local/lib/python3.11/dist-packages (from rich>=11.1->flax->musica_dcc_ufmg==0.1) (3.0.0)\n",
            "Requirement already satisfied: pygments<3.0.0,>=2.13.0 in /usr/local/lib/python3.11/dist-packages (from rich>=11.1->flax->musica_dcc_ufmg==0.1) (2.18.0)\n",
            "Requirement already satisfied: threadpoolctl>=3.1.0 in /usr/local/lib/python3.11/dist-packages (from scikit-learn>=0.20.0->librosa->musica_dcc_ufmg==0.1) (3.5.0)\n",
            "Requirement already satisfied: cffi>=1.0 in /usr/local/lib/python3.11/dist-packages (from soundfile>=0.12.1->librosa->musica_dcc_ufmg==0.1) (1.17.1)\n",
            "Requirement already satisfied: absl-py>=0.7.1 in /usr/local/lib/python3.11/dist-packages (from optax->flax->musica_dcc_ufmg==0.1) (1.4.0)\n",
            "Requirement already satisfied: chex>=0.1.87 in /usr/local/lib/python3.11/dist-packages (from optax->flax->musica_dcc_ufmg==0.1) (0.1.88)\n",
            "Requirement already satisfied: etils[epy] in /usr/local/lib/python3.11/dist-packages (from optax->flax->musica_dcc_ufmg==0.1) (1.11.0)\n",
            "Requirement already satisfied: nest_asyncio in /usr/local/lib/python3.11/dist-packages (from orbax-checkpoint->flax->musica_dcc_ufmg==0.1) (1.6.0)\n",
            "Requirement already satisfied: protobuf in /usr/local/lib/python3.11/dist-packages (from orbax-checkpoint->flax->musica_dcc_ufmg==0.1) (4.25.6)\n",
            "Requirement already satisfied: humanize in /usr/local/lib/python3.11/dist-packages (from orbax-checkpoint->flax->musica_dcc_ufmg==0.1) (4.11.0)\n",
            "Requirement already satisfied: pycparser in /usr/local/lib/python3.11/dist-packages (from cffi>=1.0->soundfile>=0.12.1->librosa->musica_dcc_ufmg==0.1) (2.22)\n",
            "Requirement already satisfied: toolz>=0.9.0 in /usr/local/lib/python3.11/dist-packages (from chex>=0.1.87->optax->flax->musica_dcc_ufmg==0.1) (0.12.1)\n",
            "Requirement already satisfied: mdurl~=0.1 in /usr/local/lib/python3.11/dist-packages (from markdown-it-py>=2.2.0->rich>=11.1->flax->musica_dcc_ufmg==0.1) (0.1.2)\n",
            "Requirement already satisfied: fsspec in /usr/local/lib/python3.11/dist-packages (from etils[epath,epy]->orbax-checkpoint->flax->musica_dcc_ufmg==0.1) (2024.10.0)\n",
            "Requirement already satisfied: importlib_resources in /usr/local/lib/python3.11/dist-packages (from etils[epath,epy]->orbax-checkpoint->flax->musica_dcc_ufmg==0.1) (6.5.2)\n",
            "Requirement already satisfied: zipp in /usr/local/lib/python3.11/dist-packages (from etils[epath,epy]->orbax-checkpoint->flax->musica_dcc_ufmg==0.1) (3.21.0)\n",
            "files.zip: 110MB [00:32, 7.33MB/s]"
          ]
        }
      ],
      "source": [
        "# Descomente para executar no colab\n",
        "! pip install git+https://github.com/flaviovdf/musica.git"
      ]
    },
    {
      "cell_type": "markdown",
      "metadata": {
        "id": "C34u1Fk_d855"
      },
      "source": [
        "# Music Auto Tagging (Multi-Label Classification and Metric Learning Approach)\n",
        "\n",
        "\n",
        "Music auto-tagging is an important task that can be used in many musical applications such as music search or recommender systems.\n",
        "\n",
        "Two central methods for representation learning include deep metric learning and classification, both having the same goal of learning a representation that can generalize well across tasks.\n",
        "\n",
        "Your mission is to build your own Neural Network model to represent audio signal. Specifically, the goals of this homework are as follows:\n",
        "\n",
        "* Experiencing the whole pipeline of deep learning based system: data preparation, feature extraction, model training and evaluation\n",
        "* Getting familiar with the Neural Network architectures for music representation\n",
        "* Using Pytorch in practice"
      ]
    },
    {
      "cell_type": "markdown",
      "metadata": {
        "id": "v5i1Y0_-cXv5"
      },
      "source": [
        "# Getting Ready\n",
        "\n",
        "## Preparing The Dataset\n",
        "We use the [magnatagatune](https://mirg.city.ac.uk/codeapps/the-magnatagatune-dataset) dataset which has been the most widely used in the music tagging task.  The MagnaTagATune dataset consists of 25k music\n",
        "clips from 6,622 unique songs.\n",
        "\n",
        "The dataset contains 30-second audio files including 189 different tags\n",
        "For this homework, we are going to use a magnatagatune with 8-second audio and only 50 genres.\n",
        "\n",
        "We use subset of magnatagatune dataset (9074 samples x 8 sec).\n",
        "\n",
        "To make your life easier, place them in a directory as below:\n",
        "\n",
        "```\n",
        "├── annotations_final.csv\n",
        "├── waveform\n",
        "  ├── 1\n",
        "  ├── ...\n",
        "  └── d\n",
        "```"
      ]
    },
    {
      "cell_type": "markdown",
      "metadata": {
        "id": "HMdtGjitcptx"
      },
      "source": [
        "## Importing Packages"
      ]
    },
    {
      "cell_type": "code",
      "execution_count": 102,
      "metadata": {
        "id": "SwAowYXSQSky"
      },
      "outputs": [],
      "source": [
        "from musica import mu_files\n",
        "from musica import mu_plots\n",
        "\n",
        "from glob import glob\n",
        "\n",
        "import flax.linen as nn\n",
        "import jax.numpy as jnp\n",
        "import jax\n",
        "\n",
        "import librosa\n",
        "import matplotlib.pyplot as plt\n",
        "import numpy as np\n",
        "import optax\n",
        "import os\n",
        "import pandas as pd"
      ]
    },
    {
      "cell_type": "code",
      "execution_count": 103,
      "metadata": {
        "id": "RSuBYJwKuJiz"
      },
      "outputs": [],
      "source": [
        "# mu_files.download('https://dcc.ufmg.br/~flaviovdf/mir/lab07/files.zip', 'files.zip',\n",
        "#              False)\n",
        "# mu_files.extract('files.zip', '.')"
      ]
    },
    {
      "cell_type": "code",
      "execution_count": 104,
      "metadata": {
        "colab": {
          "base_uri": "https://localhost:8080/"
        },
        "id": "8hjl2sAfkMhf",
        "outputId": "6bba0975-5cbb-48ab-f8ed-46ea331ac6bd"
      },
      "outputs": [
        {
          "output_type": "execute_result",
          "data": {
            "text/plain": [
              "<contextlib.ExitStack at 0x7ed7660a7590>"
            ]
          },
          "metadata": {},
          "execution_count": 104
        }
      ],
      "source": [
        "mu_plots.init_matplotlib()\n",
        "plt.ion()"
      ]
    },
    {
      "cell_type": "markdown",
      "metadata": {
        "id": "NyC0UrXH-Uh6"
      },
      "source": [
        "## Enabling and testing the GPU\n",
        "\n",
        "First, you'll need to enable GPUs for the Colab notebook:\n",
        "\n",
        "- Navigate to Edit (수정) → Notebook Settings (노트 설정)\n",
        "- select GPU from the Hardware Accelerator (하드웨어 가속기) drop-down\n",
        "\n",
        "Next, we'll confirm that we can connect to the GPU with PyTorch and check versions of packages:"
      ]
    },
    {
      "cell_type": "markdown",
      "metadata": {
        "id": "1IrP3qHvQuYi"
      },
      "source": [
        "If the cell above throws an error, then you should enable the GPU following the instruction above!"
      ]
    },
    {
      "cell_type": "markdown",
      "metadata": {
        "id": "yKtCz_FikqbW"
      },
      "source": [
        "# Data Checking\n"
      ]
    },
    {
      "cell_type": "code",
      "execution_count": 105,
      "metadata": {
        "colab": {
          "base_uri": "https://localhost:8080/"
        },
        "id": "eiEOlneUk13L",
        "outputId": "2d6391f6-a580-4cfa-8181-949e9a2e36d1"
      },
      "outputs": [
        {
          "output_type": "execute_result",
          "data": {
            "text/plain": [
              "(1048, 189)"
            ]
          },
          "metadata": {},
          "execution_count": 105
        }
      ],
      "source": [
        "df = pd.read_csv('subset_magnatune.csv', index_col=0)\n",
        "df.shape"
      ]
    },
    {
      "cell_type": "code",
      "execution_count": 106,
      "metadata": {
        "colab": {
          "base_uri": "https://localhost:8080/",
          "height": 391
        },
        "id": "tACYcVVNmY8R",
        "outputId": "c37d58d7-d85a-4e6a-e2f2-9f08f0999b65"
      },
      "outputs": [
        {
          "output_type": "execute_result",
          "data": {
            "text/plain": [
              "         no voice  singer  duet  plucking  hard rock  world  bongos  \\\n",
              "clip_id                                                               \n",
              "29              0       0     0         0          0      0       0   \n",
              "105             0       0     0         0          0      0       0   \n",
              "293             0       0     0         0          0      0       0   \n",
              "294             1       0     0         0          0      0       0   \n",
              "303             0       0     0         0          0      0       0   \n",
              "\n",
              "         harpsichord  female singing  clasical  ...  rap  metal  hip hop  \\\n",
              "clip_id                                         ...                        \n",
              "29                 0               0         0  ...    0      0        0   \n",
              "105                0               0         0  ...    0      0        0   \n",
              "293                0               0         0  ...    0      0        0   \n",
              "294                0               0         0  ...    0      0        0   \n",
              "303                0               0         0  ...    0      0        0   \n",
              "\n",
              "         quick  water  baroque  women  fiddle  english  \\\n",
              "clip_id                                                  \n",
              "29           0      0        0      0       0        0   \n",
              "105          0      0        0      0       0        0   \n",
              "293          0      0        0      0       0        0   \n",
              "294          0      0        0      0       0        0   \n",
              "303          0      0        0      0       0        0   \n",
              "\n",
              "                                                  mp3_path  \n",
              "clip_id                                                     \n",
              "29       0/american_bach_soloists-j_s__bach__cantatas_v...  \n",
              "105      0/rocket_city_riot-last_of_the_pleasure_seeker...  \n",
              "293        c/strojovna_07-number_1-01-ambi_crack-59-88.npy  \n",
              "294       c/strojovna_07-number_1-01-ambi_crack-88-117.npy  \n",
              "303      1/ambient_teknology-phoenix-01-ambient_teknolo...  \n",
              "\n",
              "[5 rows x 189 columns]"
            ],
            "text/html": [
              "\n",
              "  <div id=\"df-70aae03f-365a-4be7-b69b-c7d4fec8bfad\" class=\"colab-df-container\">\n",
              "    <div>\n",
              "<style scoped>\n",
              "    .dataframe tbody tr th:only-of-type {\n",
              "        vertical-align: middle;\n",
              "    }\n",
              "\n",
              "    .dataframe tbody tr th {\n",
              "        vertical-align: top;\n",
              "    }\n",
              "\n",
              "    .dataframe thead th {\n",
              "        text-align: right;\n",
              "    }\n",
              "</style>\n",
              "<table border=\"1\" class=\"dataframe\">\n",
              "  <thead>\n",
              "    <tr style=\"text-align: right;\">\n",
              "      <th></th>\n",
              "      <th>no voice</th>\n",
              "      <th>singer</th>\n",
              "      <th>duet</th>\n",
              "      <th>plucking</th>\n",
              "      <th>hard rock</th>\n",
              "      <th>world</th>\n",
              "      <th>bongos</th>\n",
              "      <th>harpsichord</th>\n",
              "      <th>female singing</th>\n",
              "      <th>clasical</th>\n",
              "      <th>...</th>\n",
              "      <th>rap</th>\n",
              "      <th>metal</th>\n",
              "      <th>hip hop</th>\n",
              "      <th>quick</th>\n",
              "      <th>water</th>\n",
              "      <th>baroque</th>\n",
              "      <th>women</th>\n",
              "      <th>fiddle</th>\n",
              "      <th>english</th>\n",
              "      <th>mp3_path</th>\n",
              "    </tr>\n",
              "    <tr>\n",
              "      <th>clip_id</th>\n",
              "      <th></th>\n",
              "      <th></th>\n",
              "      <th></th>\n",
              "      <th></th>\n",
              "      <th></th>\n",
              "      <th></th>\n",
              "      <th></th>\n",
              "      <th></th>\n",
              "      <th></th>\n",
              "      <th></th>\n",
              "      <th></th>\n",
              "      <th></th>\n",
              "      <th></th>\n",
              "      <th></th>\n",
              "      <th></th>\n",
              "      <th></th>\n",
              "      <th></th>\n",
              "      <th></th>\n",
              "      <th></th>\n",
              "      <th></th>\n",
              "      <th></th>\n",
              "    </tr>\n",
              "  </thead>\n",
              "  <tbody>\n",
              "    <tr>\n",
              "      <th>29</th>\n",
              "      <td>0</td>\n",
              "      <td>0</td>\n",
              "      <td>0</td>\n",
              "      <td>0</td>\n",
              "      <td>0</td>\n",
              "      <td>0</td>\n",
              "      <td>0</td>\n",
              "      <td>0</td>\n",
              "      <td>0</td>\n",
              "      <td>0</td>\n",
              "      <td>...</td>\n",
              "      <td>0</td>\n",
              "      <td>0</td>\n",
              "      <td>0</td>\n",
              "      <td>0</td>\n",
              "      <td>0</td>\n",
              "      <td>0</td>\n",
              "      <td>0</td>\n",
              "      <td>0</td>\n",
              "      <td>0</td>\n",
              "      <td>0/american_bach_soloists-j_s__bach__cantatas_v...</td>\n",
              "    </tr>\n",
              "    <tr>\n",
              "      <th>105</th>\n",
              "      <td>0</td>\n",
              "      <td>0</td>\n",
              "      <td>0</td>\n",
              "      <td>0</td>\n",
              "      <td>0</td>\n",
              "      <td>0</td>\n",
              "      <td>0</td>\n",
              "      <td>0</td>\n",
              "      <td>0</td>\n",
              "      <td>0</td>\n",
              "      <td>...</td>\n",
              "      <td>0</td>\n",
              "      <td>0</td>\n",
              "      <td>0</td>\n",
              "      <td>0</td>\n",
              "      <td>0</td>\n",
              "      <td>0</td>\n",
              "      <td>0</td>\n",
              "      <td>0</td>\n",
              "      <td>0</td>\n",
              "      <td>0/rocket_city_riot-last_of_the_pleasure_seeker...</td>\n",
              "    </tr>\n",
              "    <tr>\n",
              "      <th>293</th>\n",
              "      <td>0</td>\n",
              "      <td>0</td>\n",
              "      <td>0</td>\n",
              "      <td>0</td>\n",
              "      <td>0</td>\n",
              "      <td>0</td>\n",
              "      <td>0</td>\n",
              "      <td>0</td>\n",
              "      <td>0</td>\n",
              "      <td>0</td>\n",
              "      <td>...</td>\n",
              "      <td>0</td>\n",
              "      <td>0</td>\n",
              "      <td>0</td>\n",
              "      <td>0</td>\n",
              "      <td>0</td>\n",
              "      <td>0</td>\n",
              "      <td>0</td>\n",
              "      <td>0</td>\n",
              "      <td>0</td>\n",
              "      <td>c/strojovna_07-number_1-01-ambi_crack-59-88.npy</td>\n",
              "    </tr>\n",
              "    <tr>\n",
              "      <th>294</th>\n",
              "      <td>1</td>\n",
              "      <td>0</td>\n",
              "      <td>0</td>\n",
              "      <td>0</td>\n",
              "      <td>0</td>\n",
              "      <td>0</td>\n",
              "      <td>0</td>\n",
              "      <td>0</td>\n",
              "      <td>0</td>\n",
              "      <td>0</td>\n",
              "      <td>...</td>\n",
              "      <td>0</td>\n",
              "      <td>0</td>\n",
              "      <td>0</td>\n",
              "      <td>0</td>\n",
              "      <td>0</td>\n",
              "      <td>0</td>\n",
              "      <td>0</td>\n",
              "      <td>0</td>\n",
              "      <td>0</td>\n",
              "      <td>c/strojovna_07-number_1-01-ambi_crack-88-117.npy</td>\n",
              "    </tr>\n",
              "    <tr>\n",
              "      <th>303</th>\n",
              "      <td>0</td>\n",
              "      <td>0</td>\n",
              "      <td>0</td>\n",
              "      <td>0</td>\n",
              "      <td>0</td>\n",
              "      <td>0</td>\n",
              "      <td>0</td>\n",
              "      <td>0</td>\n",
              "      <td>0</td>\n",
              "      <td>0</td>\n",
              "      <td>...</td>\n",
              "      <td>0</td>\n",
              "      <td>0</td>\n",
              "      <td>0</td>\n",
              "      <td>0</td>\n",
              "      <td>0</td>\n",
              "      <td>0</td>\n",
              "      <td>0</td>\n",
              "      <td>0</td>\n",
              "      <td>0</td>\n",
              "      <td>1/ambient_teknology-phoenix-01-ambient_teknolo...</td>\n",
              "    </tr>\n",
              "  </tbody>\n",
              "</table>\n",
              "<p>5 rows × 189 columns</p>\n",
              "</div>\n",
              "    <div class=\"colab-df-buttons\">\n",
              "\n",
              "  <div class=\"colab-df-container\">\n",
              "    <button class=\"colab-df-convert\" onclick=\"convertToInteractive('df-70aae03f-365a-4be7-b69b-c7d4fec8bfad')\"\n",
              "            title=\"Convert this dataframe to an interactive table.\"\n",
              "            style=\"display:none;\">\n",
              "\n",
              "  <svg xmlns=\"http://www.w3.org/2000/svg\" height=\"24px\" viewBox=\"0 -960 960 960\">\n",
              "    <path d=\"M120-120v-720h720v720H120Zm60-500h600v-160H180v160Zm220 220h160v-160H400v160Zm0 220h160v-160H400v160ZM180-400h160v-160H180v160Zm440 0h160v-160H620v160ZM180-180h160v-160H180v160Zm440 0h160v-160H620v160Z\"/>\n",
              "  </svg>\n",
              "    </button>\n",
              "\n",
              "  <style>\n",
              "    .colab-df-container {\n",
              "      display:flex;\n",
              "      gap: 12px;\n",
              "    }\n",
              "\n",
              "    .colab-df-convert {\n",
              "      background-color: #E8F0FE;\n",
              "      border: none;\n",
              "      border-radius: 50%;\n",
              "      cursor: pointer;\n",
              "      display: none;\n",
              "      fill: #1967D2;\n",
              "      height: 32px;\n",
              "      padding: 0 0 0 0;\n",
              "      width: 32px;\n",
              "    }\n",
              "\n",
              "    .colab-df-convert:hover {\n",
              "      background-color: #E2EBFA;\n",
              "      box-shadow: 0px 1px 2px rgba(60, 64, 67, 0.3), 0px 1px 3px 1px rgba(60, 64, 67, 0.15);\n",
              "      fill: #174EA6;\n",
              "    }\n",
              "\n",
              "    .colab-df-buttons div {\n",
              "      margin-bottom: 4px;\n",
              "    }\n",
              "\n",
              "    [theme=dark] .colab-df-convert {\n",
              "      background-color: #3B4455;\n",
              "      fill: #D2E3FC;\n",
              "    }\n",
              "\n",
              "    [theme=dark] .colab-df-convert:hover {\n",
              "      background-color: #434B5C;\n",
              "      box-shadow: 0px 1px 3px 1px rgba(0, 0, 0, 0.15);\n",
              "      filter: drop-shadow(0px 1px 2px rgba(0, 0, 0, 0.3));\n",
              "      fill: #FFFFFF;\n",
              "    }\n",
              "  </style>\n",
              "\n",
              "    <script>\n",
              "      const buttonEl =\n",
              "        document.querySelector('#df-70aae03f-365a-4be7-b69b-c7d4fec8bfad button.colab-df-convert');\n",
              "      buttonEl.style.display =\n",
              "        google.colab.kernel.accessAllowed ? 'block' : 'none';\n",
              "\n",
              "      async function convertToInteractive(key) {\n",
              "        const element = document.querySelector('#df-70aae03f-365a-4be7-b69b-c7d4fec8bfad');\n",
              "        const dataTable =\n",
              "          await google.colab.kernel.invokeFunction('convertToInteractive',\n",
              "                                                    [key], {});\n",
              "        if (!dataTable) return;\n",
              "\n",
              "        const docLinkHtml = 'Like what you see? Visit the ' +\n",
              "          '<a target=\"_blank\" href=https://colab.research.google.com/notebooks/data_table.ipynb>data table notebook</a>'\n",
              "          + ' to learn more about interactive tables.';\n",
              "        element.innerHTML = '';\n",
              "        dataTable['output_type'] = 'display_data';\n",
              "        await google.colab.output.renderOutput(dataTable, element);\n",
              "        const docLink = document.createElement('div');\n",
              "        docLink.innerHTML = docLinkHtml;\n",
              "        element.appendChild(docLink);\n",
              "      }\n",
              "    </script>\n",
              "  </div>\n",
              "\n",
              "\n",
              "<div id=\"df-1bd56569-6653-4eae-b117-c6480e0b9da7\">\n",
              "  <button class=\"colab-df-quickchart\" onclick=\"quickchart('df-1bd56569-6653-4eae-b117-c6480e0b9da7')\"\n",
              "            title=\"Suggest charts\"\n",
              "            style=\"display:none;\">\n",
              "\n",
              "<svg xmlns=\"http://www.w3.org/2000/svg\" height=\"24px\"viewBox=\"0 0 24 24\"\n",
              "     width=\"24px\">\n",
              "    <g>\n",
              "        <path d=\"M19 3H5c-1.1 0-2 .9-2 2v14c0 1.1.9 2 2 2h14c1.1 0 2-.9 2-2V5c0-1.1-.9-2-2-2zM9 17H7v-7h2v7zm4 0h-2V7h2v10zm4 0h-2v-4h2v4z\"/>\n",
              "    </g>\n",
              "</svg>\n",
              "  </button>\n",
              "\n",
              "<style>\n",
              "  .colab-df-quickchart {\n",
              "      --bg-color: #E8F0FE;\n",
              "      --fill-color: #1967D2;\n",
              "      --hover-bg-color: #E2EBFA;\n",
              "      --hover-fill-color: #174EA6;\n",
              "      --disabled-fill-color: #AAA;\n",
              "      --disabled-bg-color: #DDD;\n",
              "  }\n",
              "\n",
              "  [theme=dark] .colab-df-quickchart {\n",
              "      --bg-color: #3B4455;\n",
              "      --fill-color: #D2E3FC;\n",
              "      --hover-bg-color: #434B5C;\n",
              "      --hover-fill-color: #FFFFFF;\n",
              "      --disabled-bg-color: #3B4455;\n",
              "      --disabled-fill-color: #666;\n",
              "  }\n",
              "\n",
              "  .colab-df-quickchart {\n",
              "    background-color: var(--bg-color);\n",
              "    border: none;\n",
              "    border-radius: 50%;\n",
              "    cursor: pointer;\n",
              "    display: none;\n",
              "    fill: var(--fill-color);\n",
              "    height: 32px;\n",
              "    padding: 0;\n",
              "    width: 32px;\n",
              "  }\n",
              "\n",
              "  .colab-df-quickchart:hover {\n",
              "    background-color: var(--hover-bg-color);\n",
              "    box-shadow: 0 1px 2px rgba(60, 64, 67, 0.3), 0 1px 3px 1px rgba(60, 64, 67, 0.15);\n",
              "    fill: var(--button-hover-fill-color);\n",
              "  }\n",
              "\n",
              "  .colab-df-quickchart-complete:disabled,\n",
              "  .colab-df-quickchart-complete:disabled:hover {\n",
              "    background-color: var(--disabled-bg-color);\n",
              "    fill: var(--disabled-fill-color);\n",
              "    box-shadow: none;\n",
              "  }\n",
              "\n",
              "  .colab-df-spinner {\n",
              "    border: 2px solid var(--fill-color);\n",
              "    border-color: transparent;\n",
              "    border-bottom-color: var(--fill-color);\n",
              "    animation:\n",
              "      spin 1s steps(1) infinite;\n",
              "  }\n",
              "\n",
              "  @keyframes spin {\n",
              "    0% {\n",
              "      border-color: transparent;\n",
              "      border-bottom-color: var(--fill-color);\n",
              "      border-left-color: var(--fill-color);\n",
              "    }\n",
              "    20% {\n",
              "      border-color: transparent;\n",
              "      border-left-color: var(--fill-color);\n",
              "      border-top-color: var(--fill-color);\n",
              "    }\n",
              "    30% {\n",
              "      border-color: transparent;\n",
              "      border-left-color: var(--fill-color);\n",
              "      border-top-color: var(--fill-color);\n",
              "      border-right-color: var(--fill-color);\n",
              "    }\n",
              "    40% {\n",
              "      border-color: transparent;\n",
              "      border-right-color: var(--fill-color);\n",
              "      border-top-color: var(--fill-color);\n",
              "    }\n",
              "    60% {\n",
              "      border-color: transparent;\n",
              "      border-right-color: var(--fill-color);\n",
              "    }\n",
              "    80% {\n",
              "      border-color: transparent;\n",
              "      border-right-color: var(--fill-color);\n",
              "      border-bottom-color: var(--fill-color);\n",
              "    }\n",
              "    90% {\n",
              "      border-color: transparent;\n",
              "      border-bottom-color: var(--fill-color);\n",
              "    }\n",
              "  }\n",
              "</style>\n",
              "\n",
              "  <script>\n",
              "    async function quickchart(key) {\n",
              "      const quickchartButtonEl =\n",
              "        document.querySelector('#' + key + ' button');\n",
              "      quickchartButtonEl.disabled = true;  // To prevent multiple clicks.\n",
              "      quickchartButtonEl.classList.add('colab-df-spinner');\n",
              "      try {\n",
              "        const charts = await google.colab.kernel.invokeFunction(\n",
              "            'suggestCharts', [key], {});\n",
              "      } catch (error) {\n",
              "        console.error('Error during call to suggestCharts:', error);\n",
              "      }\n",
              "      quickchartButtonEl.classList.remove('colab-df-spinner');\n",
              "      quickchartButtonEl.classList.add('colab-df-quickchart-complete');\n",
              "    }\n",
              "    (() => {\n",
              "      let quickchartButtonEl =\n",
              "        document.querySelector('#df-1bd56569-6653-4eae-b117-c6480e0b9da7 button');\n",
              "      quickchartButtonEl.style.display =\n",
              "        google.colab.kernel.accessAllowed ? 'block' : 'none';\n",
              "    })();\n",
              "  </script>\n",
              "</div>\n",
              "\n",
              "    </div>\n",
              "  </div>\n"
            ],
            "application/vnd.google.colaboratory.intrinsic+json": {
              "type": "dataframe",
              "variable_name": "df"
            }
          },
          "metadata": {},
          "execution_count": 106
        }
      ],
      "source": [
        "df.head()"
      ]
    },
    {
      "cell_type": "code",
      "execution_count": 107,
      "metadata": {
        "colab": {
          "base_uri": "https://localhost:8080/",
          "height": 1000
        },
        "id": "mLEyujG_k_pm",
        "outputId": "b996b76f-ca91-4398-90ef-77daae690946"
      },
      "outputs": [
        {
          "output_type": "execute_result",
          "data": {
            "text/plain": [
              "[Text(0, 0.5, 'Frequência')]"
            ]
          },
          "metadata": {},
          "execution_count": 107
        },
        {
          "output_type": "display_data",
          "data": {
            "text/plain": [
              "<Figure size 1600x1000 with 1 Axes>"
            ],
            "image/png": "[encoded data removed]"
          },
          "metadata": {}
        }
      ],
      "source": [
        "_, ax = plt.subplots(1, 1)\n",
        "(df.iloc[:, :-1].sum().\n",
        " sort_values(ascending=False)[:50].\n",
        " plot.bar(ax=ax, rot=90, edgecolor='k')\n",
        ")\n",
        "ax.set(ylabel='Frequência')"
      ]
    },
    {
      "cell_type": "code",
      "execution_count": 108,
      "metadata": {
        "colab": {
          "base_uri": "https://localhost:8080/"
        },
        "id": "qZWblXe6eLf8",
        "outputId": "03702586-b1f2-451d-ff8a-1a179819fbbf"
      },
      "outputs": [
        {
          "output_type": "execute_result",
          "data": {
            "text/plain": [
              "Index(['guitar', 'classical', 'slow', 'techno', 'drums', 'fast', 'electronic',\n",
              "       'piano', 'strings', 'rock', 'beat', 'ambient', 'violin', 'vocal',\n",
              "       'harpsichord', 'synth', 'no vocals', 'indian', 'female', 'flute',\n",
              "       'loud', 'quiet', 'opera', 'sitar', 'male', 'no vocal', 'solo', 'vocals',\n",
              "       'singing', 'male vocal', 'soft', 'no voice', 'woman', 'choir', 'pop',\n",
              "       'beats', 'classic', 'harp', 'dance', 'electro', 'man', 'harpsicord',\n",
              "       'country', 'male voice', 'choral', 'metal', 'drum', 'cello', 'voice',\n",
              "       'female vocal'],\n",
              "      dtype='object')"
            ]
          },
          "metadata": {},
          "execution_count": 108
        }
      ],
      "source": [
        "top = (df.iloc[:, :-1].sum().\n",
        "       sort_values(ascending=False)[:50]).index\n",
        "top"
      ]
    },
    {
      "cell_type": "code",
      "execution_count": 109,
      "metadata": {
        "colab": {
          "base_uri": "https://localhost:8080/"
        },
        "id": "FcWppilceXD9",
        "outputId": "9663710b-73bb-4dd6-c022-35979414aab0"
      },
      "outputs": [
        {
          "output_type": "execute_result",
          "data": {
            "text/plain": [
              "(1048, 51)"
            ]
          },
          "metadata": {},
          "execution_count": 109
        }
      ],
      "source": [
        "df = df[[c for c in top] + ['mp3_path']]\n",
        "df.shape"
      ]
    },
    {
      "cell_type": "code",
      "execution_count": 110,
      "metadata": {
        "colab": {
          "base_uri": "https://localhost:8080/",
          "height": 371
        },
        "id": "fCMf0Tu2egDs",
        "outputId": "e3c38b96-48bd-4ec8-f738-ba55645607b2"
      },
      "outputs": [
        {
          "output_type": "execute_result",
          "data": {
            "text/plain": [
              "         guitar  classical  slow  techno  drums  fast  electronic  piano  \\\n",
              "clip_id                                                                    \n",
              "29            0          1     0       0      0     0           0      0   \n",
              "105           1          0     0       0      0     1           0      0   \n",
              "293           0          0     0       1      1     0           0      0   \n",
              "294           0          0     0       1      0     0           0      0   \n",
              "303           0          0     0       1      0     1           1      0   \n",
              "\n",
              "         strings  rock  ...  harpsicord  country  male voice  choral  metal  \\\n",
              "clip_id                 ...                                                   \n",
              "29             0     0  ...           0        0           0       0      0   \n",
              "105            0     1  ...           0        0           0       0      0   \n",
              "293            0     0  ...           0        0           0       0      0   \n",
              "294            0     0  ...           0        0           0       0      0   \n",
              "303            0     0  ...           0        0           0       0      0   \n",
              "\n",
              "         drum  cello  voice  female vocal  \\\n",
              "clip_id                                     \n",
              "29          0      0      0             0   \n",
              "105         0      0      0             0   \n",
              "293         0      0      0             0   \n",
              "294         0      0      0             0   \n",
              "303         0      0      0             0   \n",
              "\n",
              "                                                  mp3_path  \n",
              "clip_id                                                     \n",
              "29       0/american_bach_soloists-j_s__bach__cantatas_v...  \n",
              "105      0/rocket_city_riot-last_of_the_pleasure_seeker...  \n",
              "293        c/strojovna_07-number_1-01-ambi_crack-59-88.npy  \n",
              "294       c/strojovna_07-number_1-01-ambi_crack-88-117.npy  \n",
              "303      1/ambient_teknology-phoenix-01-ambient_teknolo...  \n",
              "\n",
              "[5 rows x 51 columns]"
            ],
            "text/html": [
              "\n",
              "  <div id=\"df-e70b27d4-bcd3-4eae-b25a-70dab5d576ba\" class=\"colab-df-container\">\n",
              "    <div>\n",
              "<style scoped>\n",
              "    .dataframe tbody tr th:only-of-type {\n",
              "        vertical-align: middle;\n",
              "    }\n",
              "\n",
              "    .dataframe tbody tr th {\n",
              "        vertical-align: top;\n",
              "    }\n",
              "\n",
              "    .dataframe thead th {\n",
              "        text-align: right;\n",
              "    }\n",
              "</style>\n",
              "<table border=\"1\" class=\"dataframe\">\n",
              "  <thead>\n",
              "    <tr style=\"text-align: right;\">\n",
              "      <th></th>\n",
              "      <th>guitar</th>\n",
              "      <th>classical</th>\n",
              "      <th>slow</th>\n",
              "      <th>techno</th>\n",
              "      <th>drums</th>\n",
              "      <th>fast</th>\n",
              "      <th>electronic</th>\n",
              "      <th>piano</th>\n",
              "      <th>strings</th>\n",
              "      <th>rock</th>\n",
              "      <th>...</th>\n",
              "      <th>harpsicord</th>\n",
              "      <th>country</th>\n",
              "      <th>male voice</th>\n",
              "      <th>choral</th>\n",
              "      <th>metal</th>\n",
              "      <th>drum</th>\n",
              "      <th>cello</th>\n",
              "      <th>voice</th>\n",
              "      <th>female vocal</th>\n",
              "      <th>mp3_path</th>\n",
              "    </tr>\n",
              "    <tr>\n",
              "      <th>clip_id</th>\n",
              "      <th></th>\n",
              "      <th></th>\n",
              "      <th></th>\n",
              "      <th></th>\n",
              "      <th></th>\n",
              "      <th></th>\n",
              "      <th></th>\n",
              "      <th></th>\n",
              "      <th></th>\n",
              "      <th></th>\n",
              "      <th></th>\n",
              "      <th></th>\n",
              "      <th></th>\n",
              "      <th></th>\n",
              "      <th></th>\n",
              "      <th></th>\n",
              "      <th></th>\n",
              "      <th></th>\n",
              "      <th></th>\n",
              "      <th></th>\n",
              "      <th></th>\n",
              "    </tr>\n",
              "  </thead>\n",
              "  <tbody>\n",
              "    <tr>\n",
              "      <th>29</th>\n",
              "      <td>0</td>\n",
              "      <td>1</td>\n",
              "      <td>0</td>\n",
              "      <td>0</td>\n",
              "      <td>0</td>\n",
              "      <td>0</td>\n",
              "      <td>0</td>\n",
              "      <td>0</td>\n",
              "      <td>0</td>\n",
              "      <td>0</td>\n",
              "      <td>...</td>\n",
              "      <td>0</td>\n",
              "      <td>0</td>\n",
              "      <td>0</td>\n",
              "      <td>0</td>\n",
              "      <td>0</td>\n",
              "      <td>0</td>\n",
              "      <td>0</td>\n",
              "      <td>0</td>\n",
              "      <td>0</td>\n",
              "      <td>0/american_bach_soloists-j_s__bach__cantatas_v...</td>\n",
              "    </tr>\n",
              "    <tr>\n",
              "      <th>105</th>\n",
              "      <td>1</td>\n",
              "      <td>0</td>\n",
              "      <td>0</td>\n",
              "      <td>0</td>\n",
              "      <td>0</td>\n",
              "      <td>1</td>\n",
              "      <td>0</td>\n",
              "      <td>0</td>\n",
              "      <td>0</td>\n",
              "      <td>1</td>\n",
              "      <td>...</td>\n",
              "      <td>0</td>\n",
              "      <td>0</td>\n",
              "      <td>0</td>\n",
              "      <td>0</td>\n",
              "      <td>0</td>\n",
              "      <td>0</td>\n",
              "      <td>0</td>\n",
              "      <td>0</td>\n",
              "      <td>0</td>\n",
              "      <td>0/rocket_city_riot-last_of_the_pleasure_seeker...</td>\n",
              "    </tr>\n",
              "    <tr>\n",
              "      <th>293</th>\n",
              "      <td>0</td>\n",
              "      <td>0</td>\n",
              "      <td>0</td>\n",
              "      <td>1</td>\n",
              "      <td>1</td>\n",
              "      <td>0</td>\n",
              "      <td>0</td>\n",
              "      <td>0</td>\n",
              "      <td>0</td>\n",
              "      <td>0</td>\n",
              "      <td>...</td>\n",
              "      <td>0</td>\n",
              "      <td>0</td>\n",
              "      <td>0</td>\n",
              "      <td>0</td>\n",
              "      <td>0</td>\n",
              "      <td>0</td>\n",
              "      <td>0</td>\n",
              "      <td>0</td>\n",
              "      <td>0</td>\n",
              "      <td>c/strojovna_07-number_1-01-ambi_crack-59-88.npy</td>\n",
              "    </tr>\n",
              "    <tr>\n",
              "      <th>294</th>\n",
              "      <td>0</td>\n",
              "      <td>0</td>\n",
              "      <td>0</td>\n",
              "      <td>1</td>\n",
              "      <td>0</td>\n",
              "      <td>0</td>\n",
              "      <td>0</td>\n",
              "      <td>0</td>\n",
              "      <td>0</td>\n",
              "      <td>0</td>\n",
              "      <td>...</td>\n",
              "      <td>0</td>\n",
              "      <td>0</td>\n",
              "      <td>0</td>\n",
              "      <td>0</td>\n",
              "      <td>0</td>\n",
              "      <td>0</td>\n",
              "      <td>0</td>\n",
              "      <td>0</td>\n",
              "      <td>0</td>\n",
              "      <td>c/strojovna_07-number_1-01-ambi_crack-88-117.npy</td>\n",
              "    </tr>\n",
              "    <tr>\n",
              "      <th>303</th>\n",
              "      <td>0</td>\n",
              "      <td>0</td>\n",
              "      <td>0</td>\n",
              "      <td>1</td>\n",
              "      <td>0</td>\n",
              "      <td>1</td>\n",
              "      <td>1</td>\n",
              "      <td>0</td>\n",
              "      <td>0</td>\n",
              "      <td>0</td>\n",
              "      <td>...</td>\n",
              "      <td>0</td>\n",
              "      <td>0</td>\n",
              "      <td>0</td>\n",
              "      <td>0</td>\n",
              "      <td>0</td>\n",
              "      <td>0</td>\n",
              "      <td>0</td>\n",
              "      <td>0</td>\n",
              "      <td>0</td>\n",
              "      <td>1/ambient_teknology-phoenix-01-ambient_teknolo...</td>\n",
              "    </tr>\n",
              "  </tbody>\n",
              "</table>\n",
              "<p>5 rows × 51 columns</p>\n",
              "</div>\n",
              "    <div class=\"colab-df-buttons\">\n",
              "\n",
              "  <div class=\"colab-df-container\">\n",
              "    <button class=\"colab-df-convert\" onclick=\"convertToInteractive('df-e70b27d4-bcd3-4eae-b25a-70dab5d576ba')\"\n",
              "            title=\"Convert this dataframe to an interactive table.\"\n",
              "            style=\"display:none;\">\n",
              "\n",
              "  <svg xmlns=\"http://www.w3.org/2000/svg\" height=\"24px\" viewBox=\"0 -960 960 960\">\n",
              "    <path d=\"M120-120v-720h720v720H120Zm60-500h600v-160H180v160Zm220 220h160v-160H400v160Zm0 220h160v-160H400v160ZM180-400h160v-160H180v160Zm440 0h160v-160H620v160ZM180-180h160v-160H180v160Zm440 0h160v-160H620v160Z\"/>\n",
              "  </svg>\n",
              "    </button>\n",
              "\n",
              "  <style>\n",
              "    .colab-df-container {\n",
              "      display:flex;\n",
              "      gap: 12px;\n",
              "    }\n",
              "\n",
              "    .colab-df-convert {\n",
              "      background-color: #E8F0FE;\n",
              "      border: none;\n",
              "      border-radius: 50%;\n",
              "      cursor: pointer;\n",
              "      display: none;\n",
              "      fill: #1967D2;\n",
              "      height: 32px;\n",
              "      padding: 0 0 0 0;\n",
              "      width: 32px;\n",
              "    }\n",
              "\n",
              "    .colab-df-convert:hover {\n",
              "      background-color: #E2EBFA;\n",
              "      box-shadow: 0px 1px 2px rgba(60, 64, 67, 0.3), 0px 1px 3px 1px rgba(60, 64, 67, 0.15);\n",
              "      fill: #174EA6;\n",
              "    }\n",
              "\n",
              "    .colab-df-buttons div {\n",
              "      margin-bottom: 4px;\n",
              "    }\n",
              "\n",
              "    [theme=dark] .colab-df-convert {\n",
              "      background-color: #3B4455;\n",
              "      fill: #D2E3FC;\n",
              "    }\n",
              "\n",
              "    [theme=dark] .colab-df-convert:hover {\n",
              "      background-color: #434B5C;\n",
              "      box-shadow: 0px 1px 3px 1px rgba(0, 0, 0, 0.15);\n",
              "      filter: drop-shadow(0px 1px 2px rgba(0, 0, 0, 0.3));\n",
              "      fill: #FFFFFF;\n",
              "    }\n",
              "  </style>\n",
              "\n",
              "    <script>\n",
              "      const buttonEl =\n",
              "        document.querySelector('#df-e70b27d4-bcd3-4eae-b25a-70dab5d576ba button.colab-df-convert');\n",
              "      buttonEl.style.display =\n",
              "        google.colab.kernel.accessAllowed ? 'block' : 'none';\n",
              "\n",
              "      async function convertToInteractive(key) {\n",
              "        const element = document.querySelector('#df-e70b27d4-bcd3-4eae-b25a-70dab5d576ba');\n",
              "        const dataTable =\n",
              "          await google.colab.kernel.invokeFunction('convertToInteractive',\n",
              "                                                    [key], {});\n",
              "        if (!dataTable) return;\n",
              "\n",
              "        const docLinkHtml = 'Like what you see? Visit the ' +\n",
              "          '<a target=\"_blank\" href=https://colab.research.google.com/notebooks/data_table.ipynb>data table notebook</a>'\n",
              "          + ' to learn more about interactive tables.';\n",
              "        element.innerHTML = '';\n",
              "        dataTable['output_type'] = 'display_data';\n",
              "        await google.colab.output.renderOutput(dataTable, element);\n",
              "        const docLink = document.createElement('div');\n",
              "        docLink.innerHTML = docLinkHtml;\n",
              "        element.appendChild(docLink);\n",
              "      }\n",
              "    </script>\n",
              "  </div>\n",
              "\n",
              "\n",
              "<div id=\"df-04a201fa-85ab-4c90-922b-6b12e234c65a\">\n",
              "  <button class=\"colab-df-quickchart\" onclick=\"quickchart('df-04a201fa-85ab-4c90-922b-6b12e234c65a')\"\n",
              "            title=\"Suggest charts\"\n",
              "            style=\"display:none;\">\n",
              "\n",
              "<svg xmlns=\"http://www.w3.org/2000/svg\" height=\"24px\"viewBox=\"0 0 24 24\"\n",
              "     width=\"24px\">\n",
              "    <g>\n",
              "        <path d=\"M19 3H5c-1.1 0-2 .9-2 2v14c0 1.1.9 2 2 2h14c1.1 0 2-.9 2-2V5c0-1.1-.9-2-2-2zM9 17H7v-7h2v7zm4 0h-2V7h2v10zm4 0h-2v-4h2v4z\"/>\n",
              "    </g>\n",
              "</svg>\n",
              "  </button>\n",
              "\n",
              "<style>\n",
              "  .colab-df-quickchart {\n",
              "      --bg-color: #E8F0FE;\n",
              "      --fill-color: #1967D2;\n",
              "      --hover-bg-color: #E2EBFA;\n",
              "      --hover-fill-color: #174EA6;\n",
              "      --disabled-fill-color: #AAA;\n",
              "      --disabled-bg-color: #DDD;\n",
              "  }\n",
              "\n",
              "  [theme=dark] .colab-df-quickchart {\n",
              "      --bg-color: #3B4455;\n",
              "      --fill-color: #D2E3FC;\n",
              "      --hover-bg-color: #434B5C;\n",
              "      --hover-fill-color: #FFFFFF;\n",
              "      --disabled-bg-color: #3B4455;\n",
              "      --disabled-fill-color: #666;\n",
              "  }\n",
              "\n",
              "  .colab-df-quickchart {\n",
              "    background-color: var(--bg-color);\n",
              "    border: none;\n",
              "    border-radius: 50%;\n",
              "    cursor: pointer;\n",
              "    display: none;\n",
              "    fill: var(--fill-color);\n",
              "    height: 32px;\n",
              "    padding: 0;\n",
              "    width: 32px;\n",
              "  }\n",
              "\n",
              "  .colab-df-quickchart:hover {\n",
              "    background-color: var(--hover-bg-color);\n",
              "    box-shadow: 0 1px 2px rgba(60, 64, 67, 0.3), 0 1px 3px 1px rgba(60, 64, 67, 0.15);\n",
              "    fill: var(--button-hover-fill-color);\n",
              "  }\n",
              "\n",
              "  .colab-df-quickchart-complete:disabled,\n",
              "  .colab-df-quickchart-complete:disabled:hover {\n",
              "    background-color: var(--disabled-bg-color);\n",
              "    fill: var(--disabled-fill-color);\n",
              "    box-shadow: none;\n",
              "  }\n",
              "\n",
              "  .colab-df-spinner {\n",
              "    border: 2px solid var(--fill-color);\n",
              "    border-color: transparent;\n",
              "    border-bottom-color: var(--fill-color);\n",
              "    animation:\n",
              "      spin 1s steps(1) infinite;\n",
              "  }\n",
              "\n",
              "  @keyframes spin {\n",
              "    0% {\n",
              "      border-color: transparent;\n",
              "      border-bottom-color: var(--fill-color);\n",
              "      border-left-color: var(--fill-color);\n",
              "    }\n",
              "    20% {\n",
              "      border-color: transparent;\n",
              "      border-left-color: var(--fill-color);\n",
              "      border-top-color: var(--fill-color);\n",
              "    }\n",
              "    30% {\n",
              "      border-color: transparent;\n",
              "      border-left-color: var(--fill-color);\n",
              "      border-top-color: var(--fill-color);\n",
              "      border-right-color: var(--fill-color);\n",
              "    }\n",
              "    40% {\n",
              "      border-color: transparent;\n",
              "      border-right-color: var(--fill-color);\n",
              "      border-top-color: var(--fill-color);\n",
              "    }\n",
              "    60% {\n",
              "      border-color: transparent;\n",
              "      border-right-color: var(--fill-color);\n",
              "    }\n",
              "    80% {\n",
              "      border-color: transparent;\n",
              "      border-right-color: var(--fill-color);\n",
              "      border-bottom-color: var(--fill-color);\n",
              "    }\n",
              "    90% {\n",
              "      border-color: transparent;\n",
              "      border-bottom-color: var(--fill-color);\n",
              "    }\n",
              "  }\n",
              "</style>\n",
              "\n",
              "  <script>\n",
              "    async function quickchart(key) {\n",
              "      const quickchartButtonEl =\n",
              "        document.querySelector('#' + key + ' button');\n",
              "      quickchartButtonEl.disabled = true;  // To prevent multiple clicks.\n",
              "      quickchartButtonEl.classList.add('colab-df-spinner');\n",
              "      try {\n",
              "        const charts = await google.colab.kernel.invokeFunction(\n",
              "            'suggestCharts', [key], {});\n",
              "      } catch (error) {\n",
              "        console.error('Error during call to suggestCharts:', error);\n",
              "      }\n",
              "      quickchartButtonEl.classList.remove('colab-df-spinner');\n",
              "      quickchartButtonEl.classList.add('colab-df-quickchart-complete');\n",
              "    }\n",
              "    (() => {\n",
              "      let quickchartButtonEl =\n",
              "        document.querySelector('#df-04a201fa-85ab-4c90-922b-6b12e234c65a button');\n",
              "      quickchartButtonEl.style.display =\n",
              "        google.colab.kernel.accessAllowed ? 'block' : 'none';\n",
              "    })();\n",
              "  </script>\n",
              "</div>\n",
              "\n",
              "    </div>\n",
              "  </div>\n"
            ],
            "application/vnd.google.colaboratory.intrinsic+json": {
              "type": "dataframe",
              "variable_name": "df"
            }
          },
          "metadata": {},
          "execution_count": 110
        }
      ],
      "source": [
        "# (df.sum(axis=1) == 0).any()\n",
        "df.head()"
      ]
    },
    {
      "cell_type": "code",
      "execution_count": 111,
      "metadata": {
        "colab": {
          "base_uri": "https://localhost:8080/",
          "height": 371
        },
        "id": "SA2KEMj5ek8h",
        "outputId": "406813c6-1ecc-4032-e220-0741fd4c0347"
      },
      "outputs": [
        {
          "output_type": "execute_result",
          "data": {
            "text/plain": [
              "         guitar  classical  slow  techno  drums  fast  electronic  piano  \\\n",
              "clip_id                                                                    \n",
              "48992         0          0     0       0      1     0           0      0   \n",
              "22747         1          0     0       0      0     0           0      1   \n",
              "2142          0          0     0       0      1     0           1      0   \n",
              "5473          0          0     1       0      0     0           0      0   \n",
              "44938         0          1     0       0      0     0           0      1   \n",
              "\n",
              "         strings  rock  ...  harpsicord  country  male voice  choral  metal  \\\n",
              "clip_id                 ...                                                   \n",
              "48992          0     0  ...           0        0           0       0      0   \n",
              "22747          0     1  ...           0        0           0       0      0   \n",
              "2142           0     0  ...           0        0           0       0      0   \n",
              "5473           0     0  ...           0        0           0       0      0   \n",
              "44938          0     0  ...           0        0           0       0      0   \n",
              "\n",
              "         drum  cello  voice  female vocal  \\\n",
              "clip_id                                     \n",
              "48992       1      0      0             0   \n",
              "22747       0      0      0             0   \n",
              "2142        0      0      0             0   \n",
              "5473        0      0      0             0   \n",
              "44938       0      0      0             0   \n",
              "\n",
              "                                                  mp3_path  \n",
              "clip_id                                                     \n",
              "48992    1/william_brooks-karma_dogs-12-still_around-0-...  \n",
              "22747    0/barbara_leoni-human_needs-05-human_needs-117...  \n",
              "2142     b/wicked_allstars-dark_clouds-01-jazz_house-0-...  \n",
              "5473     a/bjorn_fogelberg-karooshi_porn-01-trioxidatio...  \n",
              "44938    1/tanya_tomkins_and_eric_zivian-beethoven_pian...  \n",
              "\n",
              "[5 rows x 51 columns]"
            ],
            "text/html": [
              "\n",
              "  <div id=\"df-a2e9786a-83c7-4d2a-80dd-84b8891a6135\" class=\"colab-df-container\">\n",
              "    <div>\n",
              "<style scoped>\n",
              "    .dataframe tbody tr th:only-of-type {\n",
              "        vertical-align: middle;\n",
              "    }\n",
              "\n",
              "    .dataframe tbody tr th {\n",
              "        vertical-align: top;\n",
              "    }\n",
              "\n",
              "    .dataframe thead th {\n",
              "        text-align: right;\n",
              "    }\n",
              "</style>\n",
              "<table border=\"1\" class=\"dataframe\">\n",
              "  <thead>\n",
              "    <tr style=\"text-align: right;\">\n",
              "      <th></th>\n",
              "      <th>guitar</th>\n",
              "      <th>classical</th>\n",
              "      <th>slow</th>\n",
              "      <th>techno</th>\n",
              "      <th>drums</th>\n",
              "      <th>fast</th>\n",
              "      <th>electronic</th>\n",
              "      <th>piano</th>\n",
              "      <th>strings</th>\n",
              "      <th>rock</th>\n",
              "      <th>...</th>\n",
              "      <th>harpsicord</th>\n",
              "      <th>country</th>\n",
              "      <th>male voice</th>\n",
              "      <th>choral</th>\n",
              "      <th>metal</th>\n",
              "      <th>drum</th>\n",
              "      <th>cello</th>\n",
              "      <th>voice</th>\n",
              "      <th>female vocal</th>\n",
              "      <th>mp3_path</th>\n",
              "    </tr>\n",
              "    <tr>\n",
              "      <th>clip_id</th>\n",
              "      <th></th>\n",
              "      <th></th>\n",
              "      <th></th>\n",
              "      <th></th>\n",
              "      <th></th>\n",
              "      <th></th>\n",
              "      <th></th>\n",
              "      <th></th>\n",
              "      <th></th>\n",
              "      <th></th>\n",
              "      <th></th>\n",
              "      <th></th>\n",
              "      <th></th>\n",
              "      <th></th>\n",
              "      <th></th>\n",
              "      <th></th>\n",
              "      <th></th>\n",
              "      <th></th>\n",
              "      <th></th>\n",
              "      <th></th>\n",
              "      <th></th>\n",
              "    </tr>\n",
              "  </thead>\n",
              "  <tbody>\n",
              "    <tr>\n",
              "      <th>48992</th>\n",
              "      <td>0</td>\n",
              "      <td>0</td>\n",
              "      <td>0</td>\n",
              "      <td>0</td>\n",
              "      <td>1</td>\n",
              "      <td>0</td>\n",
              "      <td>0</td>\n",
              "      <td>0</td>\n",
              "      <td>0</td>\n",
              "      <td>0</td>\n",
              "      <td>...</td>\n",
              "      <td>0</td>\n",
              "      <td>0</td>\n",
              "      <td>0</td>\n",
              "      <td>0</td>\n",
              "      <td>0</td>\n",
              "      <td>1</td>\n",
              "      <td>0</td>\n",
              "      <td>0</td>\n",
              "      <td>0</td>\n",
              "      <td>1/william_brooks-karma_dogs-12-still_around-0-...</td>\n",
              "    </tr>\n",
              "    <tr>\n",
              "      <th>22747</th>\n",
              "      <td>1</td>\n",
              "      <td>0</td>\n",
              "      <td>0</td>\n",
              "      <td>0</td>\n",
              "      <td>0</td>\n",
              "      <td>0</td>\n",
              "      <td>0</td>\n",
              "      <td>1</td>\n",
              "      <td>0</td>\n",
              "      <td>1</td>\n",
              "      <td>...</td>\n",
              "      <td>0</td>\n",
              "      <td>0</td>\n",
              "      <td>0</td>\n",
              "      <td>0</td>\n",
              "      <td>0</td>\n",
              "      <td>0</td>\n",
              "      <td>0</td>\n",
              "      <td>0</td>\n",
              "      <td>0</td>\n",
              "      <td>0/barbara_leoni-human_needs-05-human_needs-117...</td>\n",
              "    </tr>\n",
              "    <tr>\n",
              "      <th>2142</th>\n",
              "      <td>0</td>\n",
              "      <td>0</td>\n",
              "      <td>0</td>\n",
              "      <td>0</td>\n",
              "      <td>1</td>\n",
              "      <td>0</td>\n",
              "      <td>1</td>\n",
              "      <td>0</td>\n",
              "      <td>0</td>\n",
              "      <td>0</td>\n",
              "      <td>...</td>\n",
              "      <td>0</td>\n",
              "      <td>0</td>\n",
              "      <td>0</td>\n",
              "      <td>0</td>\n",
              "      <td>0</td>\n",
              "      <td>0</td>\n",
              "      <td>0</td>\n",
              "      <td>0</td>\n",
              "      <td>0</td>\n",
              "      <td>b/wicked_allstars-dark_clouds-01-jazz_house-0-...</td>\n",
              "    </tr>\n",
              "    <tr>\n",
              "      <th>5473</th>\n",
              "      <td>0</td>\n",
              "      <td>0</td>\n",
              "      <td>1</td>\n",
              "      <td>0</td>\n",
              "      <td>0</td>\n",
              "      <td>0</td>\n",
              "      <td>0</td>\n",
              "      <td>0</td>\n",
              "      <td>0</td>\n",
              "      <td>0</td>\n",
              "      <td>...</td>\n",
              "      <td>0</td>\n",
              "      <td>0</td>\n",
              "      <td>0</td>\n",
              "      <td>0</td>\n",
              "      <td>0</td>\n",
              "      <td>0</td>\n",
              "      <td>0</td>\n",
              "      <td>0</td>\n",
              "      <td>0</td>\n",
              "      <td>a/bjorn_fogelberg-karooshi_porn-01-trioxidatio...</td>\n",
              "    </tr>\n",
              "    <tr>\n",
              "      <th>44938</th>\n",
              "      <td>0</td>\n",
              "      <td>1</td>\n",
              "      <td>0</td>\n",
              "      <td>0</td>\n",
              "      <td>0</td>\n",
              "      <td>0</td>\n",
              "      <td>0</td>\n",
              "      <td>1</td>\n",
              "      <td>0</td>\n",
              "      <td>0</td>\n",
              "      <td>...</td>\n",
              "      <td>0</td>\n",
              "      <td>0</td>\n",
              "      <td>0</td>\n",
              "      <td>0</td>\n",
              "      <td>0</td>\n",
              "      <td>0</td>\n",
              "      <td>0</td>\n",
              "      <td>0</td>\n",
              "      <td>0</td>\n",
              "      <td>1/tanya_tomkins_and_eric_zivian-beethoven_pian...</td>\n",
              "    </tr>\n",
              "  </tbody>\n",
              "</table>\n",
              "<p>5 rows × 51 columns</p>\n",
              "</div>\n",
              "    <div class=\"colab-df-buttons\">\n",
              "\n",
              "  <div class=\"colab-df-container\">\n",
              "    <button class=\"colab-df-convert\" onclick=\"convertToInteractive('df-a2e9786a-83c7-4d2a-80dd-84b8891a6135')\"\n",
              "            title=\"Convert this dataframe to an interactive table.\"\n",
              "            style=\"display:none;\">\n",
              "\n",
              "  <svg xmlns=\"http://www.w3.org/2000/svg\" height=\"24px\" viewBox=\"0 -960 960 960\">\n",
              "    <path d=\"M120-120v-720h720v720H120Zm60-500h600v-160H180v160Zm220 220h160v-160H400v160Zm0 220h160v-160H400v160ZM180-400h160v-160H180v160Zm440 0h160v-160H620v160ZM180-180h160v-160H180v160Zm440 0h160v-160H620v160Z\"/>\n",
              "  </svg>\n",
              "    </button>\n",
              "\n",
              "  <style>\n",
              "    .colab-df-container {\n",
              "      display:flex;\n",
              "      gap: 12px;\n",
              "    }\n",
              "\n",
              "    .colab-df-convert {\n",
              "      background-color: #E8F0FE;\n",
              "      border: none;\n",
              "      border-radius: 50%;\n",
              "      cursor: pointer;\n",
              "      display: none;\n",
              "      fill: #1967D2;\n",
              "      height: 32px;\n",
              "      padding: 0 0 0 0;\n",
              "      width: 32px;\n",
              "    }\n",
              "\n",
              "    .colab-df-convert:hover {\n",
              "      background-color: #E2EBFA;\n",
              "      box-shadow: 0px 1px 2px rgba(60, 64, 67, 0.3), 0px 1px 3px 1px rgba(60, 64, 67, 0.15);\n",
              "      fill: #174EA6;\n",
              "    }\n",
              "\n",
              "    .colab-df-buttons div {\n",
              "      margin-bottom: 4px;\n",
              "    }\n",
              "\n",
              "    [theme=dark] .colab-df-convert {\n",
              "      background-color: #3B4455;\n",
              "      fill: #D2E3FC;\n",
              "    }\n",
              "\n",
              "    [theme=dark] .colab-df-convert:hover {\n",
              "      background-color: #434B5C;\n",
              "      box-shadow: 0px 1px 3px 1px rgba(0, 0, 0, 0.15);\n",
              "      filter: drop-shadow(0px 1px 2px rgba(0, 0, 0, 0.3));\n",
              "      fill: #FFFFFF;\n",
              "    }\n",
              "  </style>\n",
              "\n",
              "    <script>\n",
              "      const buttonEl =\n",
              "        document.querySelector('#df-a2e9786a-83c7-4d2a-80dd-84b8891a6135 button.colab-df-convert');\n",
              "      buttonEl.style.display =\n",
              "        google.colab.kernel.accessAllowed ? 'block' : 'none';\n",
              "\n",
              "      async function convertToInteractive(key) {\n",
              "        const element = document.querySelector('#df-a2e9786a-83c7-4d2a-80dd-84b8891a6135');\n",
              "        const dataTable =\n",
              "          await google.colab.kernel.invokeFunction('convertToInteractive',\n",
              "                                                    [key], {});\n",
              "        if (!dataTable) return;\n",
              "\n",
              "        const docLinkHtml = 'Like what you see? Visit the ' +\n",
              "          '<a target=\"_blank\" href=https://colab.research.google.com/notebooks/data_table.ipynb>data table notebook</a>'\n",
              "          + ' to learn more about interactive tables.';\n",
              "        element.innerHTML = '';\n",
              "        dataTable['output_type'] = 'display_data';\n",
              "        await google.colab.output.renderOutput(dataTable, element);\n",
              "        const docLink = document.createElement('div');\n",
              "        docLink.innerHTML = docLinkHtml;\n",
              "        element.appendChild(docLink);\n",
              "      }\n",
              "    </script>\n",
              "  </div>\n",
              "\n",
              "\n",
              "<div id=\"df-7000d23c-9236-4bc2-a5bc-aa05b697d0f1\">\n",
              "  <button class=\"colab-df-quickchart\" onclick=\"quickchart('df-7000d23c-9236-4bc2-a5bc-aa05b697d0f1')\"\n",
              "            title=\"Suggest charts\"\n",
              "            style=\"display:none;\">\n",
              "\n",
              "<svg xmlns=\"http://www.w3.org/2000/svg\" height=\"24px\"viewBox=\"0 0 24 24\"\n",
              "     width=\"24px\">\n",
              "    <g>\n",
              "        <path d=\"M19 3H5c-1.1 0-2 .9-2 2v14c0 1.1.9 2 2 2h14c1.1 0 2-.9 2-2V5c0-1.1-.9-2-2-2zM9 17H7v-7h2v7zm4 0h-2V7h2v10zm4 0h-2v-4h2v4z\"/>\n",
              "    </g>\n",
              "</svg>\n",
              "  </button>\n",
              "\n",
              "<style>\n",
              "  .colab-df-quickchart {\n",
              "      --bg-color: #E8F0FE;\n",
              "      --fill-color: #1967D2;\n",
              "      --hover-bg-color: #E2EBFA;\n",
              "      --hover-fill-color: #174EA6;\n",
              "      --disabled-fill-color: #AAA;\n",
              "      --disabled-bg-color: #DDD;\n",
              "  }\n",
              "\n",
              "  [theme=dark] .colab-df-quickchart {\n",
              "      --bg-color: #3B4455;\n",
              "      --fill-color: #D2E3FC;\n",
              "      --hover-bg-color: #434B5C;\n",
              "      --hover-fill-color: #FFFFFF;\n",
              "      --disabled-bg-color: #3B4455;\n",
              "      --disabled-fill-color: #666;\n",
              "  }\n",
              "\n",
              "  .colab-df-quickchart {\n",
              "    background-color: var(--bg-color);\n",
              "    border: none;\n",
              "    border-radius: 50%;\n",
              "    cursor: pointer;\n",
              "    display: none;\n",
              "    fill: var(--fill-color);\n",
              "    height: 32px;\n",
              "    padding: 0;\n",
              "    width: 32px;\n",
              "  }\n",
              "\n",
              "  .colab-df-quickchart:hover {\n",
              "    background-color: var(--hover-bg-color);\n",
              "    box-shadow: 0 1px 2px rgba(60, 64, 67, 0.3), 0 1px 3px 1px rgba(60, 64, 67, 0.15);\n",
              "    fill: var(--button-hover-fill-color);\n",
              "  }\n",
              "\n",
              "  .colab-df-quickchart-complete:disabled,\n",
              "  .colab-df-quickchart-complete:disabled:hover {\n",
              "    background-color: var(--disabled-bg-color);\n",
              "    fill: var(--disabled-fill-color);\n",
              "    box-shadow: none;\n",
              "  }\n",
              "\n",
              "  .colab-df-spinner {\n",
              "    border: 2px solid var(--fill-color);\n",
              "    border-color: transparent;\n",
              "    border-bottom-color: var(--fill-color);\n",
              "    animation:\n",
              "      spin 1s steps(1) infinite;\n",
              "  }\n",
              "\n",
              "  @keyframes spin {\n",
              "    0% {\n",
              "      border-color: transparent;\n",
              "      border-bottom-color: var(--fill-color);\n",
              "      border-left-color: var(--fill-color);\n",
              "    }\n",
              "    20% {\n",
              "      border-color: transparent;\n",
              "      border-left-color: var(--fill-color);\n",
              "      border-top-color: var(--fill-color);\n",
              "    }\n",
              "    30% {\n",
              "      border-color: transparent;\n",
              "      border-left-color: var(--fill-color);\n",
              "      border-top-color: var(--fill-color);\n",
              "      border-right-color: var(--fill-color);\n",
              "    }\n",
              "    40% {\n",
              "      border-color: transparent;\n",
              "      border-right-color: var(--fill-color);\n",
              "      border-top-color: var(--fill-color);\n",
              "    }\n",
              "    60% {\n",
              "      border-color: transparent;\n",
              "      border-right-color: var(--fill-color);\n",
              "    }\n",
              "    80% {\n",
              "      border-color: transparent;\n",
              "      border-right-color: var(--fill-color);\n",
              "      border-bottom-color: var(--fill-color);\n",
              "    }\n",
              "    90% {\n",
              "      border-color: transparent;\n",
              "      border-bottom-color: var(--fill-color);\n",
              "    }\n",
              "  }\n",
              "</style>\n",
              "\n",
              "  <script>\n",
              "    async function quickchart(key) {\n",
              "      const quickchartButtonEl =\n",
              "        document.querySelector('#' + key + ' button');\n",
              "      quickchartButtonEl.disabled = true;  // To prevent multiple clicks.\n",
              "      quickchartButtonEl.classList.add('colab-df-spinner');\n",
              "      try {\n",
              "        const charts = await google.colab.kernel.invokeFunction(\n",
              "            'suggestCharts', [key], {});\n",
              "      } catch (error) {\n",
              "        console.error('Error during call to suggestCharts:', error);\n",
              "      }\n",
              "      quickchartButtonEl.classList.remove('colab-df-spinner');\n",
              "      quickchartButtonEl.classList.add('colab-df-quickchart-complete');\n",
              "    }\n",
              "    (() => {\n",
              "      let quickchartButtonEl =\n",
              "        document.querySelector('#df-7000d23c-9236-4bc2-a5bc-aa05b697d0f1 button');\n",
              "      quickchartButtonEl.style.display =\n",
              "        google.colab.kernel.accessAllowed ? 'block' : 'none';\n",
              "    })();\n",
              "  </script>\n",
              "</div>\n",
              "\n",
              "    </div>\n",
              "  </div>\n"
            ],
            "application/vnd.google.colaboratory.intrinsic+json": {
              "type": "dataframe",
              "variable_name": "df"
            }
          },
          "metadata": {},
          "execution_count": 111
        }
      ],
      "source": [
        "# df = df[df.sum(axis=1) != 0]\n",
        "df = df[df.drop(columns=['mp3_path']).sum(axis=1) != 0]\n",
        "df = df.sample(frac=1)\n",
        "df.head()"
      ]
    },
    {
      "cell_type": "code",
      "execution_count": 112,
      "metadata": {
        "colab": {
          "base_uri": "https://localhost:8080/"
        },
        "id": "1NyGYytovt3y",
        "outputId": "91ba71f6-32c1-4219-ef80-339912f8aa18"
      },
      "outputs": [
        {
          "output_type": "stream",
          "name": "stdout",
          "text": [
            "(768, 51) (128, 51) (128, 51)\n"
          ]
        }
      ],
      "source": [
        "train_df = df[:768]\n",
        "val_df = df[768:896]\n",
        "test_df = df[896:896+128]\n",
        "\n",
        "print(train_df.shape, val_df.shape, test_df.shape)"
      ]
    },
    {
      "cell_type": "markdown",
      "metadata": {
        "id": "UEyf5th3zodi"
      },
      "source": [
        "# Training CNNs from Scratch\n",
        "\n",
        "The baseline code is provided so that you can easily start the homework and also compare with your own algorithm.\n",
        "The baseline model extracts mel-spectrogram and has a simple set of CNN model that includes convolutional layer, batch normalization, maxpooling and fully-connected layer."
      ]
    },
    {
      "cell_type": "markdown",
      "metadata": {
        "id": "jLEXvCXUK6GR"
      },
      "source": [
        "## Data Preprocessing"
      ]
    },
    {
      "cell_type": "code",
      "execution_count": 113,
      "metadata": {
        "id": "f5aAoaSPycsj"
      },
      "outputs": [],
      "source": [
        "def to_mel_spectrum(wave, sr=16000, n_fft=516, n_mels=96, secs=6):\n",
        "    S = librosa.feature.melspectrogram(y=wave[:secs * sr],\n",
        "                                       sr=sr,\n",
        "                                       n_fft=n_fft,\n",
        "                                       n_mels=n_mels)\n",
        "    S_dB = librosa.power_to_db(S)\n",
        "    return S_dB"
      ]
    },
    {
      "cell_type": "code",
      "execution_count": 114,
      "metadata": {
        "id": "HfeuWIyfiSsD"
      },
      "outputs": [],
      "source": [
        "def load_data(file_paths):\n",
        "    for fpath in file_paths:\n",
        "        fpath = os.path.join('waveform', fpath)\n",
        "        yield np.load(fpath)"
      ]
    },
    {
      "cell_type": "code",
      "execution_count": 115,
      "metadata": {
        "id": "nzxmppujwhlS"
      },
      "outputs": [],
      "source": [
        "data_train = list(map(to_mel_spectrum, load_data(train_df['mp3_path'])))\n",
        "X_train = jnp.array(data_train)\n",
        "Y_train = jnp.array(train_df.drop('mp3_path', axis=1).values)\n",
        "\n",
        "data_val = list(map(to_mel_spectrum, load_data(val_df['mp3_path'])))\n",
        "X_val = jnp.array(data_val)\n",
        "Y_val = jnp.array(val_df.drop('mp3_path', axis=1).values)\n",
        "\n",
        "data_test = list(map(to_mel_spectrum, load_data(test_df['mp3_path'])))\n",
        "X_test = jnp.array(data_test)\n",
        "Y_test = jnp.array(test_df.drop('mp3_path', axis=1).values)"
      ]
    },
    {
      "cell_type": "markdown",
      "metadata": {
        "id": "STBkkl-ZyqWy"
      },
      "source": [
        "## Iterating in Batches"
      ]
    },
    {
      "cell_type": "code",
      "execution_count": 116,
      "metadata": {
        "id": "FcK8UJ2yIId5"
      },
      "outputs": [],
      "source": [
        "batch_size = 16\n",
        "X_batches = X_train.reshape((X_train.shape[0] // batch_size,\n",
        "                             batch_size,\n",
        "                             X_train.shape[1],\n",
        "                             X_train.shape[2]))\n",
        "Y_batches = Y_train.reshape((Y_train.shape[0] // batch_size,\n",
        "                             batch_size,\n",
        "                             Y_train.shape[1]))"
      ]
    },
    {
      "cell_type": "code",
      "execution_count": 117,
      "metadata": {
        "colab": {
          "base_uri": "https://localhost:8080/"
        },
        "id": "E_hWakjmzt0z",
        "outputId": "10d90315-03c4-4911-ba02-4cee1d6ae827"
      },
      "outputs": [
        {
          "output_type": "execute_result",
          "data": {
            "text/plain": [
              "(16, 50)"
            ]
          },
          "metadata": {},
          "execution_count": 117
        }
      ],
      "source": [
        "Xb, Yb = X_batches[0], Y_batches[0]\n",
        "Xb.shape\n",
        "Yb.shape"
      ]
    },
    {
      "cell_type": "code",
      "execution_count": 118,
      "metadata": {
        "colab": {
          "base_uri": "https://localhost:8080/"
        },
        "id": "YO94a2Dzf12o",
        "outputId": "f1936c23-f551-402a-d278-ba98f0f169d3"
      },
      "outputs": [
        {
          "output_type": "execute_result",
          "data": {
            "text/plain": [
              "(16, 50)"
            ]
          },
          "metadata": {},
          "execution_count": 118
        }
      ],
      "source": [
        "Yb.shape"
      ]
    },
    {
      "cell_type": "markdown",
      "metadata": {
        "id": "DbODI4qpWYeo"
      },
      "source": [
        "## Training a baseline\n",
        "The table below shows the architecture of the baseline.\n",
        "\n",
        "| Layer          | Output Size | Details                 |\n",
        "|----------------|-------------|-------------------------|\n",
        "| input          | B x 1 x 16000 * sec,    | batch x channel x samples |\n",
        "| mel_spec       | B x 96 x 188    | batch x freq x time|\n",
        "| conv + maxpool | B x 32 x 64    | kernel_size=3, stride=1 |\n",
        "| conv + maxpool | B x 32 x 22    | kernel_size=3, stride=1 |\n",
        "| conv + maxpool | B x 32 x 8     | kernel_size=3 stride=1 |\n",
        "| global_avgpool | B x 32 x 1     | -                       |\n",
        "| classifier     | B x 50         | -                       |\n",
        "\n",
        "The class below is an implementation of it:"
      ]
    },
    {
      "cell_type": "code",
      "execution_count": 119,
      "metadata": {
        "id": "VVW5nkSI2ZgS"
      },
      "outputs": [],
      "source": [
        "class Baseline(nn.Module):\n",
        "    @nn.compact\n",
        "    def __call__(self, x):\n",
        "\n",
        "        for _ in range(3):\n",
        "            x = nn.Conv(96, kernel_size=(3, ), strides=(1, ))(x)\n",
        "\n",
        "            x = nn.relu(x)\n",
        "            x = nn.max_pool(x, window_shape=(3, ), strides=(1, ))\n",
        "\n",
        "        x = nn.avg_pool(x, window_shape=(1, ))\n",
        "        x = x.reshape((x.shape[0], -1))  # flatten\n",
        "        x = nn.Dense(50)(x)\n",
        "        x = nn.log_softmax(x)\n",
        "        return x"
      ]
    },
    {
      "cell_type": "code",
      "execution_count": 120,
      "metadata": {
        "id": "kFqIMZ7y175Y"
      },
      "outputs": [],
      "source": [
        "model = Baseline()\n",
        "variables = model.init(jax.random.PRNGKey(0), jnp.ones(Xb.shape))"
      ]
    },
    {
      "cell_type": "code",
      "execution_count": 121,
      "metadata": {
        "colab": {
          "base_uri": "https://localhost:8080/"
        },
        "id": "2I79T8Ze1JIC",
        "outputId": "2e23844c-4469-4a3d-8f44-cf08e165f41e"
      },
      "outputs": [
        {
          "output_type": "execute_result",
          "data": {
            "text/plain": [
              "(16, 50)"
            ]
          },
          "metadata": {},
          "execution_count": 121
        }
      ],
      "source": [
        "logits = Baseline().apply(variables, Xb)\n",
        "logits.shape"
      ]
    },
    {
      "cell_type": "code",
      "execution_count": 122,
      "metadata": {
        "id": "lwCTLKLUJUdf"
      },
      "outputs": [],
      "source": [
        "@jax.jit\n",
        "def cross_entropy_loss(logits, Yb):\n",
        "    return -jnp.mean(jnp.sum(Yb * logits, axis=-1))"
      ]
    },
    {
      "cell_type": "code",
      "execution_count": 123,
      "metadata": {
        "colab": {
          "base_uri": "https://localhost:8080/"
        },
        "id": "yuZSlBKJwwOt",
        "outputId": "82ea288e-e54e-49d7-a4a6-80627dde24da"
      },
      "outputs": [
        {
          "output_type": "execute_result",
          "data": {
            "text/plain": [
              "Array(42.99848, dtype=float32)"
            ]
          },
          "metadata": {},
          "execution_count": 123
        }
      ],
      "source": [
        "logits = Baseline().apply(variables, Xb)\n",
        "cross_entropy_loss(logits, Yb)"
      ]
    },
    {
      "cell_type": "code",
      "execution_count": 124,
      "metadata": {
        "colab": {
          "base_uri": "https://localhost:8080/"
        },
        "id": "38_H4nvygBJ8",
        "outputId": "9e150c24-e962-4209-b2fe-1b458d17fae3"
      },
      "outputs": [
        {
          "output_type": "execute_result",
          "data": {
            "text/plain": [
              "Array(64.11048, dtype=float32)"
            ]
          },
          "metadata": {},
          "execution_count": 124
        }
      ],
      "source": [
        "logits = Baseline().apply(variables, X_train)\n",
        "cross_entropy_loss(logits, Y_train)"
      ]
    },
    {
      "cell_type": "code",
      "execution_count": 125,
      "metadata": {
        "colab": {
          "base_uri": "https://localhost:8080/"
        },
        "id": "vE1oAHV8wk3M",
        "outputId": "cd29207e-370f-4d24-af3b-d9754d4f7ec0"
      },
      "outputs": [
        {
          "output_type": "execute_result",
          "data": {
            "text/plain": [
              "Array(65.5717, dtype=float32)"
            ]
          },
          "metadata": {},
          "execution_count": 125
        }
      ],
      "source": [
        "logits = Baseline().apply(variables, X_val)\n",
        "cross_entropy_loss(logits, Y_val)"
      ]
    },
    {
      "cell_type": "code",
      "execution_count": 126,
      "metadata": {
        "colab": {
          "base_uri": "https://localhost:8080/"
        },
        "id": "ORIwwzgHwlBf",
        "outputId": "a9b42e37-3b09-4edb-bf36-d7caaae7b221"
      },
      "outputs": [
        {
          "output_type": "execute_result",
          "data": {
            "text/plain": [
              "Array(60.839653, dtype=float32)"
            ]
          },
          "metadata": {},
          "execution_count": 126
        }
      ],
      "source": [
        "logits = Baseline().apply(variables, X_test)\n",
        "cross_entropy_loss(logits, Y_test)"
      ]
    },
    {
      "cell_type": "code",
      "execution_count": 127,
      "metadata": {
        "id": "yLn7VMrL0yz6"
      },
      "outputs": [],
      "source": [
        "@jax.jit\n",
        "def train_step(Xb, Yb, state):\n",
        "    def loss_fn(params):\n",
        "        logits = Baseline().apply({'params': params}, Xb)\n",
        "        loss = cross_entropy_loss(logits, Yb)\n",
        "        return loss\n",
        "    grad_fn = jax.grad(loss_fn)\n",
        "    grads = grad_fn(state.params)\n",
        "    state = state.apply_gradients(grads=grads)\n",
        "    return state"
      ]
    },
    {
      "cell_type": "code",
      "execution_count": 134,
      "metadata": {
        "colab": {
          "base_uri": "https://localhost:8080/"
        },
        "id": "tiq2WE5g3Vik",
        "outputId": "922cb15a-6a9a-4c3d-bb72-902b271ee992"
      },
      "outputs": [
        {
          "output_type": "stream",
          "name": "stdout",
          "text": [
            "Iter: 0; Train Loss 11.669482231140137; Val Loss = 11.832786560058594\n",
            "Iter: 10; Train Loss 9.411405563354492; Val Loss = 11.655441284179688\n",
            "Iter: 20; Train Loss 10.462678909301758; Val Loss = 15.156314849853516\n",
            "Iter: 30; Train Loss 6.431402206420898; Val Loss = 13.378546714782715\n",
            "Iter: 40; Train Loss 6.059873580932617; Val Loss = 14.553665161132812\n"
          ]
        }
      ],
      "source": [
        "from flax.training import train_state\n",
        "\n",
        "model = Baseline()\n",
        "variables = model.init(jax.random.PRNGKey(0), jnp.ones(Xb.shape))\n",
        "\n",
        "lr = 0.0005\n",
        "iter = 50\n",
        "\n",
        "params = variables['params']\n",
        "tx = optax.sgd(learning_rate=lr)\n",
        "state = train_state.TrainState.create(apply_fn=model.apply,\n",
        "                                      params=params,\n",
        "                                      tx=tx)\n",
        "for i in range(iter):\n",
        "    for Xb, Yb in zip(X_batches, Y_batches):\n",
        "        state = train_step(Xb, Yb, state)\n",
        "    train_loss = cross_entropy_loss(Baseline().apply({'params': state.params},\n",
        "                                                     X_train),\n",
        "                                    Y_train)\n",
        "    val_loss = cross_entropy_loss(Baseline().apply({'params': state.params},\n",
        "                                                   X_val),\n",
        "                                  Y_val)\n",
        "    if i % 10 == 0:\n",
        "        print('Iter: {}; Train Loss {}; Val Loss = {}'.format(i, train_loss,\n",
        "                                                              val_loss))"
      ]
    },
    {
      "cell_type": "code",
      "execution_count": 149,
      "metadata": {
        "id": "Qk8C4x4zAFRl"
      },
      "outputs": [],
      "source": [
        "\n",
        "def auto_tagging(id, df, X, model, params, topk):\n",
        "    row = df.iloc[id].copy()\n",
        "    audio_sample = [row['mp3_path']]\n",
        "    row = row.drop('mp3_path')\n",
        "    wave = next(load_data(audio_sample))\n",
        "    X = jnp.array([X[id]])\n",
        "    logit = model().apply({'params': params}, X)[0]\n",
        "    idx = logit.argsort()[-topk:][::-1]\n",
        "    column_names = row.index[idx]\n",
        "    topk_tags = row[column_names]\n",
        "\n",
        "\n",
        "\n",
        "    return wave, topk_tags"
      ]
    },
    {
      "cell_type": "code",
      "execution_count": 150,
      "metadata": {
        "colab": {
          "base_uri": "https://localhost:8080/"
        },
        "id": "u3bxgERQ9Ucu",
        "outputId": "f8c1354a-c207-4a30-f239-49eaaec6aec8"
      },
      "outputs": [
        {
          "output_type": "stream",
          "name": "stdout",
          "text": [
            "average of Mean Average Precsision in test set 0.15859375000000003\n",
            "average of Precsision @ 5 in test set 0.2296875\n",
            "average of Mean Average Precsision in val set 0.049140625\n",
            "average of Precsision @ 5 in val set 0.08750000000000001\n",
            "average of Mean Average Precsision in train set 0.06380208333333333\n",
            "average of Precsision @ 5 in train set 0.11744791666666667\n"
          ]
        }
      ],
      "source": [
        "import IPython.display as ipd\n",
        "def mean_average_precision(relevance_list):\n",
        "\n",
        "    relevant_count = 0\n",
        "    precision_sum = 0.0\n",
        "\n",
        "    for i, rel in enumerate(relevance_list,start=1):\n",
        "\n",
        "        if rel == 1:\n",
        "            relevant_count += 1\n",
        "            precision_sum += relevant_count / i  #\n",
        "    return precision_sum / len(relevance_list) if  len(relevance_list) > 0 else 0.0\n",
        "\n",
        "\n",
        "\n",
        "maps=[]\n",
        "accs=[]\n",
        "for j in range(test_df.shape[0]):\n",
        "  wv, lizt = auto_tagging(j, test_df, X_test, Baseline, state.params, 5)\n",
        "\n",
        "  maps.append(mean_average_precision(lizt.values))\n",
        "  accs.append(len([k for k in lizt if k==1 ])/5)\n",
        "\n",
        "# ipd.Audio(wv, rate=16000)\n",
        "print(\"average of Mean Average Precsision in test set \" + str(np.average(maps)))\n",
        "print(\"average of Precsision @ 5 in test set \" + str(np.average(accs)))\n",
        "\n",
        "maps=[]\n",
        "accs=[]\n",
        "for j in range(val_df.shape[0]):\n",
        "  wv, lizt = auto_tagging(j, val_df, X_test, Baseline, state.params, 5)\n",
        "\n",
        "  maps.append(mean_average_precision(lizt.values))\n",
        "  accs.append(len([k for k in lizt if k==1 ])/5)\n",
        "\n",
        "# ipd.Audio(wv, rate=16000)\n",
        "print(\"average of Mean Average Precsision in val set \" + str(np.average(maps)))\n",
        "print(\"average of Precsision @ 5 in val set \" + str(np.average(accs)))\n",
        "\n",
        "maps=[]\n",
        "accs=[]\n",
        "for j in range(train_df.shape[0]):\n",
        "  wv, lizt = auto_tagging(j, train_df, X_test, Baseline, state.params, 5)\n",
        "\n",
        "  maps.append(mean_average_precision(lizt.values))\n",
        "  accs.append(len([k for k in lizt if k==1 ])/5)\n",
        "\n",
        "# ipd.Audio(wv, rate=16000)\n",
        "print(\"average of Mean Average Precsision in train set \" + str(np.average(maps)))\n",
        "print(\"average of Precsision @ 5 in train set \" + str(np.average(accs)))\n",
        "\n"
      ]
    },
    {
      "cell_type": "markdown",
      "metadata": {
        "id": "-kCF13NKY3M7"
      },
      "source": [
        "### [Question 1] Implement the given architecture.\n",
        "Implement a 2D CNN with the architecture below, train, and report a test accuracy of the 2D CNN.\n",
        "\n",
        "| Layer          | Output Size | Details                 |\n",
        "|----------------|-------------|-------------------------|\n",
        "| input          | B x 1 x sample_rate * duration,    | batch x channel (mono) x samples |\n",
        "| mel_spec       | B x 1 x 96 x 188    | batch x channel (mono) x freq x time|\n",
        "| conv + maxpool | B x 64 x 24 x 47    | output_channels=64, kernel_size=3, pooling=(4,4) |\n",
        "| conv + maxpool | B x 128 x 8 x 15    | output_channels=128, kernel_size=3, pooling=(3,3) |\n",
        "| conv + maxpool | B x 128 x  2 x 5     | output_channels=128, kernel_size=3 pooling=(3,3) |\n",
        "| conv + maxpool | B x 64 x 1 x 1      | output_channels=64, kernel_size=3 pooling=(2,5)                    |\n",
        "| classifier     | B x 50         | -                       |\n",
        "\n",
        "\n",
        "Note: you should give appropriate paddings!"
      ]
    },
    {
      "cell_type": "code",
      "source": [
        "import torch\n",
        "import torchaudio\n",
        "import torchaudio.transforms as transforms\n",
        "import pandas as pd\n",
        "import numpy as np\n",
        "from torch.utils.data import Dataset\n",
        "\n",
        "class MusicGenreDataset(Dataset):\n",
        "    def __init__(self, df, sample_rate=16000, n_mels=96):\n",
        "        self.data = df\n",
        "        self.labels = self.data.columns[1:-1]\n",
        "        self.sample_rate = sample_rate\n",
        "        self.mel_transform = transforms.MelSpectrogram(\n",
        "            sample_rate=sample_rate,\n",
        "            n_fft=2048,\n",
        "            hop_length=512,\n",
        "            n_mels=n_mels\n",
        "        )\n",
        "\n",
        "    def __len__(self):\n",
        "        return len(self.data)\n",
        "\n",
        "    def __getitem__(self, idx):\n",
        "        row = self.data.iloc[idx]\n",
        "        npy_path = \"/content/waveform/\"+row[\"mp3_path\"]\n",
        "        waveform = np.load(npy_path)\n",
        "        waveform = torch.tensor(waveform, dtype=torch.float32)\n",
        "\n",
        "        if len(waveform.shape) == 1:\n",
        "            waveform = waveform.unsqueeze(0)\n",
        "        mel_spec = self.mel_transform(waveform)\n",
        "        mel_spec = (mel_spec - mel_spec.mean()) / mel_spec.std()\n",
        "        labels = torch.tensor(row[self.labels].values.astype(float), dtype=torch.float32)\n",
        "\n",
        "        return mel_spec, labels\n"
      ],
      "metadata": {
        "id": "RLvIAOFqLJYH"
      },
      "execution_count": 151,
      "outputs": []
    },
    {
      "cell_type": "code",
      "source": [
        "import torch.nn as nn\n",
        "import torch.nn.functional as F\n",
        "\n",
        "class AudioCNN(nn.Module):\n",
        "    def __init__(self, num_classes=50):\n",
        "        super(AudioCNN, self).__init__()\n",
        "\n",
        "        self.conv1 = nn.Conv2d(1, 64, kernel_size=3, padding=1)\n",
        "        self.pool1 = nn.MaxPool2d(kernel_size=(4, 4))\n",
        "\n",
        "        self.conv2 = nn.Conv2d(64, 128, kernel_size=3, padding=1)\n",
        "        self.pool2 = nn.MaxPool2d(kernel_size=(3, 3))\n",
        "\n",
        "        self.conv3 = nn.Conv2d(128, 128, kernel_size=3, padding=1)\n",
        "        self.pool3 = nn.MaxPool2d(kernel_size=(3, 3))\n",
        "\n",
        "        self.conv4 = nn.Conv2d(128, 64, kernel_size=3, padding=1)\n",
        "        self.pool4 = nn.MaxPool2d(kernel_size=(2, 5))\n",
        "\n",
        "        self.fc = nn.Linear(64, num_classes)\n",
        "\n",
        "    def forward(self, x):\n",
        "        x = self.pool1(F.relu(self.conv1(x)))\n",
        "        x = self.pool2(F.relu(self.conv2(x)))\n",
        "        x = self.pool3(F.relu(self.conv3(x)))\n",
        "        x = self.pool4(F.relu(self.conv4(x)))\n",
        "\n",
        "        x = torch.flatten(x, start_dim=1)\n",
        "        x = self.fc(x)\n",
        "        return x\n"
      ],
      "metadata": {
        "id": "zhb45dD_LM0R"
      },
      "execution_count": 161,
      "outputs": []
    },
    {
      "cell_type": "code",
      "source": [
        "import torch.optim as optim\n",
        "\n",
        "def train(model, train_loader, criterion, optimizer, device, num_epochs=10):\n",
        "    model.to(device)\n",
        "    model.train()\n",
        "\n",
        "    for epoch in range(num_epochs):\n",
        "        running_loss = 0.0\n",
        "\n",
        "        for mel_spec, labels in train_loader:\n",
        "\n",
        "            if   torch.isnan(mel_spec).any():\n",
        "               pass\n",
        "            else:\n",
        "              mel_spec, labels = mel_spec.to(device), labels.to(device)\n",
        "\n",
        "\n",
        "              outputs = model(mel_spec)\n",
        "              loss = criterion(outputs, labels)\n",
        "\n",
        "\n",
        "              optimizer.zero_grad()\n",
        "              loss.backward()\n",
        "              optimizer.step()\n",
        "\n",
        "              running_loss += loss.item()\n",
        "\n",
        "        print(f\"Epoch [{epoch+1}/{num_epochs}], Loss: {running_loss / len(train_loader):.4f}\")\n"
      ],
      "metadata": {
        "id": "iUBgquTxLQRQ"
      },
      "execution_count": 162,
      "outputs": []
    },
    {
      "cell_type": "code",
      "source": [
        "train_df = df[:768]\n",
        "val_df = df[768:896]\n",
        "test_df = df[896:896+128]\n"
      ],
      "metadata": {
        "id": "5SANhSlQGNzE"
      },
      "execution_count": 163,
      "outputs": []
    },
    {
      "cell_type": "code",
      "source": [
        "from torch.utils.data import DataLoader\n",
        "\n",
        "csv_path = \"/content/subset_magnatune.csv\"\n",
        "\n",
        "\n",
        "train_dataset = MusicGenreDataset(train_df)\n",
        "val_dataset = MusicGenreDataset(val_df)\n",
        "test_dataset = MusicGenreDataset(test_df)\n",
        "train_loader = DataLoader(train_dataset, batch_size=15, shuffle=True)\n",
        "\n",
        "\n",
        "num_classes = len(train_dataset.labels)\n",
        "\n",
        "model = AudioCNN(num_classes=num_classes)\n",
        "\n",
        "criterion = nn.BCEWithLogitsLoss()\n",
        "optimizer = optim.Adam(model.parameters(), lr=0.001)\n",
        "\n",
        "\n",
        "device = torch.device(\"cuda\" if torch.cuda.is_available() else \"cpu\")\n",
        "\n",
        "train(model, train_loader, criterion, optimizer, device, num_epochs=20)\n"
      ],
      "metadata": {
        "id": "kDWNCY0pLR0X",
        "outputId": "c923b5a3-d032-45dc-d519-e2dfc2db3812",
        "colab": {
          "base_uri": "https://localhost:8080/"
        }
      },
      "execution_count": 164,
      "outputs": [
        {
          "output_type": "stream",
          "name": "stdout",
          "text": [
            "Epoch [1/20], Loss: 0.2691\n",
            "Epoch [2/20], Loss: 0.2119\n",
            "Epoch [3/20], Loss: 0.2065\n",
            "Epoch [4/20], Loss: 0.1985\n",
            "Epoch [5/20], Loss: 0.1928\n",
            "Epoch [6/20], Loss: 0.1889\n",
            "Epoch [7/20], Loss: 0.1858\n",
            "Epoch [8/20], Loss: 0.1810\n",
            "Epoch [9/20], Loss: 0.1781\n",
            "Epoch [10/20], Loss: 0.1731\n",
            "Epoch [11/20], Loss: 0.1679\n",
            "Epoch [12/20], Loss: 0.1652\n",
            "Epoch [13/20], Loss: 0.1582\n",
            "Epoch [14/20], Loss: 0.1517\n",
            "Epoch [15/20], Loss: 0.1466\n",
            "Epoch [16/20], Loss: 0.1393\n",
            "Epoch [17/20], Loss: 0.1349\n",
            "Epoch [18/20], Loss: 0.1232\n",
            "Epoch [19/20], Loss: 0.1158\n",
            "Epoch [20/20], Loss: 0.1096\n"
          ]
        }
      ]
    },
    {
      "cell_type": "code",
      "source": [
        "\n",
        "import torch\n",
        "import torch.nn as nn\n",
        "\n",
        "model.eval()\n"
      ],
      "metadata": {
        "id": "kfTXWyauUeH2",
        "outputId": "fab55a17-228c-42f8-fcda-dea3d10e69c3",
        "colab": {
          "base_uri": "https://localhost:8080/"
        }
      },
      "execution_count": 165,
      "outputs": [
        {
          "output_type": "execute_result",
          "data": {
            "text/plain": [
              "AudioCNN(\n",
              "  (conv1): Conv2d(1, 64, kernel_size=(3, 3), stride=(1, 1), padding=(1, 1))\n",
              "  (pool1): MaxPool2d(kernel_size=(4, 4), stride=(4, 4), padding=0, dilation=1, ceil_mode=False)\n",
              "  (conv2): Conv2d(64, 128, kernel_size=(3, 3), stride=(1, 1), padding=(1, 1))\n",
              "  (pool2): MaxPool2d(kernel_size=(3, 3), stride=(3, 3), padding=0, dilation=1, ceil_mode=False)\n",
              "  (conv3): Conv2d(128, 128, kernel_size=(3, 3), stride=(1, 1), padding=(1, 1))\n",
              "  (pool3): MaxPool2d(kernel_size=(3, 3), stride=(3, 3), padding=0, dilation=1, ceil_mode=False)\n",
              "  (conv4): Conv2d(128, 64, kernel_size=(3, 3), stride=(1, 1), padding=(1, 1))\n",
              "  (pool4): MaxPool2d(kernel_size=(2, 5), stride=(2, 5), padding=0, dilation=1, ceil_mode=False)\n",
              "  (fc): Linear(in_features=64, out_features=49, bias=True)\n",
              ")"
            ]
          },
          "metadata": {},
          "execution_count": 165
        }
      ]
    },
    {
      "cell_type": "code",
      "source": [
        "import torch\n",
        "import pandas as pd\n",
        "import numpy as np\n",
        "\n",
        "def predict_from_clip_id(clip_id, csv_path, model, top_k=50):\n",
        "\n",
        "    df = pd.read_csv(csv_path)\n",
        "    row = df.iloc[clip_id].copy()\n",
        "    npy_path = \"/content/waveform/\"+row[\"mp3_path\"]\n",
        "    waveform = np.load(npy_path)\n",
        "    waveform = torch.tensor(waveform, dtype=torch.float32).unsqueeze(0)\n",
        "    mel_transform = transforms.MelSpectrogram(sample_rate=16000, n_fft=2048, hop_length=512, n_mels=96)\n",
        "    mel_spec = mel_transform(waveform)\n",
        "    mel_spec = (mel_spec - mel_spec.mean()) / mel_spec.std()\n",
        "    mel_spec = mel_spec.unsqueeze(0)\n",
        "\n",
        "\n",
        "    device = torch.device(\"cuda\" if torch.cuda.is_available() else \"cpu\")\n",
        "    model.to(device)\n",
        "    mel_spec = mel_spec.to(device)\n",
        "\n",
        "\n",
        "\n",
        "    with torch.no_grad():\n",
        "        logits = model(mel_spec)\n",
        "\n",
        "        probabilities = torch.sigmoid(logits)\n",
        "\n",
        "\n",
        "    top_probs, top_indices = torch.topk(probabilities, 5)\n",
        "    top_classes = [df.columns[1:-1][i] for i in top_indices[0].tolist()]\n",
        "    labs =[df.loc[clip_id,i] for i in top_classes]\n",
        "\n",
        "    return waveform, list(zip(top_classes,labs, top_probs[0].tolist()))\n",
        "\n",
        "\n",
        "maps=[]\n",
        "accs=[]\n",
        "for j in range(896,896+128):\n",
        "  wv, lizt = predict_from_clip_id(j,\"/content/subset_magnatune.csv\",model)\n",
        "  for i in lizt:\n",
        "    maps.append(mean_average_precision([k[1] for k in lizt]))\n",
        "    accs.append(len([k[1] for k in lizt if k[1]==1 ])/5)\n",
        "\n",
        "# ipd.Audio(wv, rate=16000)\n",
        "print(\"average of Mean Average Precsision in test set \" + str(np.average(maps)))\n",
        "print(\"average of Precsision @ 5  in test set \" + str(np.average(accs)))\n",
        "\n",
        "\n"
      ],
      "metadata": {
        "id": "6OMdgN-DNc8q",
        "outputId": "0a89c5f6-34fa-4b6b-a225-56309b05d186",
        "colab": {
          "base_uri": "https://localhost:8080/"
        }
      },
      "execution_count": 166,
      "outputs": [
        {
          "output_type": "stream",
          "name": "stdout",
          "text": [
            "average of Mean Average Precsision in test set 0.011302083333333334\n",
            "average of Precsision @ 5  in test set 0.0265625\n"
          ]
        }
      ]
    },
    {
      "cell_type": "code",
      "source": [
        "maps=[]\n",
        "accs=[]\n",
        "for j in range(768,896):\n",
        "  wv, lizt = predict_from_clip_id(j,\"/content/subset_magnatune.csv\",model)\n",
        "  for i in lizt:\n",
        "    maps.append(mean_average_precision([k[1] for k in lizt]))\n",
        "    accs.append(len([k[1] for k in lizt if k[1]==1 ])/5)\n",
        "# ipd.Audio(wv, rate=16000)\n",
        "print(\"average of Mean Average Precsision in val set \" + str(np.average(maps)))\n",
        "print(\"average of Precsision @ 5  in val set \" + str(np.average(accs)))"
      ],
      "metadata": {
        "colab": {
          "base_uri": "https://localhost:8080/"
        },
        "id": "oxRc75NewVMo",
        "outputId": "d45289a5-e4b4-49ab-dbcb-c90efede2338"
      },
      "execution_count": 167,
      "outputs": [
        {
          "output_type": "stream",
          "name": "stdout",
          "text": [
            "average of Mean Average Precsision in val set 0.005078125\n",
            "average of Precsision @ 5  in val set 0.0171875\n"
          ]
        }
      ]
    },
    {
      "cell_type": "code",
      "source": [
        "\n",
        "\n",
        "maps=[]\n",
        "accs=[]\n",
        "for j in range(0,768):\n",
        "  wv, lizt = predict_from_clip_id(j,\"/content/subset_magnatune.csv\",model)\n",
        "  for i in lizt:\n",
        "    maps.append(mean_average_precision([k[1] for k in lizt]))\n",
        "    accs.append(len([k[1] for k in lizt if k[1]==1 ])/5)\n",
        "# ipd.Audio(wv, rate=16000)\n",
        "print(\"average of Mean Average Precsision in train set \" + str(np.average(maps)))\n",
        "print(\"average of Precsision @ 5  in train set \" + str(np.average(accs)))"
      ],
      "metadata": {
        "colab": {
          "base_uri": "https://localhost:8080/"
        },
        "id": "k8G4sM1AwZZY",
        "outputId": "a1f416d7-43f6-44c1-f852-4b514b2fbec0"
      },
      "execution_count": 168,
      "outputs": [
        {
          "output_type": "stream",
          "name": "stdout",
          "text": [
            "average of Mean Average Precsision in train set 0.007530381944444445\n",
            "average of Precsision @ 5  in train set 0.01875\n"
          ]
        }
      ]
    },
    {
      "cell_type": "markdown",
      "metadata": {
        "id": "8D0uZmjaGSnC"
      },
      "source": [
        "### [Question 2] Improve the performenace.\n",
        "Now it is your turn. You should improve the baseline code with your own algorithm. There are many ways to improve it. The followings are possible ideas:\n",
        "\n",
        "* You can try 1D CNN or 2D CNN models and choose different model parameters:\n",
        "    * Filter size\n",
        "    * Pooling size\n",
        "    * Stride size\n",
        "    * Number of filters\n",
        "    * Model depth\n",
        "    * Regularization: L2/L1 and Dropout\n",
        "\n",
        "* You should try different hyperparameters to train the model and optimizers:\n",
        "    * Learning rate\n",
        "    * Model depth\n",
        "    * Optimizers: SGD (with Nesterov momentum), Adam, RMSProp, ...\n",
        "\n",
        "* You can try training a model using both mel-spectrograms and features extracted using the pre-trained models. However, end-to-end training using additional external data is prohibited. (Performance doesn't have a huge impact on grading. don't waste time)\n",
        "\n",
        "\n",
        "* You can try different parameters (e.g. hop and window size) to extract mel-spectrogram or different features as input to the network (e.g. MFCC, chroma features ...).\n",
        "\n",
        "* You can also use ResNet or other CNNs with skip connections.\n",
        "\n",
        "* Furthermore, you can augment data using digital audio effects."
      ]
    },
    {
      "cell_type": "code",
      "source": [
        "import torch\n",
        "import torch.nn as nn\n",
        "import torch.nn.functional as F\n",
        "\n",
        "class AudioCNN_v2(nn.Module):\n",
        "    def __init__(self, num_classes=50):\n",
        "        super(AudioCNN_v2, self).__init__()\n",
        "\n",
        "        self.conv1 = nn.Conv2d(1, 64, kernel_size=3, padding=1)\n",
        "        self.bn1 = nn.BatchNorm2d(64)\n",
        "        self.pool1 = nn.MaxPool2d(kernel_size=(4, 4))\n",
        "\n",
        "        self.conv2 = nn.Conv2d(64, 128, kernel_size=3, padding=1)\n",
        "        self.bn2 = nn.BatchNorm2d(128)\n",
        "        self.pool2 = nn.MaxPool2d(kernel_size=(3, 3))\n",
        "\n",
        "        self.conv3 = nn.Conv2d(128, 128, kernel_size=3, padding=1)\n",
        "        self.bn3 = nn.BatchNorm2d(128)\n",
        "        self.pool3 = nn.MaxPool2d(kernel_size=(3, 3))\n",
        "\n",
        "        self.conv4 = nn.Conv2d(128, 64, kernel_size=3, padding=1)\n",
        "        self.bn4 = nn.BatchNorm2d(64)\n",
        "        self.pool4 = nn.MaxPool2d(kernel_size=(2, 5))\n",
        "\n",
        "        self.global_avg_pool = nn.AdaptiveAvgPool2d(1)  # Global Average Pooling\n",
        "        self.fc = nn.Linear(64, num_classes)\n",
        "\n",
        "    def forward(self, x):\n",
        "        x = self.pool1(F.relu(self.bn1(self.conv1(x))))\n",
        "        x = self.pool2(F.relu(self.bn2(self.conv2(x))))\n",
        "        x = self.pool3(F.relu(self.bn3(self.conv3(x))))\n",
        "        x = self.pool4(F.relu(self.bn4(self.conv4(x))))\n",
        "\n",
        "        x = self.global_avg_pool(x)\n",
        "        x = torch.flatten(x, start_dim=1)\n",
        "        x = self.fc(x)\n",
        "        return x\n"
      ],
      "metadata": {
        "id": "UHyONVnlyg64"
      },
      "execution_count": 169,
      "outputs": []
    },
    {
      "cell_type": "code",
      "source": [
        "def train_v2(model, train_loader, criterion, optimizer, device, num_epochs=10):\n",
        "    model.to(device)\n",
        "    model.train()\n",
        "\n",
        "    for epoch in range(num_epochs):\n",
        "        running_loss = 0.0\n",
        "\n",
        "        for mel_spec, labels in train_loader:\n",
        "            # Handle NaN values\n",
        "            mel_spec[torch.isnan(mel_spec)] = 0\n",
        "\n",
        "            mel_spec, labels = mel_spec.to(device), labels.to(device)\n",
        "\n",
        "            optimizer.zero_grad()  # Moved zero_grad to before forward pass\n",
        "            outputs = model(mel_spec)\n",
        "            loss = criterion(outputs, labels)\n",
        "\n",
        "            loss.backward()\n",
        "            optimizer.step()\n",
        "\n",
        "            running_loss += loss.item()\n",
        "\n",
        "        print(f\"Epoch [{epoch+1}/{num_epochs}], Loss: {running_loss / len(train_loader):.4f}\")\n"
      ],
      "metadata": {
        "id": "BkqWYY-LzApw"
      },
      "execution_count": 170,
      "outputs": []
    },
    {
      "cell_type": "code",
      "source": [
        "from torch.utils.data import DataLoader\n",
        "\n",
        "csv_path = \"/content/subset_magnatune.csv\"\n",
        "\n",
        "\n",
        "train_dataset = MusicGenreDataset(train_df)\n",
        "val_dataset = MusicGenreDataset(val_df)\n",
        "test_dataset = MusicGenreDataset(test_df)\n",
        "train_loader = DataLoader(train_dataset, batch_size=32, shuffle=True)\n",
        "\n",
        "\n",
        "num_classes = len(train_dataset.labels)\n",
        "\n",
        "model = AudioCNN_v2(num_classes=num_classes)\n",
        "\n",
        "criterion = nn.BCEWithLogitsLoss()\n",
        "optimizer = optim.Adam(model.parameters(), lr=0.001)\n",
        "\n",
        "\n",
        "device = torch.device(\"cuda\" if torch.cuda.is_available() else \"cpu\")\n",
        "\n",
        "train_v2(model, train_loader, criterion, optimizer, device, num_epochs=20)\n"
      ],
      "metadata": {
        "colab": {
          "base_uri": "https://localhost:8080/"
        },
        "id": "c1g9nn-3zH0Z",
        "outputId": "b5cd03d0-0cd4-48e7-8cfa-757e6fb0c2b0"
      },
      "execution_count": 171,
      "outputs": [
        {
          "output_type": "stream",
          "name": "stdout",
          "text": [
            "Epoch [1/20], Loss: 0.3853\n",
            "Epoch [2/20], Loss: 0.2175\n",
            "Epoch [3/20], Loss: 0.2035\n",
            "Epoch [4/20], Loss: 0.1973\n",
            "Epoch [5/20], Loss: 0.1912\n",
            "Epoch [6/20], Loss: 0.1866\n",
            "Epoch [7/20], Loss: 0.1824\n",
            "Epoch [8/20], Loss: 0.1766\n",
            "Epoch [9/20], Loss: 0.1718\n",
            "Epoch [10/20], Loss: 0.1672\n",
            "Epoch [11/20], Loss: 0.1621\n",
            "Epoch [12/20], Loss: 0.1560\n",
            "Epoch [13/20], Loss: 0.1503\n",
            "Epoch [14/20], Loss: 0.1435\n",
            "Epoch [15/20], Loss: 0.1365\n",
            "Epoch [16/20], Loss: 0.1300\n",
            "Epoch [17/20], Loss: 0.1256\n",
            "Epoch [18/20], Loss: 0.1219\n",
            "Epoch [19/20], Loss: 0.1119\n",
            "Epoch [20/20], Loss: 0.1037\n"
          ]
        }
      ]
    },
    {
      "cell_type": "code",
      "source": [
        "model.eval()\n",
        "maps=[]\n",
        "accs=[]\n",
        "for j in range(896,896+128):\n",
        "  wv, lizt = predict_from_clip_id(j,\"/content/subset_magnatune.csv\",model)\n",
        "  for i in lizt:\n",
        "    maps.append(mean_average_precision([k[1] for k in lizt]))\n",
        "    accs.append(len([k[1] for k in lizt if k[1]==1 ])/5)\n",
        "\n",
        "# ipd.Audio(wv, rate=16000)\n",
        "print(\"average of Mean Average Precsision in test set \" + str(np.average(maps)))\n",
        "print(\"average of Precsision @5 in test set \" + str(np.average(accs)))\n",
        "\n",
        "maps=[]\n",
        "accs=[]\n",
        "for j in range(768,896):\n",
        "  wv, lizt = predict_from_clip_id(j,\"/content/subset_magnatune.csv\",model)\n",
        "  for i in lizt:\n",
        "    maps.append(mean_average_precision([k[1] for k in lizt]))\n",
        "    accs.append(len([k[1] for k in lizt if k[1]==1 ])/5)\n",
        "# ipd.Audio(wv, rate=16000)\n",
        "print(\"average of Mean Average Precsision in val set \" + str(np.average(maps)))\n",
        "print(\"average of Precsision @5  in val set \" + str(np.average(accs)))\n",
        "\n",
        "maps=[]\n",
        "accs=[]\n",
        "for j in range(0,768):\n",
        "  wv, lizt = predict_from_clip_id(j,\"/content/subset_magnatune.csv\",model)\n",
        "  for i in lizt:\n",
        "    maps.append(mean_average_precision([k[1] for k in lizt]))\n",
        "    accs.append(len([k[1] for k in lizt if k[1]==1 ])/5)\n",
        "# ipd.Audio(wv, rate=16000)\n",
        "print(\"average of Mean Average Precsision in train set \" + str(np.average(maps)))\n",
        "print(\"average of Precsision @5  in train set \" + str(np.average(accs)))"
      ],
      "metadata": {
        "colab": {
          "base_uri": "https://localhost:8080/"
        },
        "id": "hzOvwGUD-YQ3",
        "outputId": "5176f5d0-b1f8-4ac7-ac4c-6357e428e0e8"
      },
      "execution_count": 172,
      "outputs": [
        {
          "output_type": "stream",
          "name": "stdout",
          "text": [
            "average of Mean Average Precsision in test set 0.014348958333333333\n",
            "average of Precsision @5 in test set 0.0375\n",
            "average of Mean Average Precsision in val set 0.007291666666666667\n",
            "average of Precsision @5  in val set 0.015625\n",
            "average of Mean Average Precsision in train set 0.007712673611111111\n",
            "average of Precsision @5  in train set 0.018229166666666668\n"
          ]
        }
      ]
    },
    {
      "cell_type": "markdown",
      "metadata": {
        "id": "ef-Qjx1rdYEY"
      },
      "source": [
        "### [Question 3] Improve the performance.\n",
        "Now it is your turn. You should improve the baseline code with your own algorithm. There are many ways to improve it. The followings are possible ideas:\n",
        "\n",
        "* Change backbone model\n",
        "  - https://arxiv.org/abs/1711.02520\n",
        "  - https://arxiv.org/abs/2006.00751"
      ]
    },
    {
      "cell_type": "code",
      "source": [
        "import torch\n",
        "import torch.nn as nn\n",
        "import torch.nn.functional as F\n",
        "import torch.optim as optim\n",
        "\n",
        "class AudioCNN_Pro(nn.Module):\n",
        "    def __init__(self, num_classes=50):\n",
        "        super(AudioCNN_Pro, self).__init__()\n",
        "\n",
        "        self.conv1 = nn.Conv2d(1, 64, kernel_size=3, padding=1)\n",
        "        self.bn1 = nn.BatchNorm2d(64)\n",
        "        self.pool1 = nn.MaxPool2d(kernel_size=(4, 4))\n",
        "\n",
        "        self.conv2 = nn.Conv2d(64, 128, kernel_size=3, padding=1)\n",
        "        self.bn2 = nn.BatchNorm2d(128)\n",
        "        self.pool2 = nn.MaxPool2d(kernel_size=(3, 3))\n",
        "\n",
        "        self.conv3 = nn.Conv2d(128, 256, kernel_size=3, padding=1)\n",
        "        self.bn3 = nn.BatchNorm2d(256)\n",
        "        self.pool3 = nn.MaxPool2d(kernel_size=(3, 3))\n",
        "\n",
        "        self.conv4 = nn.Conv2d(256, 256, kernel_size=3, padding=1)\n",
        "        self.bn4 = nn.BatchNorm2d(256)\n",
        "        self.pool4 = nn.MaxPool2d(kernel_size=(2, 2))\n",
        "\n",
        "        self.conv5 = nn.Conv2d(256, 512, kernel_size=3, padding=1)\n",
        "        self.bn5 = nn.BatchNorm2d(512)\n",
        "\n",
        "        self.adaptive_pool = nn.AdaptiveAvgPool2d((1, 1))\n",
        "\n",
        "        self.fc1 = nn.Linear(512, 256)\n",
        "        self.dropout = nn.Dropout(0.3)\n",
        "        self.fc2 = nn.Linear(256, num_classes)\n",
        "\n",
        "    def forward(self, x):\n",
        "        x = self.pool1(F.relu(self.bn1(self.conv1(x))))\n",
        "        x = self.pool2(F.relu(self.bn2(self.conv2(x))))\n",
        "        x = self.pool3(F.relu(self.bn3(self.conv3(x))))\n",
        "        x = self.pool4(F.relu(self.bn4(self.conv4(x))))\n",
        "        x = F.relu(self.bn5(self.conv5(x)))\n",
        "\n",
        "        x = self.adaptive_pool(x)\n",
        "        x = torch.flatten(x, start_dim=1)\n",
        "\n",
        "        x = F.relu(self.fc1(x))\n",
        "        x = self.dropout(x)\n",
        "        x = self.fc2(x)\n",
        "\n",
        "        return x\n",
        "\n",
        "def train_v3(model, train_loader, criterion, optimizer, device, num_epochs=10, accumulation_steps=4):\n",
        "    model.to(device)\n",
        "    model.train()\n",
        "\n",
        "    scheduler = optim.lr_scheduler.CosineAnnealingLR(optimizer, T_max=num_epochs)\n",
        "\n",
        "    for epoch in range(num_epochs):\n",
        "        running_loss = 0.0\n",
        "        optimizer.zero_grad()\n",
        "\n",
        "        for i, (mel_spec, labels) in enumerate(train_loader):\n",
        "            if torch.isnan(mel_spec).any():\n",
        "                continue\n",
        "\n",
        "            mel_spec, labels = mel_spec.to(device), labels.to(device)\n",
        "\n",
        "            outputs = model(mel_spec)\n",
        "            loss = criterion(outputs, labels) / accumulation_steps\n",
        "\n",
        "            loss.backward()\n",
        "\n",
        "            if (i + 1) % accumulation_steps == 0:\n",
        "                optimizer.step()\n",
        "                optimizer.zero_grad()\n",
        "\n",
        "            running_loss += loss.item() * accumulation_steps\n",
        "\n",
        "        scheduler.step()\n",
        "        print(f\"Epoch [{epoch+1}/{num_epochs}], Loss: {running_loss / len(train_loader):.4f}\")\n"
      ],
      "metadata": {
        "id": "LfV-azYv-_UH"
      },
      "execution_count": 173,
      "outputs": []
    },
    {
      "cell_type": "code",
      "source": [
        "\n",
        "from torch.utils.data import DataLoader\n",
        "\n",
        "csv_path = \"/content/subset_magnatune.csv\"\n",
        "\n",
        "\n",
        "train_dataset = MusicGenreDataset(train_df)\n",
        "val_dataset = MusicGenreDataset(val_df)\n",
        "test_dataset = MusicGenreDataset(test_df)\n",
        "train_loader = DataLoader(train_dataset, batch_size=32, shuffle=True)\n",
        "\n",
        "\n",
        "num_classes = len(train_dataset.labels)\n",
        "\n",
        "model = AudioCNN_Pro(num_classes=num_classes)\n",
        "\n",
        "criterion = nn.BCEWithLogitsLoss()\n",
        "optimizer = optim.AdamW(model.parameters(), lr=0.0005, weight_decay=1e-5)\n",
        "\n",
        "device = torch.device(\"cuda\" if torch.cuda.is_available() else \"cpu\")\n",
        "\n",
        "train_v3(model, train_loader, criterion, optimizer, device, num_epochs=20)\n"
      ],
      "metadata": {
        "colab": {
          "base_uri": "https://localhost:8080/"
        },
        "id": "m4HOWr7o_soj",
        "outputId": "146c9b9a-1595-414f-eb12-7ba3f1d15c46"
      },
      "execution_count": 174,
      "outputs": [
        {
          "output_type": "stream",
          "name": "stdout",
          "text": [
            "Epoch [1/20], Loss: 0.5710\n",
            "Epoch [2/20], Loss: 0.3691\n",
            "Epoch [3/20], Loss: 0.2366\n",
            "Epoch [4/20], Loss: 0.2172\n",
            "Epoch [5/20], Loss: 0.2155\n",
            "Epoch [6/20], Loss: 0.2072\n",
            "Epoch [7/20], Loss: 0.2024\n",
            "Epoch [8/20], Loss: 0.1962\n",
            "Epoch [9/20], Loss: 0.1947\n",
            "Epoch [10/20], Loss: 0.1930\n",
            "Epoch [11/20], Loss: 0.1898\n",
            "Epoch [12/20], Loss: 0.1855\n",
            "Epoch [13/20], Loss: 0.1835\n",
            "Epoch [14/20], Loss: 0.1821\n",
            "Epoch [15/20], Loss: 0.1800\n",
            "Epoch [16/20], Loss: 0.1802\n",
            "Epoch [17/20], Loss: 0.1781\n",
            "Epoch [18/20], Loss: 0.1753\n",
            "Epoch [19/20], Loss: 0.1762\n",
            "Epoch [20/20], Loss: 0.1761\n"
          ]
        }
      ]
    },
    {
      "cell_type": "code",
      "source": [
        "model.eval()\n",
        "maps=[]\n",
        "accs=[]\n",
        "for j in range(896,896+128):\n",
        "  wv, lizt = predict_from_clip_id(j,\"/content/subset_magnatune.csv\",model)\n",
        "  for i in lizt:\n",
        "    maps.append(mean_average_precision([k[1] for k in lizt]))\n",
        "    accs.append(len([k[1] for k in lizt if k[1]==1 ])/5)\n",
        "\n",
        "# ipd.Audio(wv, rate=16000)\n",
        "print(\"average of Mean Average Precsision in test set \" + str(np.average(maps)))\n",
        "print(\"average of Precsision @ 5 in test set \" + str(np.average(accs)))\n",
        "\n",
        "maps=[]\n",
        "accs=[]\n",
        "for j in range(768,896):\n",
        "  wv, lizt = predict_from_clip_id(j,\"/content/subset_magnatune.csv\",model)\n",
        "  for i in lizt:\n",
        "    maps.append(mean_average_precision([k[1] for k in lizt]))\n",
        "    accs.append(len([k[1] for k in lizt if k[1]==1 ])/5)\n",
        "# ipd.Audio(wv, rate=16000)\n",
        "print(\"average of Mean Average Precsision in val set \" + str(np.average(maps)))\n",
        "print(\"average of Precsision @ 5 in val set \" + str(np.average(accs)))\n",
        "\n",
        "maps=[]\n",
        "accs=[]\n",
        "for j in range(0,768):\n",
        "  wv, lizt = predict_from_clip_id(j,\"/content/subset_magnatune.csv\",model)\n",
        "  for i in lizt:\n",
        "    maps.append(mean_average_precision([k[1] for k in lizt]))\n",
        "    accs.append(len([k[1] for k in lizt if k[1]==1 ])/5)\n",
        "# ipd.Audio(wv, rate=16000)\n",
        "print(\"average of Mean Average Precsision in train set \" + str(np.average(maps)))\n",
        "print(\"average of Precsision @ 5 in train set \" + str(np.average(accs)))"
      ],
      "metadata": {
        "colab": {
          "base_uri": "https://localhost:8080/"
        },
        "id": "84gG0vVd_9Pb",
        "outputId": "8d3e6815-d904-4bdd-e238-4051c107e2c5"
      },
      "execution_count": 175,
      "outputs": [
        {
          "output_type": "stream",
          "name": "stdout",
          "text": [
            "average of Mean Average Precsision in test set 0.012630208333333334\n",
            "average of Precsision @ 5 in test set 0.0328125\n",
            "average of Mean Average Precsision in val set 0.008229166666666666\n",
            "average of Precsision @ 5 in val set 0.0203125\n",
            "average of Mean Average Precsision in train set 0.00787326388888889\n",
            "average of Precsision @ 5 in train set 0.01953125\n"
          ]
        }
      ]
    },
    {
      "cell_type": "code",
      "execution_count": null,
      "metadata": {
        "id": "3GtNCNZV5Ddj"
      },
      "outputs": [],
      "source": []
    }
  ],
  "metadata": {
    "colab": {
      "name": "Aula 12 - CNNs - JAX.ipynb",
      "provenance": [],
      "gpuType": "T4",
      "include_colab_link": true
    },
    "kernelspec": {
      "display_name": "Python 3",
      "name": "python3"
    },
    "language_info": {
      "codemirror_mode": {
        "name": "ipython",
        "version": 3
      },
      "file_extension": ".py",
      "mimetype": "text/x-python",
      "name": "python",
      "nbconvert_exporter": "python",
      "pygments_lexer": "ipython3",
      "version": "3.11.3"
    },
    "accelerator": "GPU"
  },
  "nbformat": 4,
  "nbformat_minor": 0
}